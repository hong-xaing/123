{
 "cells": [
  {
   "cell_type": "code",
   "execution_count": 48,
   "id": "ab503bba",
   "metadata": {},
   "outputs": [
    {
     "name": "stdout",
     "output_type": "stream",
     "text": [
      "台中市西屯區\n",
      "你的名字:鴻祥\n",
      "你的姓氏:呂\n",
      "姓氏: 呂\n"
     ]
    }
   ],
   "source": [
    "\n",
    "class Email:\n",
    "    def set_address(self,address):\n",
    "        print(address)\n",
    "    def set_name(self,firstName,lastName):\n",
    "        print(\"你的名字:\"+firstName)\n",
    "        print(\"你的姓氏:\"+lastName)\n",
    "        self.last_name = lastName\n",
    "    \n",
    "    def show_last_name(self):\n",
    "        print(\"姓氏: \" + self.last_name)\n",
    "#         show_last_name = self.mailLastName\n",
    "#         return show_last_name\n",
    "toTaichungMail = Email()\n",
    "toTaichungMail.set_address(\"台中市西屯區\")\n",
    "# firstName =input(\"請輸入你的名字 : \")\n",
    "# lastName = input(\"請輸入你的姓氏 : \")\n",
    "# youname.set_name(firstName,lastName)\n",
    "toTaichungMail.set_name(\"鴻祥\",\"呂\")\n",
    "toTaichungMail.show_last_name()\n"
   ]
  },
  {
   "cell_type": "code",
   "execution_count": null,
   "id": "2c3fbcd4",
   "metadata": {},
   "outputs": [],
   "source": [
    "class Calculator:\n",
    "    def set_value(self,a,b):\n",
    "        self.value = a \n",
    "        self.value = b \n",
    "    def add(self):\n",
    "        c = self.value1 + self.value2\n",
    "        print(c)\n",
    "    def iii(self):\n",
    "        c = self.value1 - self.value2\n",
    "        print(c)\n",
    "        "
   ]
  },
  {
   "cell_type": "code",
   "execution_count": 82,
   "id": "c83d5d8a",
   "metadata": {},
   "outputs": [
    {
     "name": "stdout",
     "output_type": "stream",
     "text": [
      "1\n",
      "99\n",
      "99.95\n"
     ]
    }
   ],
   "source": [
    "# class method1 -> 設定血量 , method2 -> 顯示血量\n",
    "class method:\n",
    "    def set_blood(self,a):\n",
    "        self.blood1 = int(a) #設定血量\n",
    "        \n",
    "    def show_blood(self):\n",
    "        c = self.blood1\n",
    "        return (c)\n",
    "# class method1 -> 設定攻擊力 , method2 -> 顯示攻擊力\n",
    "    def set_attack(self,b):\n",
    "        self.attack = int(b)\n",
    "    def show_attack(self):\n",
    "        show_atk = self.attack\n",
    "        return (show_atk)\n",
    "# class method1 -> 設定防禦力 , method2 -> 顯示防禦力\n",
    "    def set_defense(self,c):\n",
    "        self.defense = int(c)\n",
    "    def show_defense(self):\n",
    "        show_def = self.defense\n",
    "        return (show_def)\n",
    "blood = method()\n",
    "blood.set_blood(1)\n",
    "my_blood = blood.show_blood()  #要有人去接他。用ＭＥ接\n",
    "print(my_blood)\n",
    "# ------------------------------------------------------------------------------------------\n",
    "atk = attack()\n",
    "atk.set_attack(100)\n",
    "my_atk = atk.show_attack()\n",
    "print(my_atk-my_blood)\n",
    "# ------------------------------------------------------------------------------------------\n",
    "def_ = Defense()\n",
    "def_.set_defense(20)\n",
    "show_def1 = def_.show_defense()\n",
    "print(show_atk1-(me/(me*show_def1)))\n",
    "\n",
    "\n"
   ]
  },
  {
   "cell_type": "code",
   "execution_count": 94,
   "id": "d98b9e86",
   "metadata": {},
   "outputs": [
    {
     "name": "stdout",
     "output_type": "stream",
     "text": [
      "1\n"
     ]
    }
   ],
   "source": [
    "# class method1 -> 設定血量 , method2 -> 顯示血量\n",
    "class method:\n",
    "    def set_blood(self,a):\n",
    "        self.blood1 = int(a) #設定血量\n",
    "        \n",
    "    def show_blood(self):\n",
    "        c = self.blood1\n",
    "        return (c)\n",
    "# class method1 -> 設定攻擊力 , method2 -> 顯示攻擊力\n",
    "    def set_attack(self,b):\n",
    "        self.attack = int(b)\n",
    "    def show_attack(self):\n",
    "        show_atk = self.attack\n",
    "        return (show_atk)\n",
    "# class method1 -> 設定防禦力 , method2 -> 顯示防禦力\n",
    "    def set_defense(self,c):\n",
    "        self.defense = int(c)\n",
    "    def show_defense(self):\n",
    "        show_def = self.defense\n",
    "        return (show_def)\n",
    "hp = method()\n",
    "hp.set_blood(1)\n",
    "my_blood = hp.show_blood()  #要有人去接他。用ＭＥ接\n",
    "print(my_blood)\n",
    "# ------------------------------------------------------------------------------------------\n",
    "atk = attack()\n",
    "atk.set_attack(100)\n",
    "my_atk = atk.show_attack()\n",
    "print(my_atk-my_blood)\n",
    "# ------------------------------------------------------------------------------------------\n",
    "def_ = Defense()\n",
    "def_.set_defense(20)\n",
    "show_def1 = def_.show_defense()\n",
    "print(show_atk1-(me/(me*show_def1)))\n",
    "\n",
    "\n",
    "\n"
   ]
  },
  {
   "cell_type": "code",
   "execution_count": null,
   "id": "b07a3ff4",
   "metadata": {},
   "outputs": [],
   "source": []
  }
 ],
 "metadata": {
  "kernelspec": {
   "display_name": "Python 3 (ipykernel)",
   "language": "python",
   "name": "python3"
  },
  "language_info": {
   "codemirror_mode": {
    "name": "ipython",
    "version": 3
   },
   "file_extension": ".py",
   "mimetype": "text/x-python",
   "name": "python",
   "nbconvert_exporter": "python",
   "pygments_lexer": "ipython3",
   "version": "3.10.9"
  }
 },
 "nbformat": 4,
 "nbformat_minor": 5
}
