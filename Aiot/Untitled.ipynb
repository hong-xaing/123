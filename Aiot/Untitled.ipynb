{
 "cells": [
  {
   "cell_type": "code",
   "execution_count": null,
   "id": "1d951980",
   "metadata": {},
   "outputs": [],
   "source": [
    "10分鐘email\n",
    "https://10minutemail.net/?lang=zh-tw\n",
    "\n",
    "Rhino\n",
    "https://www.rhino3d.com/tw/download/"
   ]
  },
  {
   "cell_type": "code",
   "execution_count": null,
   "id": "ff04bd0b",
   "metadata": {},
   "outputs": [],
   "source": [
    "afs59340@zslsz.com"
   ]
  },
  {
   "cell_type": "code",
   "execution_count": null,
   "id": "a46e7123",
   "metadata": {},
   "outputs": [],
   "source": [
    "指令:ExtrudeCrv\n",
    "Cap"
   ]
  },
  {
   "cell_type": "code",
   "execution_count": null,
   "id": "9f47f586",
   "metadata": {},
   "outputs": [],
   "source": []
  }
 ],
 "metadata": {
  "kernelspec": {
   "display_name": "Python 3 (ipykernel)",
   "language": "python",
   "name": "python3"
  },
  "language_info": {
   "codemirror_mode": {
    "name": "ipython",
    "version": 3
   },
   "file_extension": ".py",
   "mimetype": "text/x-python",
   "name": "python",
   "nbconvert_exporter": "python",
   "pygments_lexer": "ipython3",
   "version": "3.10.9"
  }
 },
 "nbformat": 4,
 "nbformat_minor": 5
}
