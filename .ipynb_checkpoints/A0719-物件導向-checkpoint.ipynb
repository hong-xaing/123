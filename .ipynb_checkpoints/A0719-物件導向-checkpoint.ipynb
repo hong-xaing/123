{
 "cells": [
  {
   "cell_type": "code",
   "execution_count": 48,
   "id": "ec0254d4",
   "metadata": {},
   "outputs": [
    {
     "name": "stdout",
     "output_type": "stream",
     "text": [
      "台中市西屯區\n",
      "你的名字:鴻祥\n",
      "你的姓氏:呂\n",
      "姓氏: 呂\n"
     ]
    }
   ],
   "source": [
    "\n",
    "class Email:\n",
    "    def set_address(self,address):\n",
    "        print(address)\n",
    "    def set_name(self,firstName,lastName):\n",
    "        print(\"你的名字:\"+firstName)\n",
    "        print(\"你的姓氏:\"+lastName)\n",
    "        self.last_name = lastName\n",
    "    \n",
    "    def show_last_name(self):\n",
    "        print(\"姓氏: \" + self.last_name)\n",
    "#         show_last_name = self.mailLastName\n",
    "#         return show_last_name\n",
    "toTaichungMail = Email()\n",
    "toTaichungMail.set_address(\"台中市西屯區\")\n",
    "# firstName =input(\"請輸入你的名字 : \")\n",
    "# lastName = input(\"請輸入你的姓氏 : \")\n",
    "# youname.set_name(firstName,lastName)\n",
    "toTaichungMail.set_name(\"鴻祥\",\"呂\")\n",
    "toTaichungMail.show_last_name()\n"
   ]
  },
  {
   "cell_type": "code",
   "execution_count": null,
   "id": "aa69d739",
   "metadata": {},
   "outputs": [],
   "source": [
    "class Calculator:\n",
    "    def set_value(self,a,b):\n",
    "        self.value = a \n",
    "        self.value = b \n",
    "    def add(self):\n",
    "        c = self.value1 + self.value2\n",
    "        print(c)\n",
    "    def iii(self):\n",
    "        c = self.value1 - self.value2\n",
    "        print(c)\n",
    "        "
   ]
  },
  {
   "cell_type": "code",
   "execution_count": 82,
   "id": "3bd2d3a0",
   "metadata": {},
   "outputs": [
    {
     "name": "stdout",
     "output_type": "stream",
     "text": [
      "1\n",
      "99\n",
      "99.95\n"
     ]
    }
   ],
   "source": [
    "# class method1 -> 設定血量 , method2 -> 顯示血量\n",
    "class method:\n",
    "    def set_blood(self,a):\n",
    "        self.blood1 = int(a) #設定血量\n",
    "        \n",
    "    def show_blood(self):\n",
    "        c = self.blood1\n",
    "        return (c)\n",
    "# class method1 -> 設定攻擊力 , method2 -> 顯示攻擊力\n",
    "    def set_attack(self,b):\n",
    "        self.attack = int(b)\n",
    "    def show_attack(self):\n",
    "        show_atk = self.attack\n",
    "        return (show_atk)\n",
    "# class method1 -> 設定防禦力 , method2 -> 顯示防禦力\n",
    "    def set_defense(self,c):\n",
    "        self.defense = int(c)\n",
    "    def show_defense(self):\n",
    "        show_def = self.defense\n",
    "        return (show_def)\n",
    "blood = method()\n",
    "blood.set_blood(1)\n",
    "my_blood = blood.show_blood()  #要有人去接他。用ＭＥ接\n",
    "print(my_blood)\n",
    "# ------------------------------------------------------------------------------------------\n",
    "atk = attack()\n",
    "atk.set_attack(100)\n",
    "my_atk = atk.show_attack()\n",
    "print(my_atk-my_blood)\n",
    "# ------------------------------------------------------------------------------------------\n",
    "def_ = Defense()\n",
    "def_.set_defense(20)\n",
    "show_def1 = def_.show_defense()\n",
    "print(show_atk1-(me/(me*show_def1)))\n",
    "\n",
    "\n"
   ]
  },
  {
   "cell_type": "code",
   "execution_count": 94,
   "id": "b4c61aa0",
   "metadata": {},
   "outputs": [
    {
     "name": "stdout",
     "output_type": "stream",
     "text": [
      "1\n"
     ]
    }
   ],
   "source": [
    "# class method1 -> 設定血量 , method2 -> 顯示血量\n",
    "class method:\n",
    "    def set_blood(self,a):\n",
    "        self.blood1 = int(a) #設定血量\n",
    "        \n",
    "    def show_blood(self):\n",
    "        c = self.blood1\n",
    "        return (c)\n",
    "# class method1 -> 設定攻擊力 , method2 -> 顯示攻擊力\n",
    "    def set_attack(self,b):\n",
    "        self.attack = int(b)\n",
    "    def show_attack(self):\n",
    "        show_atk = self.attack\n",
    "        return (show_atk)\n",
    "# class method1 -> 設定防禦力 , method2 -> 顯示防禦力\n",
    "    def set_defense(self,c):\n",
    "        self.defense = int(c)\n",
    "    def show_defense(self):\n",
    "        show_def = self.defense\n",
    "        return (show_def)\n",
    "hp = method()\n",
    "hp.set_blood(1)\n",
    "my_blood = hp.show_blood()  #要有人去接他。用ＭＥ接\n",
    "print(my_blood)\n",
    "# ------------------------------------------------------------------------------------------\n",
    "atk = attack()\n",
    "atk.set_attack(100)\n",
    "my_atk = atk.show_attack()\n",
    "print(my_atk-my_blood)\n",
    "# ------------------------------------------------------------------------------------------\n",
    "def_ = Defense()\n",
    "def_.set_defense(20)\n",
    "show_def1 = def_.show_defense()\n",
    "print(show_atk1-(me/(me*show_def1)))\n",
    "\n",
    "\n",
    "\n"
   ]
  },
  {
   "cell_type": "code",
   "execution_count": null,
   "id": "4b91116c",
   "metadata": {},
   "outputs": [],
   "source": []
  },
  {
   "cell_type": "code",
   "execution_count": null,
   "id": "40f6c716",
   "metadata": {},
   "outputs": [],
   "source": []
  },
  {
   "cell_type": "code",
   "execution_count": 109,
   "id": "ec44703a",
   "metadata": {},
   "outputs": [
    {
     "name": "stdout",
     "output_type": "stream",
     "text": [
      "8\n",
      "0\n",
      "16\n",
      "1.0\n"
     ]
    }
   ],
   "source": [
    "class Calculator:\n",
    "    def __init__(self,a,b):\n",
    "        self.value1 = a \n",
    "        self.value2 = b \n",
    "    def add(self):\n",
    "        c = self.value1 + self.value2\n",
    "        print(c)\n",
    "    def substract(self):\n",
    "        c = self.value1 - self.value2\n",
    "        print(c)\n",
    "    def multiplication(self):\n",
    "        c = self.value1 * self.value2\n",
    "        print(c)\n",
    "    def division(self):\n",
    "        c = self.value1 / self.value2\n",
    "        print(c)\n",
    "        \n",
    "if __name__ == \"__main__\":\n",
    "    c = Calculator(4,4)\n",
    "    # c.set_value(3,4)\n",
    "    c.add()\n",
    "    c.substract()\n",
    "    c.multiplication()\n",
    "    c.division()"
   ]
  },
  {
   "cell_type": "code",
   "execution_count": 141,
   "id": "f379a91c",
   "metadata": {},
   "outputs": [
    {
     "name": "stdout",
     "output_type": "stream",
     "text": [
      "1\n",
      "5\n",
      "8\n",
      "10\n",
      "[2, 6, 9, 11]\n"
     ]
    }
   ],
   "source": [
    "class ListCalculate:\n",
    "    def set_num(self,a):\n",
    "#         for i in a :\n",
    "#             self.num = a\n",
    "        self.num = a \n",
    "    def get_num(self):\n",
    "        c = self.num\n",
    "        print(c)\n",
    "a = [1,5,8,10]\n",
    "# cal = ListCalculate(a)\n",
    "# b = cal.add_1() #b is all element in a add 1\n",
    "num = ListCalculate()\n",
    "num_add = []\n",
    "for i in a :\n",
    "    num.set_num(i)\n",
    "    num.get_num()\n",
    "    num_add.append(i+1)\n",
    "print(num_add)\n"
   ]
  },
  {
   "cell_type": "code",
   "execution_count": 110,
   "id": "cdd25e23",
   "metadata": {},
   "outputs": [
    {
     "ename": "NameError",
     "evalue": "name 'ListCalculate' is not defined",
     "output_type": "error",
     "traceback": [
      "\u001b[0;31m---------------------------------------------------------------------------\u001b[0m",
      "\u001b[0;31mNameError\u001b[0m                                 Traceback (most recent call last)",
      "Cell \u001b[0;32mIn[110], line 2\u001b[0m\n\u001b[1;32m      1\u001b[0m a \u001b[38;5;241m=\u001b[39m [\u001b[38;5;241m1\u001b[39m,\u001b[38;5;241m5\u001b[39m,\u001b[38;5;241m8\u001b[39m,\u001b[38;5;241m10\u001b[39m]\n\u001b[0;32m----> 2\u001b[0m cal \u001b[38;5;241m=\u001b[39m \u001b[43mListCalculate\u001b[49m(a)\n",
      "\u001b[0;31mNameError\u001b[0m: name 'ListCalculate' is not defined"
     ]
    }
   ],
   "source": [
    "\n"
   ]
  },
  {
   "cell_type": "code",
   "execution_count": null,
   "id": "fef18bdf",
   "metadata": {},
   "outputs": [],
   "source": []
  }
 ],
 "metadata": {
  "kernelspec": {
   "display_name": "Python 3 (ipykernel)",
   "language": "python",
   "name": "python3"
  },
  "language_info": {
   "codemirror_mode": {
    "name": "ipython",
    "version": 3
   },
   "file_extension": ".py",
   "mimetype": "text/x-python",
   "name": "python",
   "nbconvert_exporter": "python",
   "pygments_lexer": "ipython3",
   "version": "3.10.9"
  }
 },
 "nbformat": 4,
 "nbformat_minor": 5
}
