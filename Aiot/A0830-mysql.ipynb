{
 "cells": [
  {
   "cell_type": "code",
   "execution_count": null,
   "id": "08e99bef",
   "metadata": {},
   "outputs": [],
   "source": [
    "pip install pymysql"
   ]
  },
  {
   "cell_type": "code",
   "execution_count": 7,
   "id": "77384c25",
   "metadata": {},
   "outputs": [],
   "source": [
    "import pymysql\n",
    "\n",
    "setting={\n",
    "    \"host\":\"localhost\",\n",
    "    \"port\":3306,\n",
    "    \"user\":\"root\",\n",
    "    \"password\":\"0918387565\",\n",
    "    \"db\":\"students\",\n",
    "    \"charset\":\"utf8\"\n",
    "}\n",
    "\n",
    "db = pymysql.connect(**setting)"
   ]
  },
  {
   "cell_type": "code",
   "execution_count": 9,
   "id": "88e984e5",
   "metadata": {},
   "outputs": [
    {
     "name": "stdout",
     "output_type": "stream",
     "text": [
      "('01', '趙雷', datetime.datetime(1990, 1, 1, 0, 0), '男')\n",
      "('02', '錢電', datetime.datetime(1990, 12, 21, 0, 0), '男')\n",
      "('03', '孫風', datetime.datetime(1990, 5, 20, 0, 0), '男')\n",
      "('04', '李雲', datetime.datetime(1990, 8, 6, 0, 0), '男')\n",
      "('05', '周梅', datetime.datetime(1991, 12, 1, 0, 0), '女')\n",
      "('06', '吳蘭', datetime.datetime(1992, 3, 1, 0, 0), '女')\n",
      "('07', '鄭竹', datetime.datetime(1989, 7, 1, 0, 0), '女')\n",
      "('08', '王菊', datetime.datetime(1990, 1, 20, 0, 0), '女')\n"
     ]
    }
   ],
   "source": [
    "cursor=db.cursor()\n",
    "\n",
    "cursor.execute(\"select * from student;\")\n",
    "\n",
    "data = cursor.fetchall()\n",
    "\n",
    "for stu in data:\n",
    "    print(stu)"
   ]
  },
  {
   "cell_type": "code",
   "execution_count": null,
   "id": "a7820eec",
   "metadata": {},
   "outputs": [],
   "source": []
  },
  {
   "cell_type": "code",
   "execution_count": null,
   "id": "5a5e38b1",
   "metadata": {},
   "outputs": [],
   "source": []
  },
  {
   "cell_type": "code",
   "execution_count": 8,
   "id": "19a68757",
   "metadata": {},
   "outputs": [
    {
     "name": "stdout",
     "output_type": "stream",
     "text": [
      "('01', '趙雷', datetime.datetime(1990, 1, 1, 0, 0), '男')\n",
      "('02', '錢電', datetime.datetime(1990, 12, 21, 0, 0), '男')\n",
      "('03', '孫風', datetime.datetime(1990, 5, 20, 0, 0), '男')\n",
      "('04', '李雲', datetime.datetime(1990, 8, 6, 0, 0), '男')\n",
      "('05', '周梅', datetime.datetime(1991, 12, 1, 0, 0), '女')\n",
      "('06', '吳蘭', datetime.datetime(1992, 3, 1, 0, 0), '女')\n",
      "('07', '鄭竹', datetime.datetime(1989, 7, 1, 0, 0), '女')\n",
      "('08', '王菊', datetime.datetime(1990, 1, 20, 0, 0), '女')\n"
     ]
    }
   ],
   "source": []
  },
  {
   "cell_type": "code",
   "execution_count": null,
   "id": "3de0fcfa",
   "metadata": {},
   "outputs": [],
   "source": []
  },
  {
   "cell_type": "code",
   "execution_count": null,
   "id": "1e0f3425",
   "metadata": {},
   "outputs": [],
   "source": []
  },
  {
   "cell_type": "code",
   "execution_count": null,
   "id": "940d6eb3",
   "metadata": {},
   "outputs": [],
   "source": []
  },
  {
   "cell_type": "code",
   "execution_count": null,
   "id": "7857ac36",
   "metadata": {},
   "outputs": [],
   "source": []
  }
 ],
 "metadata": {
  "kernelspec": {
   "display_name": "Python 3 (ipykernel)",
   "language": "python",
   "name": "python3"
  },
  "language_info": {
   "codemirror_mode": {
    "name": "ipython",
    "version": 3
   },
   "file_extension": ".py",
   "mimetype": "text/x-python",
   "name": "python",
   "nbconvert_exporter": "python",
   "pygments_lexer": "ipython3",
   "version": "3.11.4"
  }
 },
 "nbformat": 4,
 "nbformat_minor": 5
}
