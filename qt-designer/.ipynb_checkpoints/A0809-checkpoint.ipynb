{
 "cells": [
  {
   "cell_type": "code",
   "execution_count": null,
   "id": "c273f5a5",
   "metadata": {},
   "outputs": [],
   "source": [
    "# 使用者輸入\n",
    "# 1 -> servo on\n",
    "# 2 -> servo off\n",
    "# 3 -> go initial\n",
    "# 4 -> 請使用者輸入位置\n",
    "#   -> 移動到該位置\n",
    "# 5 -> 離開"
   ]
  },
  {
   "cell_type": "code",
   "execution_count": null,
   "id": "171dfad1",
   "metadata": {},
   "outputs": [],
   "source": [
    "qt\n",
    "\n",
    "\n",
    "https://build-system.fman.io/qt-designer-download\n",
    "    \n",
    "    \n",
    "push botton\n",
    "建立按鈕\n",
    "line Edit\n",
    "建立輸入文字\n",
    "label\n",
    "建立標籤\n",
    "    pixmap\n",
    "    放入圖片\n",
    "\n",
    "ui轉py要在資料夾裡面才可以轉\n",
    "# pyuic5 -x qt-1.ui -o mainwindow.py"
   ]
  },
  {
   "cell_type": "code",
   "execution_count": null,
   "id": "103215f4",
   "metadata": {},
   "outputs": [],
   "source": [
    "import mainwindow\n",
    "\n",
    "from mainwindow import Ui_Dialog\n",
    "from PyQt5.QtWidgets import *\n",
    "from PyQt5.QtCore import *\n",
    "from PyQt5.QtGui import *\n",
    "import sys\n",
    "\n",
    "app =QApplication(sys.argv)\n",
    "widget = QWidget()\n",
    "ui = Ui_Dialog()\n",
    "ui.setupUi(widget)\n",
    "widget.show()\n",
    "app.exec_()"
   ]
  },
  {
   "cell_type": "code",
   "execution_count": 4,
   "id": "b09c7b7e",
   "metadata": {},
   "outputs": [
    {
     "ename": "SyntaxError",
     "evalue": "invalid syntax (2287709505.py, line 1)",
     "output_type": "error",
     "traceback": [
      "\u001b[0;36m  Cell \u001b[0;32mIn[4], line 1\u001b[0;36m\u001b[0m\n\u001b[0;31m    pyuic5 -x qt.ui -o mainwindow_1.py\u001b[0m\n\u001b[0m              ^\u001b[0m\n\u001b[0;31mSyntaxError\u001b[0m\u001b[0;31m:\u001b[0m invalid syntax\n"
     ]
    }
   ],
   "source": [
    "pyuic5 -x qt.ui -o mainwindow_1.py"
   ]
  },
  {
   "cell_type": "code",
   "execution_count": null,
   "id": "f4fd6df6",
   "metadata": {},
   "outputs": [],
   "source": [
    "mac無法下載PyQt5\"代老師解決\"\n",
    "\n",
    "conda activate base\n",
    "pyuic5"
   ]
  },
  {
   "cell_type": "code",
   "execution_count": null,
   "id": "c6728cba",
   "metadata": {},
   "outputs": [],
   "source": [
    "import mainwindow\n",
    "\n",
    "from mainwindow import Ui_Dialog\n",
    "from PyQt5.QtWidgets import *\n",
    "from PyQt5.QtCore import *\n",
    "from PyQt5.QtGui import *\n",
    "import sys\n",
    "# 按鈕\n",
    "global a \n",
    "a = 0 \n",
    "\n",
    "def button_click():\n",
    "    print(\"hello world\")\n",
    "#     回覆視窗\n",
    "#     messageBox = QMessageBox()  \n",
    "#     messageBox.setWindowTitle(\"正確\")\n",
    "#     messageBox.setInformativeText(\"Fuck World\")\n",
    "#     messageBox.exec_()\n",
    "#     ui.label.setText(\"按鈕被點了\")\n",
    "    global a \n",
    "    a += 1\n",
    "    if a%2 == 0:\n",
    "        ui.label.setText(\"開啟\")\n",
    "    else :\n",
    "        ui.label.setText(\"關閉\")\n",
    "        #         ui.label.setText(str(a))\n",
    "def button_click1():\n",
    "    print(\"hello world\")\n",
    "#     回覆視窗\n",
    "    messageBox = QMessageBox()  \n",
    "    messageBox.setWindowTitle(\"正確\")\n",
    "    messageBox.setInformativeText(\"Fuck Your Mom.\")\n",
    "    messageBox.exec_()\n",
    "def button_click2():\n",
    "    print(\"hello world\")\n",
    "#     回覆視窗\n",
    "    messageBox = QMessageBox()  \n",
    "    messageBox.setWindowTitle(\"正確\")\n",
    "    messageBox.setInformativeText(\"Fuck Your Dad.\")\n",
    "    messageBox.exec_()\n",
    "app =QApplication(sys.argv)\n",
    "widget = QWidget()\n",
    "ui = Ui_Dialog()\n",
    "ui.setupUi(widget)\n",
    "\n",
    "ui.pushButton.clicked.connect(button_click)\n",
    "ui.pushButton_2.clicked.connect(button_click1)\n",
    "ui.pushButton_3.clicked.connect(button_click2)\n",
    "\n",
    "widget.show()\n",
    "app.exec_()"
   ]
  },
  {
   "cell_type": "code",
   "execution_count": null,
   "id": "b0cf98c3",
   "metadata": {},
   "outputs": [],
   "source": []
  }
 ],
 "metadata": {
  "kernelspec": {
   "display_name": "Python 3 (ipykernel)",
   "language": "python",
   "name": "python3"
  },
  "language_info": {
   "codemirror_mode": {
    "name": "ipython",
    "version": 3
   },
   "file_extension": ".py",
   "mimetype": "text/x-python",
   "name": "python",
   "nbconvert_exporter": "python",
   "pygments_lexer": "ipython3",
   "version": "3.10.9"
  }
 },
 "nbformat": 4,
 "nbformat_minor": 5
}
