{
 "cells": [
  {
   "cell_type": "code",
   "execution_count": 3,
   "id": "59e31722",
   "metadata": {},
   "outputs": [
    {
     "name": "stdout",
     "output_type": "stream",
     "text": [
      "hi master\n",
      "let's start the game\n"
     ]
    }
   ],
   "source": [
    "def start():\n",
    "    print(\"hi master\")\n",
    "    print(\"let's start the game\")\n",
    "\n",
    "start()\n",
    "\n",
    "def add_1(a): #a = 1\n",
    "    b = 1 \n",
    "    c = a+b\n",
    "    print (c)\n",
    "    \n",
    "add_1(1)"
   ]
  },
  {
   "cell_type": "code",
   "execution_count": 99,
   "id": "de401b6c",
   "metadata": {},
   "outputs": [
    {
     "name": "stdout",
     "output_type": "stream",
     "text": [
      "please enter : false\n",
      "rainny\n"
     ]
    }
   ],
   "source": [
    "# 輸入input 是True 就顯示晴天 False 就顯示 雨天 輸入其他的就顯示錯誤\n",
    "a = input(\"please enter : \")\n",
    "def weather(a):\n",
    "    if a == \"True\" or a == \"true\":\n",
    "        print(\"sunny\")\n",
    "    elif a == \"False\" or a == \"false\":\n",
    "        print(\"rainny\")\n",
    "    else:\n",
    "        print(\"error\")\n",
    "weather(a)\n"
   ]
  },
  {
   "cell_type": "code",
   "execution_count": 122,
   "id": "eb7f016d",
   "metadata": {},
   "outputs": [
    {
     "name": "stdout",
     "output_type": "stream",
     "text": [
      "please enter A number :1\n",
      "please enter B number :2\n",
      "70min\n"
     ]
    }
   ],
   "source": [
    "# 變數1 輸入小時 , 變數2 : 輸入1 的時候 1 hr = 60 min , 輸入2  1hr = 70 min\n",
    "a = int(input(\"please enter A number : \"))\n",
    "b = input(\"please enter B number : \")\n",
    "def hour(a,b):\n",
    "    if b == \"1\":\n",
    "        b = 60\n",
    "        c = a * b\n",
    "        print(str(c)+\"min\")\n",
    "    elif b == \"2\":\n",
    "        b = 70\n",
    "        c = a * b\n",
    "        print(str(c)+\"min\")\n",
    "    else:\n",
    "        print(\"error\")\n",
    "hour(a,b)"
   ]
  }
 ],
 "metadata": {
  "kernelspec": {
   "display_name": "Python 3 (ipykernel)",
   "language": "python",
   "name": "python3"
  },
  "language_info": {
   "codemirror_mode": {
    "name": "ipython",
    "version": 3
   },
   "file_extension": ".py",
   "mimetype": "text/x-python",
   "name": "python",
   "nbconvert_exporter": "python",
   "pygments_lexer": "ipython3",
   "version": "3.10.9"
  }
 },
 "nbformat": 4,
 "nbformat_minor": 5
}
