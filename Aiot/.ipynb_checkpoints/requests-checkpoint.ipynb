{
 "cells": [
  {
   "cell_type": "code",
   "execution_count": null,
   "id": "1e3f5941",
   "metadata": {},
   "outputs": [],
   "source": [
    "import requests\n",
    "# F12 look network >command + R > index > 確認要求方法\n",
    "# 找到agent裡面隨便用一個打開\n",
    "headers = {\"User-Agent\":\"Chrome/116.0.0.0\"}\n",
    "url = \"https://goodinfo.tw/tw/index.asp\"\n",
    "res = requests.get(url,headers=headers)\n",
    "\n",
    "# 解碼\n",
    "res.encoding = \"utf-8\"\n",
    "print(res)\n",
    "# soup = BeautifulSoup(res.text,\"lxml\")\n",
    "# print (res.text)\n"
   ]
  },
  {
   "cell_type": "code",
   "execution_count": null,
   "id": "0d0ff45b",
   "metadata": {},
   "outputs": [],
   "source": [
    "import requests\n",
    "import json\n",
    "url = \"https://www.tpex.org.tw/web/stock/aftertrading/daily_trading_info/st43_result.php?l=zh-tw&d=112/08&stkno=4905&_=1692676135183\"\n",
    "headers = {\"User-Agent\":\"Chrome/116.0.0.0\"}\n",
    "# payload = json.loads('{\"promotionid\":156847592116227,\"categoryid\":0,\"itemids\":[14935404262,1717333578,670560873,8903205420,1436760706,158220308,12798224013,10098503987,1396599654,5519328843,16173195396,15082693079,10062670988,5850657759,2350392364,19161601768],\"limit\":16,\"with_dp_items\":true}')\n",
    "res = requests.get(url,headers=headers)\n",
    "jd = json.loads(res.text)\n",
    "res.encoding = \"utf-8\"\n",
    "print(res.text)\n",
    "# \\u53f0\\u806f\\u96fb   是json格式"
   ]
  },
  {
   "cell_type": "code",
   "execution_count": null,
   "id": "925b9c61",
   "metadata": {
    "scrolled": false
   },
   "outputs": [],
   "source": [
    "import requests\n",
    "import json\n",
    "url = \"https://www.tpex.org.tw/web/stock/aftertrading/daily_trading_info/st43_result.php?l=zh-tw&d=112/08&stkno=4905&_=1692676135183\"\n",
    "res = requests.get(url)\n",
    "jd = json.loads(res.text)\n",
    "print(jd)"
   ]
  },
  {
   "cell_type": "code",
   "execution_count": null,
   "id": "04e26e23",
   "metadata": {},
   "outputs": [],
   "source": [
    "import pandas as pd\n",
    "columns = [\"日期\",\"成交千股\",\"成交千元\",\"開盤\",\"最高\",\"最低\",\"收盤\",\"漲幅\",\"筆數\"]\n",
    "data = pd.DataFrame(jd[\"aaData\"],columns=columns)\n",
    "data.set_index(\"日期\",inplace = True)\n",
    "\n",
    "# index = (list(data.日期))\n",
    "# data = pd.DataFrame(jd[\"aaData\"],index = index ,columns=columns)\n",
    "# data.drop(labels = [\"日期\"],axis = \"columns\",inplace = True)\n",
    "display(data)\n",
    "\n",
    "# print(data)"
   ]
  },
  {
   "cell_type": "code",
   "execution_count": null,
   "id": "acaae004",
   "metadata": {},
   "outputs": [],
   "source": []
  },
  {
   "cell_type": "code",
   "execution_count": null,
   "id": "ea5112cb",
   "metadata": {},
   "outputs": [],
   "source": []
  },
  {
   "cell_type": "code",
   "execution_count": null,
   "id": "07a2f577",
   "metadata": {},
   "outputs": [],
   "source": [
    "for st in jd['aaData']:\n",
    "#     jdlist.append(st)\n",
    "    print(\"日期:\",st[0])"
   ]
  },
  {
   "cell_type": "code",
   "execution_count": null,
   "id": "7ccf15ed",
   "metadata": {
    "scrolled": true
   },
   "outputs": [],
   "source": [
    "import openpyxl\n",
    "wb = openpyxl.Workbook()\n",
    "ws = wb.active\n",
    "jds = jd['aaData']\n",
    "\n",
    "jdlist = []\n",
    "ws[A1] = \"日期\"\n",
    "ws[B1] = \"成交千股\"\n",
    "ws[C1] = \"成交千元\"\n",
    "ws[D1] = \"開盤\"\n",
    "ws[E1] = \"最高\"\n",
    "ws[F1] = \"最低\"\n",
    "ws[G1] = \"收盤\"\n",
    "ws[H1] = \"漲幅\"\n",
    "ws[I1] = \"筆數\"\n",
    "for i in jds:\n",
    "    jdlist.append(i)\n",
    "print(jdlist)"
   ]
  },
  {
   "cell_type": "code",
   "execution_count": null,
   "id": "1009faa2",
   "metadata": {
    "scrolled": true
   },
   "outputs": [],
   "source": [
    "print(1,2,3,4,5,6,sep = \",\",end=\"02\")\n",
    "print(1,2,3)"
   ]
  },
  {
   "cell_type": "code",
   "execution_count": 1,
   "id": "294dfeac",
   "metadata": {},
   "outputs": [],
   "source": [
    "# 寫入\n",
    "f = open(\"test.txt\",\"w\",encoding ='utf8')\n",
    "f.write(\"abcde\\nfg哭哇\")\n",
    "f.close()"
   ]
  },
  {
   "cell_type": "code",
   "execution_count": 15,
   "id": "79a2079f",
   "metadata": {},
   "outputs": [
    {
     "name": "stdout",
     "output_type": "stream",
     "text": [
      "帥se\n",
      "fg哭哇哭哇哭勒哭勒哭哇fa哭哇ppp\n",
      "sss 0\n",
      "酷se\n",
      "fg哭哇哭哇哭勒哭勒哭哇fa哭哇ppp\n",
      "sss\n"
     ]
    }
   ],
   "source": [
    "# 讀取 r 只能讀不能寫,r+ 能讀能寫\n",
    "f = open(\"test.txt\",\"r+\",encoding ='utf8')\n",
    "\n",
    "print(f.read(),0)\n",
    "f.seek(0)\n",
    "# wi = input(\"請\")\n",
    "f.write(\"酷\")\n",
    "# 游標移動到最前面\n",
    "f.seek(0)\n",
    "# print(\"ppp\",file = f)\n",
    "print(f.read())\n",
    "f.close()"
   ]
  },
  {
   "cell_type": "code",
   "execution_count": 38,
   "id": "5a1a9a6e",
   "metadata": {},
   "outputs": [
    {
     "name": "stdout",
     "output_type": "stream",
     "text": [
      "哭帥帥帥帥帥\n"
     ]
    }
   ],
   "source": [
    "f = open(\"test.txt\",\"r+\",encoding ='utf8')\n",
    "a = f.read()\n",
    "# seek 第二位數 0是最前面 , 1從最前面取第幾個位置,2從後面數第幾個位置\n",
    "f.seek(0,2)\n",
    "f.write(\"帥\")\n",
    "print (\"哭\" + a)\n"
   ]
  }
 ],
 "metadata": {
  "kernelspec": {
   "display_name": "Python 3 (ipykernel)",
   "language": "python",
   "name": "python3"
  },
  "language_info": {
   "codemirror_mode": {
    "name": "ipython",
    "version": 3
   },
   "file_extension": ".py",
   "mimetype": "text/x-python",
   "name": "python",
   "nbconvert_exporter": "python",
   "pygments_lexer": "ipython3",
   "version": "3.10.9"
  }
 },
 "nbformat": 4,
 "nbformat_minor": 5
}
