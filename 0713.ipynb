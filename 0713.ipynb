{
 "cells": [
  {
   "cell_type": "code",
   "execution_count": null,
   "id": "61142db3",
   "metadata": {},
   "outputs": [],
   "source": [
    "print(\"hello world\")"
   ]
  },
  {
   "cell_type": "code",
   "execution_count": null,
   "id": "a5ac2b12",
   "metadata": {},
   "outputs": [],
   "source": [
    "ngrok 檔案需放在 command+shift+g 輸入/urs/local/bin/\n",
    "\n",
    "https://dashboard.ngrok.com/get-started/setup\n",
    "getting started\n",
    "setup & installation\n",
    "終端機 輸入網站裡面的 Connect your account 下面代碼 註冊\n",
    "例如\n",
    "\n",
    "ngrok http 1001\n",
    "\n",
    "運行下面的代碼\n",
    "\n",
    "https://developers.facebook.com/apps/1365727710650710/messenger/settings/\n",
    "    \n",
    "我的應用程式\n",
    "\n",
    "存取權杖  產生權杖 替換token\n",
    "\n",
    "呼籲網址\n",
    "終端機上面的網址app /verify\n",
    "驗證權杖\n",
    "hub.verify_token 要一樣\n",
    "\n",
    "訂閱 點選messages、messaging_postbacks、message_reads(可選其他的)"
   ]
  },
  {
   "cell_type": "code",
   "execution_count": null,
   "id": "72e91a44",
   "metadata": {},
   "outputs": [],
   "source": [
    "pip install flask"
   ]
  },
  {
   "cell_type": "code",
   "execution_count": null,
   "id": "869cc185",
   "metadata": {},
   "outputs": [],
   "source": [
    "#需要用的模組\n",
    "from flask import Flask, request\n",
    "#定義APP\n",
    "app=Flask(__name__)\n",
    "#定義第一種route網址與模式\n",
    "@app.route(\"/\", methods=['GET'])\n",
    "def aa():\n",
    "    print(\"登錄成功\")\n",
    "    return \"登錄OK\"#以字串型式在瀏覽器顯示\n",
    "#定義第二種route網址與模式\n",
    "@app.route(\"/user/ID=<user_id>&message=<message>\", methods=['GET'])\n",
    "def bb(user_id,message):\n",
    "    UID={}\n",
    "    UID[user_id]=message\n",
    "    print(UID)\n",
    "    STR=\"你的使用者ID:\"+user_id+\"\\n你的留言:\"+message\n",
    "    return STR#以字串型式在瀏覽器顯示\n",
    "if __name__ == \"__main__\": #判斷是否為主程式。是的話就執行。不是的話就不執行\n",
    "    app.run(port=2000)"
   ]
  },
  {
   "cell_type": "code",
   "execution_count": null,
   "id": "9c819c1e",
   "metadata": {},
   "outputs": [],
   "source": [
    "pip install pymessenger\n"
   ]
  },
  {
   "cell_type": "code",
   "execution_count": null,
   "id": "275255d4",
   "metadata": {},
   "outputs": [
    {
     "name": "stdout",
     "output_type": "stream",
     "text": [
      " * Serving Flask app '__main__'\n",
      " * Debug mode: off\n"
     ]
    },
    {
     "name": "stderr",
     "output_type": "stream",
     "text": [
      "WARNING: This is a development server. Do not use it in a production deployment. Use a production WSGI server instead.\n",
      " * Running on http://127.0.0.1:2000\n",
      "Press CTRL+C to quit\n"
     ]
    },
    {
     "name": "stdout",
     "output_type": "stream",
     "text": [
      "{'object': 'page', 'entry': [{'id': '115447678275957', 'time': 1689219737194, 'messaging': [{'sender': {'id': '6390119434357938'}, 'recipient': {'id': '115447678275957'}, 'timestamp': 1689219631969, 'message': {'mid': 'm_RFLdPPUj1lrYW-W31mtyZ0EFEyYOnyGvn8rZo4zrUvZwYdDOmLfQOjhbG1-MaFfooWodcGNeahyQXTEKGri3ig', 'text': '122'}}]}]}\n",
      "ID:6390119434357938,Text:122\n"
     ]
    },
    {
     "name": "stderr",
     "output_type": "stream",
     "text": [
      "127.0.0.1 - - [13/Jul/2023 11:42:19] \"POST /verify HTTP/1.1\" 200 -\n"
     ]
    },
    {
     "name": "stdout",
     "output_type": "stream",
     "text": [
      "{'object': 'page', 'entry': [{'id': '115447678275957', 'time': 1689219753980, 'messaging': [{'sender': {'id': '6390119434357938'}, 'recipient': {'id': '115447678275957'}, 'timestamp': 1689219753686, 'message': {'mid': 'm_o_axrZsmeQM7xouvNylnT0EFEyYOnyGvn8rZo4zrUvaQSkcj2RH51danHhilZNK4_Dkck0nbI8Q1WpCmkgKoMw', 'text': 'A'}}]}]}\n",
      "ID:6390119434357938,Text:A\n"
     ]
    },
    {
     "name": "stderr",
     "output_type": "stream",
     "text": [
      "127.0.0.1 - - [13/Jul/2023 11:42:35] \"POST /verify HTTP/1.1\" 200 -\n"
     ]
    }
   ],
   "source": [
    "import os, sys\n",
    "import json\n",
    "from flask import Flask, request\n",
    "from pymessenger import Bot\n",
    "#https://github.com/davidchua/pymessenger\n",
    "app = Flask(__name__)\n",
    "PAGE_ACCESS_TOKEN = \"EAATaH0MNoVYBABMmveCDMdmvrS79kK5ZAXZBq4ABR5n487WaGJGIl4ZAe3iTW8ByPxzFZCHued9ug2DHVZA7GiTtDMNAj7RHDKO60nEckv38nJdmQsUqo8eRALgp621o9a2YoU14pSZAeR3IVoZAlAVUwfLSQ6OVD5srhQIWw6FGZA2Xl6PZCDvWb\"\n",
    "bot = Bot(PAGE_ACCESS_TOKEN)\n",
    "num1={\"A\":\"營業時間\",\"B\":\"連絡電話\",\"C\":\"營業地址\"}\n",
    "str1=\"可以輸入以下代碼查詢資料A:營業時間,B:連絡電話,C:營業地址\"\n",
    "#get=#取得資訊\n",
    "@app.route('/', methods=['GET'])\n",
    "def test():\n",
    "    return \"Hello world\", 200\n",
    "@app.route('/verify', methods=['GET'])\n",
    "def verify():\n",
    " # Webhook verification\n",
    "    print(request.args)\n",
    "    if request.args.get(\"hub.mode\") == \"subscribe\" and request.args.get(\"hub.challenge\"):\n",
    "        if not request.args.get(\"hub.verify_token\") == \"0521\":\n",
    "            return \"Verification token mismatch\", 403\n",
    "        return request.args[\"hub.challenge\"], 200\n",
    "    return \"不正確的地方，請出去\", 200\n",
    "#post=回傳訊息\n",
    "@app.route('/verify', methods=['POST'])\n",
    "def webhook():\n",
    "    data = request.get_json()\n",
    "    log(data)\n",
    "    if data['object'] == 'page':\n",
    "        for entry in data['entry']:\n",
    "            for messaging_event in entry['messaging']:\n",
    "                # IDs\n",
    "                sender_id = messaging_event['sender']['id']\n",
    "                recipient_id = messaging_event['recipient']['id']\n",
    "                if 'message' in messaging_event:\n",
    "                     # Extracting text message\n",
    "                    if 'text' in messaging_event['message']:\n",
    "                        text=messaging_event['message']['text']\n",
    "                        print(\"ID:%s,Text:%s\"%(messaging_event['sender']['id'],text))\n",
    "                        if text==\"A\" or text==\"B\" or text==\"C\":\n",
    "                            bot.send_text_message(sender_id,num1[text])\n",
    "                        else:\n",
    "                            bot.send_text_message(sender_id,str1)\n",
    "                return \"ok\", 200\n",
    "def log(message):\n",
    "    print(message)\n",
    "    sys.stdout.flush()\n",
    "if __name__ == \"__main__\": #判斷是否為主程式。是的話就執行。不是的話就不執行\n",
    "    app.run(port=2000)"
   ]
  },
  {
   "cell_type": "code",
   "execution_count": null,
   "id": "b6703ca7",
   "metadata": {},
   "outputs": [],
   "source": []
  },
  {
   "cell_type": "code",
   "execution_count": null,
   "id": "b0466a2b",
   "metadata": {},
   "outputs": [],
   "source": []
  }
 ],
 "metadata": {
  "kernelspec": {
   "display_name": "Python 3 (ipykernel)",
   "language": "python",
   "name": "python3"
  },
  "language_info": {
   "codemirror_mode": {
    "name": "ipython",
    "version": 3
   },
   "file_extension": ".py",
   "mimetype": "text/x-python",
   "name": "python",
   "nbconvert_exporter": "python",
   "pygments_lexer": "ipython3",
   "version": "3.10.9"
  }
 },
 "nbformat": 4,
 "nbformat_minor": 5
}
