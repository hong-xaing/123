{
 "cells": [
  {
   "cell_type": "code",
   "execution_count": null,
   "id": "e4ed6a6b",
   "metadata": {},
   "outputs": [],
   "source": [
    "# pip install selenium"
   ]
  },
  {
   "cell_type": "code",
   "execution_count": 14,
   "id": "9823508d",
   "metadata": {},
   "outputs": [],
   "source": [
    "from selenium import webdriver\n",
    "from selenium.webdriver.chrome.service import Service\n",
    "from selenium.webdriver.common.by import By\n",
    "# 抓chromedriver放的路徑\n",
    "service = Service(executable_path = \"/Users/lvhongxiang/chackpoint/chromedriver-mac-x64/chromedriver\")\n",
    "driver = webdriver.Chrome(service=service)\n",
    "#抓網址\n",
    "driver.get(\"https://popcat.click/\")\n",
    "div = driver.find_element(By.ID,\"app\")\n",
    "div.click()"
   ]
  },
  {
   "cell_type": "code",
   "execution_count": null,
   "id": "2a6439ba",
   "metadata": {},
   "outputs": [],
   "source": []
  }
 ],
 "metadata": {
  "kernelspec": {
   "display_name": "Python 3 (ipykernel)",
   "language": "python",
   "name": "python3"
  },
  "language_info": {
   "codemirror_mode": {
    "name": "ipython",
    "version": 3
   },
   "file_extension": ".py",
   "mimetype": "text/x-python",
   "name": "python",
   "nbconvert_exporter": "python",
   "pygments_lexer": "ipython3",
   "version": "3.10.9"
  }
 },
 "nbformat": 4,
 "nbformat_minor": 5
}
