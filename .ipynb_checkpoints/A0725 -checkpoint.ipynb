{
 "cells": [
  {
   "cell_type": "code",
   "execution_count": 5,
   "id": "b23bc3bc",
   "metadata": {},
   "outputs": [
    {
     "name": "stdout",
     "output_type": "stream",
     "text": [
      "7\n"
     ]
    }
   ],
   "source": [
    "class Calculator:\n",
    "    def set_value(self,a,b):\n",
    "        self.value1 = a \n",
    "        self.value2 = b \n",
    "\n",
    "class AddCalculator(Calculator):\n",
    "    def add(self):\n",
    "        print(self.value1+self.value2)\n",
    "        \n",
    "calculate1 =  AddCalculator()\n",
    "calculate1.set_value(3,4)\n",
    "calculate1.add()"
   ]
  },
  {
   "cell_type": "code",
   "execution_count": 11,
   "id": "49992e0e",
   "metadata": {},
   "outputs": [
    {
     "name": "stdout",
     "output_type": "stream",
     "text": [
      "請輸入:1\n",
      "31\n",
      "28\n"
     ]
    }
   ],
   "source": [
    "class OzToGram:\n",
    "    def set_oz(self,oz):\n",
    "        self.Oz = oz\n",
    "class GoldOz(OzToGram):\n",
    "    def get_gram(self):\n",
    "        return(self.Oz *31)\n",
    "# 31G        \n",
    "\n",
    "class steak(OzToGram):\n",
    "    def get_gram(self):\n",
    "        return(self.Oz *28)\n",
    "# 28G\n",
    "\n",
    "a = input(\"請輸入:\")\n",
    "if a == \"1\":\n",
    "    oz = GoldOz()\n",
    "    oz.set_oz(int(a))\n",
    "    print(oz.get_gram())\n",
    "elif a == \"2\":\n",
    "    oz = steak()\n",
    "    oz.set_oz(int(a))\n",
    "    print(oz.get_gram())"
   ]
  },
  {
   "cell_type": "code",
   "execution_count": null,
   "id": "c6571b39",
   "metadata": {},
   "outputs": [],
   "source": []
  }
 ],
 "metadata": {
  "kernelspec": {
   "display_name": "Python 3 (ipykernel)",
   "language": "python",
   "name": "python3"
  },
  "language_info": {
   "codemirror_mode": {
    "name": "ipython",
    "version": 3
   },
   "file_extension": ".py",
   "mimetype": "text/x-python",
   "name": "python",
   "nbconvert_exporter": "python",
   "pygments_lexer": "ipython3",
   "version": "3.10.9"
  }
 },
 "nbformat": 4,
 "nbformat_minor": 5
}
