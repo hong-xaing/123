{
 "cells": [
  {
   "cell_type": "code",
   "execution_count": 2,
   "id": "bcfb1d27",
   "metadata": {},
   "outputs": [
    {
     "name": "stdout",
     "output_type": "stream",
     "text": [
      "hello wrold\n"
     ]
    }
   ],
   "source": [
    "print(\"hello wrold\")"
   ]
  },
  {
   "cell_type": "code",
   "execution_count": 3,
   "id": "46cd4802",
   "metadata": {},
   "outputs": [
    {
     "ename": "SyntaxError",
     "evalue": "invalid character '。' (U+3002) (2038995179.py, line 16)",
     "output_type": "error",
     "traceback": [
      "\u001b[0;36m  Cell \u001b[0;32mIn[3], line 16\u001b[0;36m\u001b[0m\n\u001b[0;31m    -------重要。要讀取前要先存檔備份\u001b[0m\n\u001b[0m             ^\u001b[0m\n\u001b[0;31mSyntaxError\u001b[0m\u001b[0;31m:\u001b[0m invalid character '。' (U+3002)\n"
     ]
    }
   ],
   "source": [
    "https://sourceforge.net/projects/git-osx-installer/\n",
    "iIerm      終端機\n",
    "指令\n",
    "git        確認是否下載\n",
    "ls         確認當前檔案\n",
    "cd /link   到下一頁\n",
    "cd ..      回到上一頁\n",
    "git init   開始備份git\n",
    "git status 確認有沒有備份(紅色沒有,綠色有)\n",
    "git add .  要開始備份囉\n",
    "git commit -m \"vi\" 備份的名稱\n",
    "git config --global user.email \"你的email\"\n",
    "git config --global user.name \"你的名字\"\n",
    "git reset --hard afa5be1 取備份\n",
    "git reflog  取之前的備份 q是退出\n",
    "-------重要。要讀取前要先存檔備份\n",
    "git blame \"名字\"  看是誰寫的程式碼 "
   ]
  },
  {
   "cell_type": "code",
   "execution_count": null,
   "id": "f4993e8e",
   "metadata": {},
   "outputs": [],
   "source": [
    "github\n",
    "\n",
    "libmodbus    \n",
    "git clone \"網址\"https://  下載github\n",
    "git blame \"檔案名稱\"   修改版本\n",
    "git push  更新檔案\n",
    "git pull  遠端的可以更新\n",
    "\n",
    "\n",
    "操作順序\n",
    "setting \n",
    "token\n",
    "命名\n",
    "權限時間\n",
    "權限\n",
    "your profile\n",
    "mark down 純文字黨\n",
    "your repositoties\n",
    "\n"
   ]
  }
 ],
 "metadata": {
  "kernelspec": {
   "display_name": "Python 3 (ipykernel)",
   "language": "python",
   "name": "python3"
  },
  "language_info": {
   "codemirror_mode": {
    "name": "ipython",
    "version": 3
   },
   "file_extension": ".py",
   "mimetype": "text/x-python",
   "name": "python",
   "nbconvert_exporter": "python",
   "pygments_lexer": "ipython3",
   "version": "3.10.9"
  }
 },
 "nbformat": 4,
 "nbformat_minor": 5
}
