{
 "cells": [
  {
   "cell_type": "code",
   "execution_count": 2,
   "id": "e898a63c",
   "metadata": {},
   "outputs": [
    {
     "name": "stdout",
     "output_type": "stream",
     "text": [
      "hello wrold\n"
     ]
    }
   ],
   "source": [
    "print(\"hello wrold\")"
   ]
  },
  {
   "cell_type": "code",
   "execution_count": null,
   "id": "e9c8cac1",
   "metadata": {},
   "outputs": [],
   "source": [
    "iIerm\n",
    "git \n",
    "ls\n",
    "cd /link   到下一頁\n",
    "cd ..      回到上一頁\n",
    "git init   開始備份git\n",
    "git status 確認有沒有備份\n",
    "git add ."
   ]
  }
 ],
 "metadata": {
  "kernelspec": {
   "display_name": "Python 3 (ipykernel)",
   "language": "python",
   "name": "python3"
  },
  "language_info": {
   "codemirror_mode": {
    "name": "ipython",
    "version": 3
   },
   "file_extension": ".py",
   "mimetype": "text/x-python",
   "name": "python",
   "nbconvert_exporter": "python",
   "pygments_lexer": "ipython3",
   "version": "3.10.9"
  }
 },
 "nbformat": 4,
 "nbformat_minor": 5
}
