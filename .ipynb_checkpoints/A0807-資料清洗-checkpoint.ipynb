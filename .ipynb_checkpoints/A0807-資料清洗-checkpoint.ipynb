{
 "cells": [
  {
   "cell_type": "code",
   "execution_count": null,
   "id": "59d446d3",
   "metadata": {},
   "outputs": [],
   "source": [
    "import requests\n",
    "from bs4 import BeautifulSoup\n",
    "from time import sleep\n",
    "import openpyxl\n",
    "\n",
    "url = \"https://www.104.com.tw/jobs/search/?keyword=%E5%A4%A7%E6%95%B8%E6%93%9A&order=1&jobsource=2018indexpoc&ro=0\"\n",
    "res = requests.get(url)\n",
    "soup = BeautifulSoup(res.text,\"lxml\")\n",
    "wb = openpyxl.Workbook()\n",
    "ws = wb.active\n",
    "\n",
    "ws[\"A1\"]=\"刊登日期\"\n",
    "ws[\"B1\"]=\"工作名稱\"\n",
    "ws[\"C1\"]=\"職缺連結\"\n",
    "ws[\"D1\"]=\"公司名稱\"\n",
    "ws[\"E1\"]=\"工作地區\"\n",
    "ws[\"F1\"]=\"薪資待遇\"\n",
    "ws[\"G1\"]=\"應徵人數\"\n",
    "\n",
    "# print(html1[0])\n",
    "# for soup in \n",
    "# print(html1[0](\"a\")[0][\"href\"])\n",
    "# print(soup.find_all('article')[0],\"a\")\n",
    "# for 自訂統稱 in 每一物件 :\n",
    "# meger = [workname,internet,company,area,bouns]\n",
    "# meger = []\n",
    "page = 1\n",
    "# while page < 5:\n",
    "while soup.find_all(\"article\",class_=\"b-block--top-bord job-list-item b-clearfix js-job-item\")!=[]:\n",
    "    print(\"======================\")\n",
    "    print(\"現在正在讀取第\",page,\"頁\")\n",
    "    print(\"======================\")\n",
    "    meger = []\n",
    "    for job in soup.find_all(\"article\",class_=\"b-block--top-bord job-list-item b-clearfix js-job-item\"):\n",
    "        date = job.h2.span.text\n",
    "        workname = job.a.text        \n",
    "        internet = \"http:\"+job.a['href']        \n",
    "        company = job.ul.a.text.strip()        \n",
    "        location = job.select(\"ul\")[1].li.text\n",
    "        if job.find('div',class_=\"job-list-tag b-content\").select(\"span\")!=[] and job.find('div',class_=\"job-list-tag b-content\").span.text==\"待遇面議\":\n",
    "            salary = job.find('div',class_=\"job-list-tag b-content\").span.text\n",
    "            print(bouns)\n",
    "        else :\n",
    "            salary = job.find('div',class_=\"job-list-tag b-content\").a.text\n",
    "            print(bouns)\n",
    "        human = job.find(\"a\",class_=\"b-link--gray gtm-list-apply\").text    \n",
    "        print(date)    \n",
    "        print(workname)\n",
    "        print(internet)\n",
    "        print(company)\n",
    "        print(area)\n",
    "        print(human)\n",
    "        print(\"--------------------------------------------------------------------\")\n",
    "        ws.append([date,workname,internet,company,location,salary,human])\n",
    "        \n",
    "    page += 1 \n",
    "    url = \"https://www.104.com.tw/jobs/search/?ro=0&kwop=7&keyword=%E5%A4%A7%E6%95%B8%E6%93%9A&expansionType=area%2Cspec%2Ccom%2Cjob%2Cwf%2Cwktm&order=14&asc=0&page=\"+str(page)+\"&mode=s&jobsource=2018indexpoc&langFlag=0&langStatus=0&recommendJob=1&hotJob=1\"\n",
    "    res = requests.get(url)\n",
    "    soup = BeautifulSoup(res.text,\"lxml\")\n",
    "    sleep(2)\n",
    "    wb.save(\"104人力銀行0807.xlsx\")\n",
    "\n",
    "\n",
    "\n",
    "\n",
    "\n"
   ]
  },
  {
   "cell_type": "code",
   "execution_count": 2,
   "id": "bd136f66",
   "metadata": {},
   "outputs": [
    {
     "name": "stdout",
     "output_type": "stream",
     "text": [
      "10000~2000000\n"
     ]
    }
   ],
   "source": [
    "e = '月薪35,000元以上'\n",
    "e = '月薪38,000~45,000元'\n",
    "e = '時薪176元以上'\n",
    "e = '時薪176~190元'\n",
    "e = '年薪1,000,000元以上'\n",
    "e = '年薪3,000,000~4,000,000元'\n",
    "e = '論件計酬10,000~2,000,000元'\n",
    "\n",
    "# isdigit 只找有數字的字元\n",
    "\n",
    "f = e [:2]\n",
    "\n",
    "salary = \"\"\n",
    "for char in e:\n",
    "    if char == \"~\" or char.isdigit():\n",
    "        salary += char \n",
    "print (salary)"
   ]
  },
  {
   "cell_type": "code",
   "execution_count": null,
   "id": "cc514a49",
   "metadata": {},
   "outputs": [],
   "source": []
  },
  {
   "cell_type": "code",
   "execution_count": null,
   "id": "1134b922",
   "metadata": {},
   "outputs": [],
   "source": []
  }
 ],
 "metadata": {
  "kernelspec": {
   "display_name": "Python 3 (ipykernel)",
   "language": "python",
   "name": "python3"
  },
  "language_info": {
   "codemirror_mode": {
    "name": "ipython",
    "version": 3
   },
   "file_extension": ".py",
   "mimetype": "text/x-python",
   "name": "python",
   "nbconvert_exporter": "python",
   "pygments_lexer": "ipython3",
   "version": "3.10.9"
  }
 },
 "nbformat": 4,
 "nbformat_minor": 5
}
