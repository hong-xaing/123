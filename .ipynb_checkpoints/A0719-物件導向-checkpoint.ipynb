{
 "cells": [
  {
   "cell_type": "code",
   "execution_count": 48,
   "id": "d6dc1b61",
   "metadata": {},
   "outputs": [
    {
     "name": "stdout",
     "output_type": "stream",
     "text": [
      "台中市西屯區\n",
      "你的名字:鴻祥\n",
      "你的姓氏:呂\n",
      "姓氏: 呂\n"
     ]
    }
   ],
   "source": [
    "\n",
    "class Email:\n",
    "    def set_address(self,address):\n",
    "        print(address)\n",
    "    def set_name(self,firstName,lastName):\n",
    "        print(\"你的名字:\"+firstName)\n",
    "        print(\"你的姓氏:\"+lastName)\n",
    "        self.last_name = lastName\n",
    "    \n",
    "    def show_last_name(self):\n",
    "        print(\"姓氏: \" + self.last_name)\n",
    "#         show_last_name = self.mailLastName\n",
    "#         return show_last_name\n",
    "toTaichungMail = Email()\n",
    "toTaichungMail.set_address(\"台中市西屯區\")\n",
    "# firstName =input(\"請輸入你的名字 : \")\n",
    "# lastName = input(\"請輸入你的姓氏 : \")\n",
    "# youname.set_name(firstName,lastName)\n",
    "toTaichungMail.set_name(\"鴻祥\",\"呂\")\n",
    "toTaichungMail.show_last_name()\n"
   ]
  },
  {
   "cell_type": "code",
   "execution_count": null,
   "id": "2980f8ab",
   "metadata": {},
   "outputs": [],
   "source": [
    "class Calculator:\n",
    "    def set_value(self,a,b):\n",
    "        self.value = a \n",
    "        self.value = b \n",
    "    def add(self):\n",
    "        c = self.value1 + self.value2\n",
    "        print(c)\n",
    "    def iii(self):\n",
    "        c = self.value1 - self.value2\n",
    "        print(c)\n",
    "        "
   ]
  },
  {
   "cell_type": "code",
   "execution_count": 50,
   "id": "5fbbd0bc",
   "metadata": {},
   "outputs": [
    {
     "name": "stdout",
     "output_type": "stream",
     "text": [
      "1\n"
     ]
    }
   ],
   "source": [
    "# class method1 -> 設定血量 , method2 -> 顯示血量\n",
    "class method:\n",
    "    def set_blood(self,a):\n",
    "        self.blood1 = int(a) #設定血量\n",
    "        \n",
    "    def show_blood(self):\n",
    "        c = self.blood1\n",
    "        return (c)\n",
    "blood = method()\n",
    "blood.set_blood(1)\n",
    "me = blood.show_blood()  #要有人去接他。用ＭＥ接\n",
    "\n",
    "print(me)\n",
    "\n",
    "\n",
    "\n",
    "        "
   ]
  },
  {
   "cell_type": "code",
   "execution_count": null,
   "id": "b8630e82",
   "metadata": {},
   "outputs": [],
   "source": []
  },
  {
   "cell_type": "code",
   "execution_count": null,
   "id": "89fee4fb",
   "metadata": {},
   "outputs": [],
   "source": []
  }
 ],
 "metadata": {
  "kernelspec": {
   "display_name": "Python 3 (ipykernel)",
   "language": "python",
   "name": "python3"
  },
  "language_info": {
   "codemirror_mode": {
    "name": "ipython",
    "version": 3
   },
   "file_extension": ".py",
   "mimetype": "text/x-python",
   "name": "python",
   "nbconvert_exporter": "python",
   "pygments_lexer": "ipython3",
   "version": "3.10.9"
  }
 },
 "nbformat": 4,
 "nbformat_minor": 5
}
