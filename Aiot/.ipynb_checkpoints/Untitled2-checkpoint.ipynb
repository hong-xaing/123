{
 "cells": [
  {
   "cell_type": "code",
   "execution_count": null,
   "id": "1b6c395a",
   "metadata": {},
   "outputs": [],
   "source": []
  },
  {
   "cell_type": "code",
   "execution_count": null,
   "id": "5d728eee",
   "metadata": {},
   "outputs": [],
   "source": [
    "pip install pyautogui"
   ]
  },
  {
   "cell_type": "code",
   "execution_count": null,
   "id": "c742fc3a",
   "metadata": {},
   "outputs": [],
   "source": [
    "import pyautogui\n",
    "import time\n",
    "\n",
    "# 延迟一段时间，以便你有时间切换到需要操作的窗口或应用程序\n",
    "time.sleep(5)\n",
    "\n",
    "# 定义按键操作序列\n",
    "key_sequence = [\n",
    "    \"command\",          # 模拟按下Command键（相当于Windows的Ctrl键）\n",
    "    \"space\",            # 模拟按下Space键\n",
    "    \"type Hello, World!\",  # 输入文本\n",
    "    \"return\",           # 模拟按下Return键（相当于Windows的Enter键）\n",
    "]\n",
    "\n",
    "# 执行按键操作序列\n",
    "for key in key_sequence:\n",
    "    pyautogui.press(key)\n",
    "    time.sleep(0.5)  # 可以调整时间间隔\n",
    "\n",
    "# 释放Command键\n",
    "pyautogui.keyUp(\"command\")\n",
    "\n",
    "# 释放所有按键（以防止按住某个键）\n",
    "pyautogui.hotkey(\"command\", \"shift\", \"option\", \"control\", \"alt\")\n",
    "\n",
    "# 可选：关闭Num Lock以确保按键操作正常执行\n",
    "pyautogui.press(\"numlock\")\n",
    "\n",
    "# 可选：复位鼠标位置（如果需要）\n",
    "pyautogui.moveTo(0, 0)\n",
    "\n",
    "# 释放所有按键（以防止按住某个键）\n",
    "pyautogui.hotkey(\"command\", \"shift\", \"option\", \"control\", \"alt\")\n",
    "ㄇ"
   ]
  }
 ],
 "metadata": {
  "kernelspec": {
   "display_name": "Python 3 (ipykernel)",
   "language": "python",
   "name": "python3"
  },
  "language_info": {
   "codemirror_mode": {
    "name": "ipython",
    "version": 3
   },
   "file_extension": ".py",
   "mimetype": "text/x-python",
   "name": "python",
   "nbconvert_exporter": "python",
   "pygments_lexer": "ipython3",
   "version": "3.10.9"
  }
 },
 "nbformat": 4,
 "nbformat_minor": 5
}
