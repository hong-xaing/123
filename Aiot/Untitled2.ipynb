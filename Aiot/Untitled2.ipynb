{
 "cells": [
  {
   "cell_type": "code",
   "execution_count": null,
   "id": "1b6c395a",
   "metadata": {},
   "outputs": [],
   "source": []
  },
  {
   "cell_type": "code",
   "execution_count": null,
   "id": "5d728eee",
   "metadata": {},
   "outputs": [],
   "source": [
    "pip install pyautogui"
   ]
  },
  {
   "cell_type": "code",
   "execution_count": 3,
   "id": "c742fc3a",
   "metadata": {},
   "outputs": [],
   "source": [
    "import pyautogui\n",
    "import time\n",
    "\n",
    "# 延迟一段时间，以便你有时间切换到需要操作的窗口或应用程序\n",
    "time.sleep(5)\n",
    "   \n",
    "\n",
    "# 定义按键操作序列\n",
    "key_sequence = [\n",
    "    \"command\",          # 模拟按下Command键（相当于Windows的Ctrl键）\n",
    "    \"space\",            # 模拟按下Space键\n",
    "    \"type Hello, World!\",  # 输入文本\n",
    "    \"return\",           # 模拟按下Return键（相当于Windows的Enter键）\n",
    "]\n",
    "\n",
    "# 执行按键操作序列\n",
    "for key in key_sequence:\n",
    "    pyautogui.press(key)\n",
    "    time.sleep(0.5)  # 可以调整时间间隔\n",
    "\n",
    "# 释放Command键\n",
    "pyautogui.keyUp(\"command\")\n",
    "\n",
    "# 释放所有按键（以防止按住某个键）\n",
    "pyautogui.hotkey(\"command\", \"shift\", \"option\", \"control\", \"alt\")\n",
    "\n",
    "# 可选：关闭Num Lock以确保按键操作正常执行\n",
    "pyautogui.press(\"numlock\")\n",
    "\n",
    "# 可选：复位鼠标位置（如果需要）\n",
    "pyautogui.moveTo(0, 0)\n",
    "\n",
    "# 释放所有按键（以防止按住某个键）\n",
    "pyautogui.hotkey(\"command\", \"shift\", \"option\", \"control\", \"alt\")"
   ]
  },
  {
   "cell_type": "code",
   "execution_count": 21,
   "id": "5ec87ec3",
   "metadata": {},
   "outputs": [
    {
     "name": "stdout",
     "output_type": "stream",
     "text": [
      "当前鼠标位置：X坐标 = 342, Y坐标 = -418\n"
     ]
    }
   ],
   "source": [
    "import pyautogui\n",
    "\n",
    "# 获取当前鼠标的位置\n",
    "current_x, current_y = pyautogui.position()\n",
    "\n",
    "# 打印鼠标的位置\n",
    "print(f\"当前鼠标位置：X坐标 = {current_x}, Y坐标 = {current_y}\")\n"
   ]
  },
  {
   "cell_type": "code",
   "execution_count": 13,
   "id": "72e0527a",
   "metadata": {},
   "outputs": [
    {
     "name": "stdout",
     "output_type": "stream",
     "text": [
      "当前鼠标位置：X坐标 = 436, Y坐标 = 619\n"
     ]
    }
   ],
   "source": [
    "import pyautogui\n",
    "import time\n",
    "\n",
    "\n",
    "# 禁用 pyautogui 的 FAILSAFE 特性\n",
    "pyautogui.FAILSAFE = False\n",
    "\n",
    "# 延迟一段时间，以便你有时间切换到需要操作的窗口或应用程序\n",
    "time.sleep(5)\n",
    "\n",
    "# 指定要点击的位置坐标（这里是示例，你需要替换为实际的坐标）\n",
    "x, y = 729, 329  # 这里的数字是示例，根据你的需要修改\n",
    "\n",
    "# 移动鼠标到指定位置\n",
    "pyautogui.moveTo(x, y, duration=0.5)\n",
    "\n",
    "# # 在指定位置点击鼠标（左键点击）\n",
    "# pyautogui.click()\n",
    "# 模拟鼠标按下左键\n",
    "pyautogui.mouseDown()\n",
    "\n",
    "# 模拟鼠标释放左键（执行点击操作）\n",
    "pyautogui.mouseUp()\n",
    "\n",
    "# 可选：双击操作\n",
    "# pyautogui.doubleClick()\n",
    "\n",
    "# 可选：右键点击操作\n",
    "# pyautogui.rightClick()\n",
    "\n",
    "# 可选：中键点击操作\n",
    "# pyautogui.middleClick()\n",
    "# 获取当前鼠标的位置\n",
    "current_x, current_y = pyautogui.position()\n",
    "\n",
    "# 打印鼠标的位置\n",
    "print(f\"当前鼠标位置：X坐标 = {current_x}, Y坐标 = {current_y}\")\n"
   ]
  },
  {
   "cell_type": "code",
   "execution_count": 18,
   "id": "be7d1f0e",
   "metadata": {},
   "outputs": [],
   "source": [
    "from pynput.mouse import Controller, Button\n",
    "\n",
    "mouse = Controller()\n",
    "x, y = 436, 619  # 替换为实际坐标\n",
    "mouse.position = (x, y)\n",
    "mouse.click(Button.left, 1)\n"
   ]
  },
  {
   "cell_type": "code",
   "execution_count": 23,
   "id": "a8f0d6d8",
   "metadata": {},
   "outputs": [
    {
     "name": "stdout",
     "output_type": "stream",
     "text": [
      "None\n"
     ]
    }
   ],
   "source": [
    "import pyautogui\n",
    "import time\n",
    "\n",
    "# 禁用 pyautogui 的 FAILSAFE 特性\n",
    "pyautogui.FAILSAFE = False\n",
    "\n",
    "# 延迟一段时间，以便你有时间切换到需要操作的窗口或应用程序\n",
    "time.sleep(5)\n",
    "\n",
    "# 指定要点击的位置坐标（这里是示例，你需要替换为实际的坐标）\n",
    "x, y = 364, -418 # 这里的数字是示例，根据你的需要修改\n",
    "\n",
    "try:\n",
    "    # 移动鼠标到指定位置\n",
    "    a = pyautogui.moveTo(x, y, duration=0.5)\n",
    "    print(a)\n",
    "    # 模拟鼠标按下左键\n",
    "    pyautogui.mouseDown()\n",
    "\n",
    "    # 模拟鼠标释放左键（执行点击操作）\n",
    "    pyautogui.mouseUp()\n",
    "\n",
    "    # 可选：双击操作\n",
    "    # pyautogui.doubleClick()\n",
    "\n",
    "    # 可选：右键点击操作\n",
    "    # pyautogui.rightClick()\n",
    "\n",
    "    # 可选：中键点击操作\n",
    "    # pyautogui.middleClick()\n",
    "\n",
    "except Exception as e:\n",
    "    print(f\"发生错误：{e}\")\n",
    "\n",
    "# 还原 pyautogui 的 FAILSAFE 特性\n",
    "pyautogui.FAILSAFE = True\n"
   ]
  }
 ],
 "metadata": {
  "kernelspec": {
   "display_name": "Python 3 (ipykernel)",
   "language": "python",
   "name": "python3"
  },
  "language_info": {
   "codemirror_mode": {
    "name": "ipython",
    "version": 3
   },
   "file_extension": ".py",
   "mimetype": "text/x-python",
   "name": "python",
   "nbconvert_exporter": "python",
   "pygments_lexer": "ipython3",
   "version": "3.10.9"
  }
 },
 "nbformat": 4,
 "nbformat_minor": 5
}
