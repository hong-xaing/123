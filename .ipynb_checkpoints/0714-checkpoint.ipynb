{
 "cells": [
  {
   "cell_type": "code",
   "execution_count": null,
   "id": "2201778a",
   "metadata": {},
   "outputs": [],
   "source": [
    "# https://developers.line.biz/console/\n",
    "provider>> create\n",
    "Messaging API\n",
    "Channel access token\n",
    "執行下面程式碼\n",
    "Webhook settings  verify\n",
    "Auto-reply messages edit 自動回覆訊息關掉。回應時間關掉\n",
    "pip install line-bot-sdk\n",
    "replytoken 一次最高一分鐘。一次最多五則訊息\n",
    "架通道"
   ]
  },
  {
   "cell_type": "code",
   "execution_count": null,
   "id": "f0bf7bc5",
   "metadata": {},
   "outputs": [],
   "source": [
    "from flask import Flask, request\n",
    "#https://github.com/line/line-bot-sdk-python\n",
    "from linebot import LineBotApi, WebhookHandler\n",
    "from linebot.models import FlexSendMessage, TextSendMessage,ImageSendMessage\n",
    "# \"originalContentUrl\",\"previewImageUrl\"\n",
    "#FlexSendMessage#彈性訊息\n",
    "token=\"AJsA7B89VzEQ5u9rOtGfwo1e5Ek8NFXFLk0mS16RgbRlAhN7Hz1fZxDRD0IQJuouzD4ky2Vfgjy1D8pSwTgl7+2Vwwp3TpWGFuoaGDg0kOpQCwjS6u1lQnHhxZKAWYGNIXK2IY/zjX4en6tAcY8GCAdB04t89/1O/w1cDnyilFU=\"\n",
    "app = Flask(__name__)\n",
    "# LINE 聊天機器人的基本資料\n",
    "line_bot = LineBotApi(token)\n",
    "@app.route(\"/\", methods=['POST'])\n",
    "def verify():\n",
    "    data = request.get_json()\n",
    "    print(data)\n",
    "    #給Webhook驗證使用\n",
    "    if len(data['events'])==0:\n",
    "        print(\"webhook驗證通知\")\n",
    "        pass\n",
    "    else:\n",
    "        TEXT = data['events'][0][\"message\"][\"text\"]\n",
    "        UID = data['events'][0][\"source\"][\"userId\"]\n",
    "        RPTK = data['events'][0][\"replyToken\"]\n",
    "        line_bot.reply_message(RPTK,[TextSendMessage(text=TEXT)])\n",
    "    return 'OK',200 \n",
    "    \n",
    "if __name__ == \"__main__\":\n",
    "    app.run(port=2000)"
   ]
  },
  {
   "cell_type": "code",
   "execution_count": null,
   "id": "f69ac079",
   "metadata": {},
   "outputs": [],
   "source": []
  },
  {
   "cell_type": "code",
   "execution_count": null,
   "id": "b603f7d1",
   "metadata": {},
   "outputs": [],
   "source": [
    "data = {'destination': 'U33510d7087d8b2ce7df38fc97bf60844', 'events': [{'type': 'message', 'message': {'type': 'text', 'id': '463771861642117153', 'text': '222'}, 'webhookEventId': '01H57WPQ7N096YYF1VW5YK1312', 'deliveryContext': {'isRedelivery': False}, 'timestamp': 1689260874709, 'source': {'type': 'user', 'userId': 'Ueb00b631e26738ff112ee19982f56b1a'}, 'replyToken': '14a3d843456542f1b6e1a04e79480698', 'mode': 'active'}]}\n",
    "print(data['events'][0])\n",
    "# 要get line message first get userid and \n",
    "# 目的分析從舊遊戲到新遊戲的銷售情況分析出大眾玩家在購買的時間區間,購買的價格,購買的種類類型,判斷就遊戲在退流行時候的定價,以及剛上市的定價會不會因為遊戲的ＧＢ容量大小影響\n",
    "# 回傳年份(點進去可以看到他的發行日),回傳價格(定價),回傳購買人氣（最暢銷亦或是下載最多次數),回傳遊戲種類(冒險類還是戰略類型),回傳購買年齡(如果有就用沒有就算了),回傳需要的最建議遊戲配備（ps4 or ps5)\n",
    "# https://store.playstation.com/zh-hant-tw/category/05a2d027-cedc-4ac0-abeb-8fc26fec7180/1?ACTION=productGenres&ADVENTURE=productGenres&ROLE_PLAYING_GAMES=productGenres\n"
   ]
  },
  {
   "cell_type": "code",
   "execution_count": null,
   "id": "0b4b6685",
   "metadata": {},
   "outputs": [],
   "source": [
    "pip install pyimgur"
   ]
  },
  {
   "cell_type": "code",
   "execution_count": null,
   "id": "80965e23",
   "metadata": {},
   "outputs": [],
   "source": [
    "from flask import Flask, request\n",
    "#https://github.com/line/line-bot-sdk-python\n",
    "from linebot import LineBotApi, WebhookHandler\n",
    "from linebot.models import FlexSendMessage, TextSendMessage,ImageSendMessage\n",
    "# \"originalContentUrl\"實際圖片,\"previewImageUrl\"預覽圖鑑（可放同樣的網址)\n",
    "# postback,data不會回傳 message,text會回傳訊息\n",
    "# FlexSendMessage(alt_text=\"123\"<<隨便打,但必須要,contents=line json format\n",
    "# FlexSendMessage#彈性訊息\n",
    "# https://developers.line.biz/console/channel/2000121514/messaging-api\n",
    "token=\"AJsA7B89VzEQ5u9rOtGfwo1e5Ek8NFXFLk0mS16RgbRlAhN7Hz1fZxDRD0IQJuouzD4ky2Vfgjy1D8pSwTgl7+2Vwwp3TpWGFuoaGDg0kOpQCwjS6u1lQnHhxZKAWYGNIXK2IY/zjX4en6tAcY8GCAdB04t89/1O/w1cDnyilFU=\"\n",
    "app = Flask(__name__)\n",
    "# LINE 聊天機器人的基本資料\n",
    "line_bot = LineBotApi(token)\n",
    "print(line_bot)\n",
    "@app.route(\"/\", methods=['POST'])\n",
    "def verify():\n",
    "    data = request.get_json()\n",
    "    print(data)\n",
    "    #給Webhook驗證使用\n",
    "    if len(data['events'])==0:\n",
    "        print(\"webhook驗證通知\")\n",
    "        pass\n",
    "    else:\n",
    "        TEXT = data['events'][0][\"message\"][\"text\"]\n",
    "        UID = data['events'][0][\"source\"][\"userId\"]\n",
    "        RPTK = data['events'][0][\"replyToken\"]\n",
    "        line_bot.reply_message(RPTK,FlexSendMessage(alt_text=\"123\",contents={\n",
    "  \"type\": \"bubble\",\n",
    "  \"direction\": \"ltr\",\n",
    "  \"header\": {\n",
    "    \"type\": \"box\",\n",
    "    \"layout\": \"vertical\",\n",
    "    \"contents\": [\n",
    "      {\n",
    "        \"type\": \"text\",\n",
    "        \"text\": \"Header\",\n",
    "        \"align\": \"center\",\n",
    "        \"contents\": []\n",
    "      }\n",
    "    ]\n",
    "  },\n",
    "  \"hero\": {\n",
    "    \"type\": \"image\",\n",
    "    \"url\": \"https://cdn.bella.tw/index_image/sJL9enrS80PwnX8N8PdpDNRGvWZUFQ5UaephEzDJ.jpeg\",\n",
    "    \"size\": \"full\",\n",
    "    \"aspectRatio\": \"1.51:1\",\n",
    "    \"aspectMode\": \"fit\"\n",
    "  },\n",
    "  \"body\": {\n",
    "    \"type\": \"box\",\n",
    "    \"layout\": \"vertical\",\n",
    "    \"contents\": [\n",
    "      {\n",
    "        \"type\": \"text\",\n",
    "        \"text\": \"Body\",\n",
    "        \"align\": \"center\",\n",
    "        \"contents\": []\n",
    "      }\n",
    "    ]\n",
    "  },\n",
    "  \"footer\": {\n",
    "    \"type\": \"box\",\n",
    "    \"layout\": \"horizontal\",\n",
    "    \"contents\": [\n",
    "      {\n",
    "        \"type\": \"button\",\n",
    "        \"action\": {\n",
    "          \"type\": \"uri\",\n",
    "          \"label\": \"Button\",\n",
    "          \"uri\": \"https://game.udn.com/game/story/122089/7297434\"\n",
    "        }\n",
    "      }\n",
    "    ]\n",
    "  }\n",
    "}))\n",
    "    return \"ok\",200  \n",
    "if __name__ == \"__main__\":\n",
    "    app.run(port=2000)"
   ]
  },
  {
   "cell_type": "code",
   "execution_count": null,
   "id": "735688e5",
   "metadata": {},
   "outputs": [],
   "source": [
    "# https://api.imgur.com/oauth2/addclient"
   ]
  },
  {
   "cell_type": "code",
   "execution_count": null,
   "id": "6e28115d",
   "metadata": {},
   "outputs": [],
   "source": [
    "pip install pyimgur"
   ]
  },
  {
   "cell_type": "code",
   "execution_count": null,
   "id": "6ee0d5b9",
   "metadata": {},
   "outputs": [],
   "source": [
    "import pyimgur\n",
    "\n",
    "CLIENT_ID = \"7e7e7fb659d788a\"\n",
    "title = \"Uploaded with PyImgur\"\n",
    "im = pyimgur.Imgur(CLIENT_ID)\n",
    "uploaded_image = im.upload_image(\"//Users//lvhongxiang//Downloads//images.jpg\", title=title)\n",
    "print(uploaded_image.title)\n",
    "print(uploaded_image.link)\n",
    "print(uploaded_image.type)"
   ]
  },
  {
   "cell_type": "code",
   "execution_count": null,
   "id": "6c7be44b",
   "metadata": {},
   "outputs": [],
   "source": [
    "https://i.imgur.com/OtzJQ24.jpg 柯哀\n",
    "    https://i.imgur.com/NuQxNCZ.jpg 柯金\n",
    "        "
   ]
  },
  {
   "cell_type": "code",
   "execution_count": 1,
   "id": "d36a5d5a",
   "metadata": {},
   "outputs": [],
   "source": [
    "koman = {\n",
    "  \"type\": \"carousel\",\n",
    "  \"contents\": [\n",
    "    {\n",
    "      \"type\": \"bubble\",\n",
    "      \"direction\": \"ltr\",\n",
    "      \"header\": {\n",
    "        \"type\": \"box\",\n",
    "        \"layout\": \"vertical\",\n",
    "        \"contents\": [\n",
    "          {\n",
    "            \"type\": \"text\",\n",
    "            \"text\": \"柯哀配\",\n",
    "            \"align\": \"center\",\n",
    "            \"contents\": []\n",
    "          }\n",
    "        ]\n",
    "      },\n",
    "      \"hero\": {\n",
    "        \"type\": \"image\",\n",
    "        \"url\": \"https://i.imgur.com/OtzJQ24.jpg\",\n",
    "        \"size\": \"full\",\n",
    "        \"aspectRatio\": \"1.51:1\",\n",
    "        \"aspectMode\": \"fit\"\n",
    "      },\n",
    "      \"body\": {\n",
    "        \"type\": \"box\",\n",
    "        \"layout\": \"vertical\",\n",
    "        \"contents\": [\n",
    "          {\n",
    "            \"type\": \"text\",\n",
    "            \"text\": \"1000\",\n",
    "            \"align\": \"center\",\n",
    "            \"contents\": []\n",
    "          }\n",
    "        ]\n",
    "      },\n",
    "      \"footer\": {\n",
    "        \"type\": \"box\",\n",
    "        \"layout\": \"horizontal\",\n",
    "        \"contents\": [\n",
    "          {\n",
    "            \"type\": \"button\",\n",
    "            \"action\": {\n",
    "              \"type\": \"postback\",\n",
    "              \"label\": \"柯哀\",\n",
    "              \"data\": \"柯哀\"\n",
    "            }\n",
    "          }\n",
    "        ]\n",
    "      }\n",
    "    },\n",
    "    {\n",
    "      \"type\": \"bubble\",\n",
    "      \"direction\": \"ltr\",\n",
    "      \"header\": {\n",
    "        \"type\": \"box\",\n",
    "        \"layout\": \"vertical\",\n",
    "        \"contents\": [\n",
    "          {\n",
    "            \"type\": \"text\",\n",
    "            \"text\": \"柯金\",\n",
    "            \"align\": \"center\",\n",
    "            \"contents\": []\n",
    "          }\n",
    "        ]\n",
    "      },\n",
    "      \"hero\": {\n",
    "        \"type\": \"image\",\n",
    "        \"url\": \"https://i.imgur.com/NuQxNCZ.jpg\",\n",
    "        \"size\": \"full\",\n",
    "        \"aspectRatio\": \"1.51:1\",\n",
    "        \"aspectMode\": \"fit\"\n",
    "      },\n",
    "      \"body\": {\n",
    "        \"type\": \"box\",\n",
    "        \"layout\": \"vertical\",\n",
    "        \"contents\": [\n",
    "          {\n",
    "            \"type\": \"text\",\n",
    "            \"text\": \"1500\",\n",
    "            \"align\": \"center\",\n",
    "            \"contents\": []\n",
    "          }\n",
    "        ]\n",
    "      },\n",
    "      \"footer\": {\n",
    "        \"type\": \"box\",\n",
    "        \"layout\": \"horizontal\",\n",
    "        \"contents\": [\n",
    "          {\n",
    "            \"type\": \"button\",\n",
    "            \"action\": {\n",
    "              \"type\": \"postback\",\n",
    "              \"label\": \"柯金\",\n",
    "              \"data\": \"柯金\"\n",
    "            }\n",
    "          }\n",
    "        ]\n",
    "      }\n",
    "    },\n",
    "    {\n",
    "      \"type\": \"bubble\",\n",
    "      \"direction\": \"ltr\",\n",
    "      \"footer\": {\n",
    "        \"type\": \"box\",\n",
    "        \"layout\": \"horizontal\",\n",
    "        \"contents\": [\n",
    "          {\n",
    "            \"type\": \"button\",\n",
    "            \"action\": {\n",
    "              \"type\": \"message\",\n",
    "              \"label\": \"結帳\",\n",
    "              \"text\": \"結帳\"\n",
    "            }\n",
    "          },\n",
    "          {\n",
    "            \"type\": \"button\",\n",
    "            \"action\": {\n",
    "              \"type\": \"message\",\n",
    "              \"label\": \"重新選擇\",\n",
    "              \"text\": \"重新選擇\"\n",
    "            }\n",
    "          }\n",
    "        ]\n",
    "      }\n",
    "    }\n",
    "  ]\n",
    "}"
   ]
  },
  {
   "cell_type": "code",
   "execution_count": null,
   "id": "bc9b7a1c",
   "metadata": {
    "scrolled": true
   },
   "outputs": [
    {
     "name": "stdout",
     "output_type": "stream",
     "text": [
      "<linebot.api.LineBotApi object at 0x1062bae90>\n",
      " * Serving Flask app '__main__'\n",
      " * Debug mode: off\n"
     ]
    },
    {
     "name": "stderr",
     "output_type": "stream",
     "text": [
      "/var/folders/ks/8cj4xyj16c17rh2g43jnt4kh0000gn/T/ipykernel_40266/3155357166.py:13: LineBotSdkDeprecatedIn30: Call to deprecated class LineBotApi. (Use v3 class; linebot.v3.<feature>. See https://github.com/line/line-bot-sdk-python/blob/master/README.rst for more details.) -- Deprecated since version 3.0.0.\n",
      "  line_bot = LineBotApi(token)\n",
      "WARNING: This is a development server. Do not use it in a production deployment. Use a production WSGI server instead.\n",
      " * Running on http://127.0.0.1:2000\n",
      "Press CTRL+C to quit\n",
      "127.0.0.1 - - [14/Jul/2023 16:22:30] \"POST / HTTP/1.1\" 200 -\n"
     ]
    },
    {
     "name": "stdout",
     "output_type": "stream",
     "text": [
      "{'destination': 'U33510d7087d8b2ce7df38fc97bf60844', 'events': [{'type': 'message', 'message': {'type': 'text', 'id': '463876007167263173', 'text': '1'}, 'webhookEventId': '01H59QX413JNMSWDBF9JB4J729', 'deliveryContext': {'isRedelivery': False}, 'timestamp': 1689322950403, 'source': {'type': 'user', 'userId': 'Ueb00b631e26738ff112ee19982f56b1a'}, 'replyToken': '139f73d1c5824d57ad6ca8509266ca41', 'mode': 'active'}]}\n",
      "{'destination': 'U33510d7087d8b2ce7df38fc97bf60844', 'events': [{'type': 'message', 'message': {'type': 'text', 'id': '463876009549628051', 'text': '1'}, 'webhookEventId': '01H59QX5NE2QK8295MN4RHYRJV', 'deliveryContext': {'isRedelivery': False}, 'timestamp': 1689322951885, 'source': {'type': 'user', 'userId': 'Ueb00b631e26738ff112ee19982f56b1a'}, 'replyToken': '007f998b5f1b40a6949943578de37c5f', 'mode': 'active'}]}\n"
     ]
    },
    {
     "name": "stderr",
     "output_type": "stream",
     "text": [
      "/var/folders/ks/8cj4xyj16c17rh2g43jnt4kh0000gn/T/ipykernel_40266/3155357166.py:48: LineBotSdkDeprecatedIn30: Call to deprecated method reply_message. (Use 'from linebot.v3.messaging import MessagingApi' and 'MessagingApi(...).reply_message(...)' instead. See https://github.com/line/line-bot-sdk-python/blob/master/README.rst for more details.) -- Deprecated since version 3.0.0.\n",
      "  line_bot.reply_message(RPTK,FlexSendMessage(alt_text=\"123\",contents=koman))\n",
      "127.0.0.1 - - [14/Jul/2023 16:22:32] \"POST / HTTP/1.1\" 200 -\n",
      "127.0.0.1 - - [14/Jul/2023 16:22:36] \"POST / HTTP/1.1\" 200 -\n",
      "127.0.0.1 - - [14/Jul/2023 16:22:36] \"POST / HTTP/1.1\" 200 -\n"
     ]
    },
    {
     "name": "stdout",
     "output_type": "stream",
     "text": [
      "{'destination': 'U33510d7087d8b2ce7df38fc97bf60844', 'events': [{'type': 'postback', 'postback': {'data': '柯哀'}, 'webhookEventId': '01H59QX9WGF0K765ZBM1PDJMQS', 'deliveryContext': {'isRedelivery': False}, 'timestamp': 1689322956557, 'source': {'type': 'user', 'userId': 'Ueb00b631e26738ff112ee19982f56b1a'}, 'replyToken': '5ffab6896ae14ddaa80fbb2f437efe8f', 'mode': 'active'}]}\n",
      "{'destination': 'U33510d7087d8b2ce7df38fc97bf60844', 'events': [{'type': 'postback', 'postback': {'data': '柯哀'}, 'webhookEventId': '01H59QXA0FDC3FQXB0MJKCNF5T', 'deliveryContext': {'isRedelivery': False}, 'timestamp': 1689322956312, 'source': {'type': 'user', 'userId': 'Ueb00b631e26738ff112ee19982f56b1a'}, 'replyToken': '469b0bc73bc34456b3dba3d7e2376ab6', 'mode': 'active'}]}\n"
     ]
    },
    {
     "name": "stderr",
     "output_type": "stream",
     "text": [
      "127.0.0.1 - - [14/Jul/2023 16:22:36] \"POST / HTTP/1.1\" 200 -\n",
      "127.0.0.1 - - [14/Jul/2023 16:22:37] \"POST / HTTP/1.1\" 200 -\n"
     ]
    },
    {
     "name": "stdout",
     "output_type": "stream",
     "text": [
      "{'destination': 'U33510d7087d8b2ce7df38fc97bf60844', 'events': [{'type': 'postback', 'postback': {'data': '柯哀'}, 'webhookEventId': '01H59QXA3AQ751FTT2T24V28TF', 'deliveryContext': {'isRedelivery': False}, 'timestamp': 1689322956659, 'source': {'type': 'user', 'userId': 'Ueb00b631e26738ff112ee19982f56b1a'}, 'replyToken': '236d12ff698f488dbcec559db65c97d7', 'mode': 'active'}]}\n",
      "{'destination': 'U33510d7087d8b2ce7df38fc97bf60844', 'events': [{'type': 'postback', 'postback': {'data': '柯哀'}, 'webhookEventId': '01H59QXA5VTH4KYFG5XP3Y9AN0', 'deliveryContext': {'isRedelivery': False}, 'timestamp': 1689322956744, 'source': {'type': 'user', 'userId': 'Ueb00b631e26738ff112ee19982f56b1a'}, 'replyToken': '15e9d32f06334e7392f9324defb8963c', 'mode': 'active'}]}\n"
     ]
    },
    {
     "name": "stderr",
     "output_type": "stream",
     "text": [
      "127.0.0.1 - - [14/Jul/2023 16:22:37] \"POST / HTTP/1.1\" 200 -\n",
      "127.0.0.1 - - [14/Jul/2023 16:22:37] \"POST / HTTP/1.1\" 200 -\n",
      "127.0.0.1 - - [14/Jul/2023 16:22:37] \"POST / HTTP/1.1\" 200 -\n"
     ]
    },
    {
     "name": "stdout",
     "output_type": "stream",
     "text": [
      "{'destination': 'U33510d7087d8b2ce7df38fc97bf60844', 'events': [{'type': 'postback', 'postback': {'data': '柯哀'}, 'webhookEventId': '01H59QXAN2ND0ED7J3YK23Q9QR', 'deliveryContext': {'isRedelivery': False}, 'timestamp': 1689322956971, 'source': {'type': 'user', 'userId': 'Ueb00b631e26738ff112ee19982f56b1a'}, 'replyToken': '79ac23537bc84ca8bab2221e2302ffe6', 'mode': 'active'}]}\n",
      "{'destination': 'U33510d7087d8b2ce7df38fc97bf60844', 'events': [{'type': 'postback', 'postback': {'data': '柯哀'}, 'webhookEventId': '01H59QXAPPP1WBQZ0TMPS2GH4W', 'deliveryContext': {'isRedelivery': False}, 'timestamp': 1689322957148, 'source': {'type': 'user', 'userId': 'Ueb00b631e26738ff112ee19982f56b1a'}, 'replyToken': '5d9c32f725bb48089736660b49e1b64a', 'mode': 'active'}]}\n",
      "{'destination': 'U33510d7087d8b2ce7df38fc97bf60844', 'events': [{'type': 'postback', 'postback': {'data': '柯哀'}, 'webhookEventId': '01H59QXASYSE916F4696W5GFBT', 'deliveryContext': {'isRedelivery': False}, 'timestamp': 1689322957347, 'source': {'type': 'user', 'userId': 'Ueb00b631e26738ff112ee19982f56b1a'}, 'replyToken': '5bc930bf8fc74c74882b4459d6a592b8', 'mode': 'active'}]}\n"
     ]
    },
    {
     "name": "stderr",
     "output_type": "stream",
     "text": [
      "127.0.0.1 - - [14/Jul/2023 16:22:37] \"POST / HTTP/1.1\" 200 -\n"
     ]
    },
    {
     "name": "stdout",
     "output_type": "stream",
     "text": [
      "{'destination': 'U33510d7087d8b2ce7df38fc97bf60844', 'events': [{'type': 'postback', 'postback': {'data': '柯哀'}, 'webhookEventId': '01H59QXAXJHSQ5BR1TGAY1FH6A', 'deliveryContext': {'isRedelivery': False}, 'timestamp': 1689322957244, 'source': {'type': 'user', 'userId': 'Ueb00b631e26738ff112ee19982f56b1a'}, 'replyToken': '3e48db02e6a847249f9ddfd019532785', 'mode': 'active'}]}\n"
     ]
    },
    {
     "name": "stderr",
     "output_type": "stream",
     "text": [
      "127.0.0.1 - - [14/Jul/2023 16:22:38] \"POST / HTTP/1.1\" 200 -\n"
     ]
    },
    {
     "name": "stdout",
     "output_type": "stream",
     "text": [
      "{'destination': 'U33510d7087d8b2ce7df38fc97bf60844', 'events': [{'type': 'postback', 'postback': {'data': '柯哀'}, 'webhookEventId': '01H59QXB9KZ8AS7RB78875X69S', 'deliveryContext': {'isRedelivery': False}, 'timestamp': 1689322957628, 'source': {'type': 'user', 'userId': 'Ueb00b631e26738ff112ee19982f56b1a'}, 'replyToken': '4561117ff5644a68a456adbc194298d5', 'mode': 'active'}, {'type': 'postback', 'postback': {'data': '柯哀'}, 'webhookEventId': '01H59QXB9KJP4APRSK8AV2DB5F', 'deliveryContext': {'isRedelivery': False}, 'timestamp': 1689322957845, 'source': {'type': 'user', 'userId': 'Ueb00b631e26738ff112ee19982f56b1a'}, 'replyToken': '1488e8369e7b42e090e8441319d5d95b', 'mode': 'active'}, {'type': 'postback', 'postback': {'data': '柯哀'}, 'webhookEventId': '01H59QXBA9R7YNJJ65YMM1X15C', 'deliveryContext': {'isRedelivery': False}, 'timestamp': 1689322957936, 'source': {'type': 'user', 'userId': 'Ueb00b631e26738ff112ee19982f56b1a'}, 'replyToken': '0ea3d07a7e3e4731b4b55a7fc489ad5c', 'mode': 'active'}]}\n"
     ]
    },
    {
     "name": "stderr",
     "output_type": "stream",
     "text": [
      "127.0.0.1 - - [14/Jul/2023 16:22:38] \"POST / HTTP/1.1\" 200 -\n"
     ]
    },
    {
     "name": "stdout",
     "output_type": "stream",
     "text": [
      "{'destination': 'U33510d7087d8b2ce7df38fc97bf60844', 'events': [{'type': 'postback', 'postback': {'data': '柯哀'}, 'webhookEventId': '01H59QXBF7M48B2NG3WTJXVMXX', 'deliveryContext': {'isRedelivery': False}, 'timestamp': 1689322958031, 'source': {'type': 'user', 'userId': 'Ueb00b631e26738ff112ee19982f56b1a'}, 'replyToken': 'f3ebee83010246f5a9fa1589f42f5801', 'mode': 'active'}]}\n"
     ]
    },
    {
     "name": "stderr",
     "output_type": "stream",
     "text": [
      "127.0.0.1 - - [14/Jul/2023 16:22:42] \"POST / HTTP/1.1\" 200 -\n"
     ]
    },
    {
     "name": "stdout",
     "output_type": "stream",
     "text": [
      "{'destination': 'U33510d7087d8b2ce7df38fc97bf60844', 'events': [{'type': 'postback', 'postback': {'data': '柯金'}, 'webhookEventId': '01H59QXF7TF6MWDS8786SG1DZF', 'deliveryContext': {'isRedelivery': False}, 'timestamp': 1689322962122, 'source': {'type': 'user', 'userId': 'Ueb00b631e26738ff112ee19982f56b1a'}, 'replyToken': 'd20d640521674f6694f3d4f5e7df8118', 'mode': 'active'}]}\n"
     ]
    },
    {
     "name": "stderr",
     "output_type": "stream",
     "text": [
      "127.0.0.1 - - [14/Jul/2023 16:22:42] \"POST / HTTP/1.1\" 200 -\n",
      "127.0.0.1 - - [14/Jul/2023 16:22:42] \"POST / HTTP/1.1\" 200 -\n"
     ]
    },
    {
     "name": "stdout",
     "output_type": "stream",
     "text": [
      "{'destination': 'U33510d7087d8b2ce7df38fc97bf60844', 'events': [{'type': 'postback', 'postback': {'data': '柯金'}, 'webhookEventId': '01H59QXFT72J15187DTC8E1DMV', 'deliveryContext': {'isRedelivery': False}, 'timestamp': 1689322962460, 'source': {'type': 'user', 'userId': 'Ueb00b631e26738ff112ee19982f56b1a'}, 'replyToken': '28de8fb15b924cfba652f4f6a184c610', 'mode': 'active'}]}\n",
      "{'destination': 'U33510d7087d8b2ce7df38fc97bf60844', 'events': [{'type': 'postback', 'postback': {'data': '柯金'}, 'webhookEventId': '01H59QXFXGEJJM8HZCJBQDHB2M', 'deliveryContext': {'isRedelivery': False}, 'timestamp': 1689322962362, 'source': {'type': 'user', 'userId': 'Ueb00b631e26738ff112ee19982f56b1a'}, 'replyToken': '6d46422eb834438486c8d6fcfafbc56a', 'mode': 'active'}]}\n"
     ]
    },
    {
     "name": "stderr",
     "output_type": "stream",
     "text": [
      "127.0.0.1 - - [14/Jul/2023 16:22:43] \"POST / HTTP/1.1\" 200 -\n"
     ]
    },
    {
     "name": "stdout",
     "output_type": "stream",
     "text": [
      "{'destination': 'U33510d7087d8b2ce7df38fc97bf60844', 'events': [{'type': 'postback', 'postback': {'data': '柯金'}, 'webhookEventId': '01H59QXG3M29Z8NX58WSC4YS92', 'deliveryContext': {'isRedelivery': False}, 'timestamp': 1689322962558, 'source': {'type': 'user', 'userId': 'Ueb00b631e26738ff112ee19982f56b1a'}, 'replyToken': '83accbd76b9e4ee1a8637c1689b56902', 'mode': 'active'}]}\n",
      "{'destination': 'U33510d7087d8b2ce7df38fc97bf60844', 'events': [{'type': 'message', 'message': {'type': 'text', 'id': '463876030621286814', 'text': '結帳'}, 'webhookEventId': '01H59QXHB2H4W9JS30K04EP93E', 'deliveryContext': {'isRedelivery': False}, 'timestamp': 1689322964264, 'source': {'type': 'user', 'userId': 'Ueb00b631e26738ff112ee19982f56b1a'}, 'replyToken': 'f1b5811c02fe4a2fa53c5bef3a36436d', 'mode': 'active'}]}\n"
     ]
    },
    {
     "name": "stderr",
     "output_type": "stream",
     "text": [
      "/var/folders/ks/8cj4xyj16c17rh2g43jnt4kh0000gn/T/ipykernel_40266/3155357166.py:41: LineBotSdkDeprecatedIn30: Call to deprecated method reply_message. (Use 'from linebot.v3.messaging import MessagingApi' and 'MessagingApi(...).reply_message(...)' instead. See https://github.com/line/line-bot-sdk-python/blob/master/README.rst for more details.) -- Deprecated since version 3.0.0.\n",
      "  line_bot.reply_message(RPTK,TextSendMessage(text=\"總計%d元\"%(user[UID][\"總金額\"])))\n",
      "127.0.0.1 - - [14/Jul/2023 16:22:44] \"POST / HTTP/1.1\" 200 -\n"
     ]
    }
   ],
   "source": [
    "from flask import Flask, request\n",
    "#https://github.com/line/line-bot-sdk-python\n",
    "from linebot import LineBotApi, WebhookHandler\n",
    "from linebot.models import FlexSendMessage, TextSendMessage,ImageSendMessage\n",
    "# \"originalContentUrl\"實際圖片,\"previewImageUrl\"預覽圖鑑（可放同樣的網址)\n",
    "# postback,data不會回傳 message,text會回傳訊息\n",
    "# FlexSendMessage(alt_text=\"123\"<<隨便打,但必須要,contents=line json format\n",
    "# FlexSendMessage#彈性訊息\n",
    "# https://developers.line.biz/console/channel/2000121514/messaging-api\n",
    "token=\"AJsA7B89VzEQ5u9rOtGfwo1e5Ek8NFXFLk0mS16RgbRlAhN7Hz1fZxDRD0IQJuouzD4ky2Vfgjy1D8pSwTgl7+2Vwwp3TpWGFuoaGDg0kOpQCwjS6u1lQnHhxZKAWYGNIXK2IY/zjX4en6tAcY8GCAdB04t89/1O/w1cDnyilFU=\"\n",
    "app = Flask(__name__)\n",
    "# LINE 聊天機器人的基本資料\n",
    "line_bot = LineBotApi(token)\n",
    "print(line_bot)\n",
    "user={}#{UID:{}}\n",
    "his=[]\n",
    "@app.route(\"/\", methods=['GET'])\n",
    "def End():   \n",
    "    count=0\n",
    "    print(his)\n",
    "    for x in his:\n",
    "        count+=x[\"總金額:\"]\n",
    "    return \"總金額＝%d元\"%(count)\n",
    "#再去看\n",
    "@app.route(\"/\", methods=['POST'])\n",
    "def verify():\n",
    "    data = request.get_json()\n",
    "    print(data)\n",
    "    #給Webhook驗證使用\n",
    "    if len(data['events'])==0:\n",
    "        print(\"webhook驗證通知\")\n",
    "        pass\n",
    "    elif data['events'][0][\"type\"]==\"message\":  #message\n",
    "        TEXT = data['events'][0][\"message\"][\"text\"]  #結帳\n",
    "        UID = data['events'][0][\"source\"][\"userId\"]  #Ueb00b631e26738ff112ee19982f56b1a\n",
    "        RPTK = data['events'][0][\"replyToken\"]       #9037e664367e4a22aab89db6e7afe472\n",
    "#         if data['events'][0][\"source\"][\"userId\"] in {}\n",
    "        if UID in user:\n",
    "            if TEXT == \"結帳\":\n",
    "                user[UID][\"總金額\"]=user[UID][\"柯哀\"]*1000+user[UID][\"柯金\"]*1500\n",
    "                line_bot.reply_message(RPTK,TextSendMessage(text=\"總計%d元\"%(user[UID][\"總金額\"])))\n",
    "                his.append({UID:user[UID]})\n",
    "                user[UID]={\"柯哀\":0,\"柯金\":0,\"總金額:\":0}\n",
    "#                 print(user[UID])\n",
    "            elif TEXT == \"重新選擇\":\n",
    "                user[UID]={\"柯哀\":0,\"柯金\":0,\"總金額:\":0}\n",
    "            else:\n",
    "                line_bot.reply_message(RPTK,FlexSendMessage(alt_text=\"123\",contents=koman))\n",
    "        else:\n",
    "            user[UID]={\"柯哀\":0,\"柯金\":0,\"總金額:\":0}\n",
    "    else:\n",
    "        DATA = data['events'][0][\"postback\"][\"data\"]\n",
    "        UID = data['events'][0][\"source\"][\"userId\"]\n",
    "        user[UID][DATA]+=1\n",
    "        \n",
    "    return \"ok\",200  \n",
    "if __name__ == \"__main__\":\n",
    "    app.run(port=2000)"
   ]
  },
  {
   "cell_type": "code",
   "execution_count": null,
   "id": "da99e5e3",
   "metadata": {},
   "outputs": [],
   "source": [
    "data = {'destination': 'U33510d7087d8b2ce7df38fc97bf60844', 'events': [{'type': 'message', 'message': {'type': 'text', 'id': '463867448907530613', 'text': '1'}, 'webhookEventId': '01H59K1EEDXVP4HGDW32TRRVYZ', 'deliveryContext': {'isRedelivery': False}, 'timestamp': 1689317849164, 'source': {'type': 'user', 'userId': 'Ueb00b631e26738ff112ee19982f56b1a'}, 'replyToken': '9037e664367e4a22aab89db6e7afe472', 'mode': 'active'}]}\n",
    "\n",
    "print(data['events'][0][\"replyToken\"])\n"
   ]
  },
  {
   "cell_type": "code",
   "execution_count": null,
   "id": "c1b5fbcb",
   "metadata": {},
   "outputs": [],
   "source": [
    "from flask import Flask, request\n",
    "#https://github.com/line/line-bot-sdk-python\n",
    "from linebot import LineBotApi, WebhookHandler\n",
    "from linebot.models import FlexSendMessage, TextSendMessage,StickerSendMessage\n",
    "token=\"ue/h2ghjRiMLH5m2diJ121YoXWEnuct6oh8GGo+/EKlPNN38ad16veeDWG1w/Gs0hFr3HWQung2q4PhCQPCkZKn+Xbf75WApKDcZT6chABi21JQ2aCoJ7CJOh6zCdch9kB+wky1r7rTXVGDm7cXUmgdB04t89/1O/w1cDnyilFU=\"\n",
    "app = Flask(__name__)\n",
    "# LINE 聊天機器人的基本資料\n",
    "line_bot = LineBotApi(token)\n",
    "true=True\n",
    "user={}#{UID:{\"皮卡丘\":0,\"小火龍\":0,\"妙蛙種子\":0,\"總金額\":0}}\n",
    "@app.route(\"/\", methods=['POST'])\n",
    "def verify():\n",
    "    data = request.get_json()\n",
    "    print(data)\n",
    "    #給Webhook驗證使用\n",
    "    if len(data['events'])==0:\n",
    "        print(\"webhook驗證通知\")\n",
    "        pass\n",
    "    elif data['events'][0]['type']==\"message\":\n",
    "        TEXT=data['events'][0]['message']['text']\n",
    "        UID=data['events'][0]['source']['userId']\n",
    "        RPTK=data['events'][0]['replyToken']\n",
    "        if UID in user:#使用者已有登錄\n",
    "            if TEXT==\"結帳\":\n",
    "                user[UID][\"總金額\"]=user[UID][\"皮卡丘\"]*100+user[UID][\"小火龍\"]*120+user[UID][\"妙蛙種子\"]*150\n",
    "                line_bot.reply_message(RPTK,TextSendMessage(text=\"總計%d元\"%(user[UID][\"總金額\"])))\n",
    "                user[UID]={\"皮卡丘\":0,\"小火龍\":0,\"妙蛙種子\":0,\"總金額\":0}\n",
    "            elif TEXT==\"重新選擇\":\n",
    "                user[UID]={\"皮卡丘\":0,\"小火龍\":0,\"妙蛙種子\":0,\"總金額\":0}\n",
    "            else:\n",
    "                line_bot.reply_message(RPTK,[FlexSendMessage(alt_text=\"123\", contents=menu),FlexSendMessage(alt_text=\"123\", contents=choose)])\n",
    "        else:#使用者未登錄過\n",
    "            user[UID]={\"皮卡丘\":0,\"小火龍\":0,\"妙蛙種子\":0,\"總金額\":0}\n",
    "            line_bot.reply_message(RPTK,[FlexSendMessage(alt_text=\"123\", contents=menu),FlexSendMessage(alt_text=\"123\", contents=choose)])\n",
    "    else:\n",
    "        #TEXT=data['events'][0]['postback']['text']\n",
    "        DATA=data['events'][0]['postback']['data']\n",
    "        UID=data['events'][0]['source']['userId']\n",
    "        user[UID][DATA]=user[UID][DATA]+1\n",
    "    return 'OK',200\n",
    "if __name__ == \"__main__\":\n",
    "    app.run(port=3000)"
   ]
  },
  {
   "cell_type": "code",
   "execution_count": null,
   "id": "68555942",
   "metadata": {},
   "outputs": [],
   "source": [
    "a = \"a\"\n",
    "b = \"a\"\n",
    "if \"a\" == \"a\" :\n",
    "    print (\"a\")\n",
    "else :\n",
    "    print (\"b\")\n",
    "\n",
    "user = {}\n",
    "user = {\"柯哀\":1}\n",
    "user = {\"柯哀\":2}\n",
    "user[UID][DATA]==\"柯哀\"\n",
    "user = {\"柯哀\":1}"
   ]
  },
  {
   "cell_type": "code",
   "execution_count": null,
   "id": "2d18401f",
   "metadata": {},
   "outputs": [],
   "source": [
    "a = {\"A\":[123,234],\"B\":[445,675],\"A\":[123,234],\"A\":[123,234]}\n",
    "\n",
    "custom = [\"A\",\"B\"]\n",
    "user = {}\n",
    "for x in a :\n",
    "    if x not in custom:\n",
    "        custom.append(x)#x串接成清單\n",
    "    print(x)\n",
    "# for y in custom:\n",
    "#     user[y]={\"皮卡丘\":0,\"小火龍\":0,\"妙蛙種子\":0,\"總金額\":0}\n",
    "# user"
   ]
  }
 ],
 "metadata": {
  "kernelspec": {
   "display_name": "Python 3 (ipykernel)",
   "language": "python",
   "name": "python3"
  },
  "language_info": {
   "codemirror_mode": {
    "name": "ipython",
    "version": 3
   },
   "file_extension": ".py",
   "mimetype": "text/x-python",
   "name": "python",
   "nbconvert_exporter": "python",
   "pygments_lexer": "ipython3",
   "version": "3.10.9"
  }
 },
 "nbformat": 4,
 "nbformat_minor": 5
}
