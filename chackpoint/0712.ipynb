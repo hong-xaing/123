{
 "cells": [
  {
   "cell_type": "code",
   "execution_count": null,
   "id": "ce6fefa1",
   "metadata": {},
   "outputs": [],
   "source": [
    "粉專\n",
    "貼文\n",
    "留言\n",
    "回覆\n",
    "\n",
    "\n"
   ]
  },
  {
   "cell_type": "code",
   "execution_count": null,
   "id": "67a17134",
   "metadata": {},
   "outputs": [],
   "source": []
  },
  {
   "cell_type": "code",
   "execution_count": null,
   "id": "b64b500a",
   "metadata": {},
   "outputs": [],
   "source": []
  },
  {
   "cell_type": "code",
   "execution_count": 11,
   "id": "7628eb9b",
   "metadata": {},
   "outputs": [
    {
     "name": "stdout",
     "output_type": "stream",
     "text": [
      "{'data': [{'created_time': '2023-07-12T01:34:05+0000', 'message': '這是一個機器人測試', 'id': '115447678275957_100400489799434'}, {'created_time': '2023-07-12T01:23:20+0000', 'message': '機器人測試', 'id': '115447678275957_100396486466501'}], 'paging': {'cursors': {'before': 'QVFIUlBZAQ2NnekhyaWExdXNwZA2gtLTA5V1lPalROOFdXUVppTzktMFQwdGxYOWhuX3VGaFFBVjVfYWhoSVduQ0VRc3E1dVZADeEJYRHNmM1lvN3h2Skxnd0FENmNTUl8xb0pIcVZANMGpSTU1UMV9yOWs4WVVHQnluejFlX3ZA2LVg1azdyTFE5UG9nY0NuMXI1RWJlVkFQb1EwcjVGUEZAEN19iNERZANmFoMkY1SEMxZAGVEZAWhqcnc0c3lJZA1ZAId0g4b2hGdXBGNG45azE5bU5YSlZA1WHVaQjNNdmR5ZAXlrRTVJN2o3U1B5ZAzdtX2xMRnA4OFhnUjhqY2FPVkJ1MmlGQjljaWVlQUd1b1ZAxRVZAZAR2pVMVVQc0o3anpNNHh0M0hxRmRucUJqSnNRbmo3SDFqUjFSN3h3NjJyLTRrNmpSaXhzR2pGS1pueThBcm1ET3FWQmFlNU13WDVOb0RId0RBRGNMUnhURlpteVV5WU52bWpvUFl0Vl83MFVpUUFGbjdDUms4ZAE1ZANlVQbFhGRWJuMEZA5ZA1lzcjNIZAXF3MU83bWwwb2pVS1hHdkctN1N6MFdvOUQyQ1JoLVN3VTgxV0M3cXJDSk9La3RiN2RkZAUxJcXhkbkxkWUJFVWpR', 'after': 'QVFIUmdMcGtJSnJ5c1B5UTdRTGxkNmE2LTFrNWo0NnNxaFNnV2JuT0pCVE1JT0cwbURQX2ljYkVmLVgxTmJpQmJyTlp1dEg3TjJid0l3NE1CVGRqUjNOeF9ZAT0EtWW1OaFVkeUlZANERjdmJ2Y1VsbFZAzY1l2Y2x4TmpRWFFKZADZAxTkx0azl5ZAUVqZAktWN0gxbko5OUV0Y1AyNHcyNjZAXOUZArakptMmFYQVJCSWJPTFFDNzBIZAGxaUDZAPNU4xR3FGNTVlUFJ6cC1namFrUEpUenVsYzR6aDRFeU5NbzNDaHhDc2taSnhwWDdnUFRRQkplT04tTDBndUUxYks2ajh3ZAlppSFpGNXp4UGhzcmJnRmR4QkRKUVlueFFnbGIwRGVrR0ZA0d0k3VUJoLXZAEbnBiQU9qLXJjQVNIcXkwaGpudzc1MS1la0tLTXRkNWdfeHgyOEVuQXQwZA3ZAyUGE0aU50NjN3dWpLZAVI0bUwwRnBNVy1udXRwSVVFZA0lqckJRZAHZAIblRjLUcybVZAVS3hURFU1Nk5NNnJYN0FsR1FyMnhtNDI2anE4NG00dUJmdDRVNUF4VEg4ZAUhkZAEozWmdxa3ZAfQjA0VDVWSm5NUVBNdHhqN3FMaDRLQ0xJWklB'}}}\n"
     ]
    }
   ],
   "source": [
    "import requests  #引入外部\n",
    "import json\n",
    "import time\n",
    "import jieba\n",
    "# curl -i -X GET \\\n",
    "#  \"https://graph.facebook.com/v17.0/me?access_token=\"\n",
    "host = \"https://graph.facebook.com/v17.0/\"\n",
    "page_id = \"115447678275957\"\n",
    "token = \"EAATaH0MNoVYBACDp5f9lryW748W4xFWfQyA6LL977n1lzuwZAarlwXE0KfAVHQpggAxlNEReYoZBcprBZBM7BPNeJIU8Hh35wbo5ZANKpVF5HqE7VyRSeykDgSukx0wyKpuL9srzjuWiA7PIUQJHyMJdoqAgr8CrhqT2bI4vo91AIjPVKjmYe7DYiiYMsfNBKTTBkZCgjbQfFGKMhk7t2\"\n",
    "# token=input(\"請輸入token：\")\n",
    "res = requests.get(host+page_id+\"/posts?access_token=\"+token)\n",
    "#得到的代碼  https://developers.facebook.com/tools/explorer/?method=GET&path=me%3Ffields%3Dposts&version=v17.0\n",
    "jd = json.loads(res.text)\n",
    "print(jd)\n",
    "# jds = jd[\"data\"][0]\n",
    "# print(jd[\"data\"][0][\"from\"][\"id\"])"
   ]
  },
  {
   "cell_type": "code",
   "execution_count": 12,
   "id": "439d05d4",
   "metadata": {},
   "outputs": [
    {
     "data": {
      "text/plain": [
       "{'data': [{'created_time': '2023-07-12T01:49:49+0000',\n",
       "   'from': {'name': '呂鴻祥', 'id': '6390119434357938'},\n",
       "   'message': '測試',\n",
       "   'id': '100400489799434_1015170022811572'}],\n",
       " 'paging': {'cursors': {'before': 'MQZDZD', 'after': 'MQZDZD'}}}"
      ]
     },
     "execution_count": 12,
     "metadata": {},
     "output_type": "execute_result"
    }
   ],
   "source": [
    "post_id = \"115447678275957_100400489799434\"\n",
    "res = requests.get(host+post_id+\"/comments?access_token=\"+token)\n",
    "#得到的代碼  https://developers.facebook.com/tools/explorer/?method=GET&path=me%3Ffields%3Dposts&version=v17.0\n",
    "jd = json.loads(res.text)\n",
    "jd\n"
   ]
  },
  {
   "cell_type": "code",
   "execution_count": 14,
   "id": "1bcc82ab",
   "metadata": {},
   "outputs": [
    {
     "data": {
      "text/plain": [
       "{'data': [{'created_time': '2023-07-12T01:49:57+0000',\n",
       "   'from': {'name': '呂鴻祥', 'id': '6390119434357938'},\n",
       "   'message': '我就是愛測試',\n",
       "   'id': '100400489799434_248869041255614'}],\n",
       " 'paging': {'cursors': {'before': 'QVFIUl9FTHhfZAXpPdjVsbjAwZA2lKWFBwZA0JCQy1yV0NWbjUwbmNRZA1RvdlJsRTZAobjBnZA3JYU3NkOWNhWW1OcjNpbjhqV0RGQVF0MVhMeGZARLVdWbXM5ZAXV3',\n",
       "   'after': 'QVFIUl9FTHhfZAXpPdjVsbjAwZA2lKWFBwZA0JCQy1yV0NWbjUwbmNRZA1RvdlJsRTZAobjBnZA3JYU3NkOWNhWW1OcjNpbjhqV0RGQVF0MVhMeGZARLVdWbXM5ZAXV3'}}}"
      ]
     },
     "execution_count": 14,
     "metadata": {},
     "output_type": "execute_result"
    }
   ],
   "source": [
    "com_id = \"100400489799434_1015170022811572\"\n",
    "res = requests.get(host+com_id+\"/comments?access_token=\"+token)\n",
    "#得到的代碼  https://developers.facebook.com/tools/explorer/?method=GET&path=me%3Ffields%3Dposts&version=v17.0\n",
    "jd = json.loads(res.text)\n",
    "jd"
   ]
  },
  {
   "cell_type": "code",
   "execution_count": null,
   "id": "7c076e1e",
   "metadata": {},
   "outputs": [],
   "source": []
  },
  {
   "cell_type": "code",
   "execution_count": null,
   "id": "82f9fcb5",
   "metadata": {},
   "outputs": [],
   "source": []
  },
  {
   "cell_type": "code",
   "execution_count": null,
   "id": "5e66be92",
   "metadata": {},
   "outputs": [],
   "source": []
  }
 ],
 "metadata": {
  "kernelspec": {
   "display_name": "Python 3 (ipykernel)",
   "language": "python",
   "name": "python3"
  },
  "language_info": {
   "codemirror_mode": {
    "name": "ipython",
    "version": 3
   },
   "file_extension": ".py",
   "mimetype": "text/x-python",
   "name": "python",
   "nbconvert_exporter": "python",
   "pygments_lexer": "ipython3",
   "version": "3.10.9"
  }
 },
 "nbformat": 4,
 "nbformat_minor": 5
}
