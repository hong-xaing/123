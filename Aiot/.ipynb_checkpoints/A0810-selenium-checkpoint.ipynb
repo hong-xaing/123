{
 "cells": [
  {
   "cell_type": "code",
   "execution_count": null,
   "id": "e4ed6a6b",
   "metadata": {},
   "outputs": [],
   "source": [
    "# pip install selenium"
   ]
  },
  {
   "cell_type": "code",
   "execution_count": null,
   "id": "576eec4f",
   "metadata": {},
   "outputs": [],
   "source": [
    "from selenium import webdriver\n",
    "from selenium.webdriver.chrome.service import Service\n",
    "from selenium.webdriver.common.by import By\n",
    "# 抓chromedriver放的路徑\n",
    "service = Service(executable_path = \"/Users/lvhongxiang/chackpoint/chromedriver-mac-x64/chromedriver\")\n",
    "driver = webdriver.Chrome(service=service)\n",
    "#抓網址\n",
    "driver.get(\"https://popcat.click/\")\n",
    "div = driver.find_element(By.ID,\"app\")\n",
    "div.click()"
   ]
  },
  {
   "cell_type": "code",
   "execution_count": null,
   "id": "074abc28",
   "metadata": {},
   "outputs": [],
   "source": [
    "from selenium import webdriver\n",
    "from selenium.webdriver.chrome.service import Service\n",
    "from selenium.webdriver.common.by import By\n",
    "from selenium.webdriver.support.wait import WebDriverWait\n",
    "from selenium.webdriver.support import expected_conditions as EC\n",
    "from selenium.webdriver.common.keys import Keys  #模擬按鍵\n",
    "from selenium.webdriver.chrome.options import Options  #設定要關掉小鈴鐺\n",
    "\n",
    "option = webdriver.ChromeOptions()   \n",
    "prefs = {\"profile.default_content_setting_values\":{\"notifications\":2}}\n",
    "option.add_experimental_option(\"prefs\",prefs)\n",
    "password = \"\"\n",
    "\n",
    "# 抓chromedriver放的路徑\n",
    "service = Service(executable_path = \"/Users/lvhongxiang/chackpoint/chromedriver-mac-x64/chromedriver\",options=option)\n",
    "driver = webdriver.Chrome(service=service)\n",
    "# 讀取網址是否可以輸入\n",
    "driver.get(\"https://www.facebook.com/\")\n",
    "# 網頁F12抓取帳號所需要的位置\n",
    "username = WebDriverWait(driver,10).until(EC.element_to_be_clickable((By.CSS_SELECTOR,\"input[name='email']\")))\n",
    "# 輸入帳號的位置\n",
    "username.send_keys(\"linjocowbala4@gmail.com\")\n",
    "# 網頁F12抓取密碼所需要的位置\n",
    "passWord = WebDriverWait(driver,10).until(EC.element_to_be_clickable((By.CSS_SELECTOR,\"input[name='pass']\")))\n",
    "# 輸入密碼的位置\n",
    "passWord.send_keys(password)\n",
    "# 網頁F12抓取登入所需要的位置\n",
    "login = WebDriverWait(driver,10).until(EC.element_to_be_clickable((By.CSS_SELECTOR,\"button[name='login']\")))\n",
    "# 點擊登入的\n",
    "# username.click()\n",
    "login.send_keys(Keys.ENTER)\n",
    "\n"
   ]
  },
  {
   "cell_type": "code",
   "execution_count": null,
   "id": "7d3e2cfc",
   "metadata": {},
   "outputs": [],
   "source": [
    "import json\n",
    "cookie = driver.get_cookies()\n",
    "print(cookie)\n",
    "jsoncookie = json.dumps(cookie)\n",
    "with open(\"facebook.json\",\"w\") as f:\n",
    "#     寫入jsoncookie\n",
    "    f.write(jsoncookie)    \n",
    "    f.close()"
   ]
  },
  {
   "cell_type": "code",
   "execution_count": null,
   "id": "cd6f4654",
   "metadata": {},
   "outputs": [],
   "source": [
    "from selenium import webdriver\n",
    "from selenium.webdriver.chrome.service import Service\n",
    "from selenium.webdriver.common.by import By\n",
    "from selenium.webdriver.support.wait import WebDriverWait\n",
    "from selenium.webdriver.support import expected_conditions as EC\n",
    "from selenium.webdriver.common.keys import Keys  #模擬按鍵\n",
    "from selenium.webdriver.chrome.options import Options  #設定要關掉小鈴鐺\n",
    "\n",
    "option = webdriver.ChromeOptions()   \n",
    "prefs = {\"profile.default_content_setting_values\":{\"notifications\":2}}\n",
    "option.add_experimental_option(\"prefs\",prefs)\n",
    "\n",
    "password = \"\"\n",
    "\n",
    "# 抓chromedriver放的路徑\n",
    "service = Service(executable_path = \"/Users/lvhongxiang/chackpoint/chromedriver-mac-x64/chromedriver\",options=option)\n",
    "driver = webdriver.Chrome(service=service)\n",
    "driver.get(\"https://www.facebook.com/\")\n",
    "\n",
    "f1 = open(\"facebook.json\")\n",
    "cookies = json.loads(f1.read())\n",
    "for i in cookies:\n",
    "    driver.add_cookie(i)\n",
    "f.close\n",
    "\n",
    "driver.refresh()\n",
    "\n"
   ]
  },
  {
   "cell_type": "code",
   "execution_count": null,
   "id": "e859ee30",
   "metadata": {},
   "outputs": [],
   "source": [
    "# -----------------------------------------------------------------------\n",
    "\n",
    "# 1111人力銀行練習"
   ]
  },
  {
   "cell_type": "code",
   "execution_count": 1,
   "id": "b3a00e2b",
   "metadata": {},
   "outputs": [],
   "source": [
    "from selenium import webdriver\n",
    "from selenium.webdriver.chrome.service import Service\n",
    "from selenium.webdriver.common.by import By\n",
    "# 抓chromedriver放的路徑\n",
    "service = Service(executable_path = \"/Users/lvhongxiang/chackpoint/chromedriver-mac-x64/chromedriver\")\n",
    "driver = webdriver.Chrome(service=service)\n",
    "#抓網址\n",
    "driver.get(\"https://www.1111.com.tw/\")\n",
    "username = WebDriverWait(driver,10).until(EC.element_to_be_clickable((By.CSS_SELECTOR,\"input[name='ks']\")))\n",
    "username.send_keys(\"大數據\")"
   ]
  },
  {
   "cell_type": "code",
   "execution_count": null,
   "id": "4252afcd",
   "metadata": {},
   "outputs": [],
   "source": []
  },
  {
   "cell_type": "code",
   "execution_count": null,
   "id": "282baf76",
   "metadata": {},
   "outputs": [],
   "source": []
  }
 ],
 "metadata": {
  "kernelspec": {
   "display_name": "Python 3 (ipykernel)",
   "language": "python",
   "name": "python3"
  },
  "language_info": {
   "codemirror_mode": {
    "name": "ipython",
    "version": 3
   },
   "file_extension": ".py",
   "mimetype": "text/x-python",
   "name": "python",
   "nbconvert_exporter": "python",
   "pygments_lexer": "ipython3",
   "version": "3.10.9"
  }
 },
 "nbformat": 4,
 "nbformat_minor": 5
}
