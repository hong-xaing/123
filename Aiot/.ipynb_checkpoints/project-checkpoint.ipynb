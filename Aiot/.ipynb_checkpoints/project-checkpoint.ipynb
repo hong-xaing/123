{
 "cells": [
  {
   "cell_type": "code",
   "execution_count": null,
   "id": "76e96ed3",
   "metadata": {
    "scrolled": true
   },
   "outputs": [],
   "source": [
    "from selenium import webdriver\n",
    "from selenium.webdriver.chrome.service import Service\n",
    "from selenium.webdriver.common.by import By\n",
    "from selenium.webdriver.support.wait import WebDriverWait\n",
    "from selenium.webdriver.support import expected_conditions as EC\n",
    "from selenium.webdriver.common.keys import Keys  #模擬按鍵\n",
    "from selenium.webdriver.chrome.options import Options  #設定要關掉小鈴鐺\n",
    "# 抓chromedriver放的路徑\n",
    "service = Service(executable_path = \"/Users/lvhongxiang/Aiot/chromedriver-mac-x64/chromedriver\")\n",
    "driver = webdriver.Chrome(service=service)\n",
    "#抓網址\n",
    "driver.get(\"https://www.taipower.com.tw/tc/page.aspx?mid=5554\")\n",
    "\n",
    "\n",
    "locations = WebDriverWait(driver,10).until(EC.element_to_be_clickable((By.LINK_TEXT,\"全部下載\")))\n",
    "# print(location.get_attribute(\"href\"))\n",
    "# 點擊登入的\n",
    "# location.click()\n",
    "# hrefs = []\n",
    "\n",
    "# 迭代處理每個 location 元素\n",
    "for location in locations:\n",
    "    \n",
    "    location.click()\n",
    "#     href = location.get_attribute(\"href\")\n",
    "#     hrefs.append(href)\n",
    "\n",
    "# # 輸出抓取到的 hrefs\n",
    "# for href in hrefs:\n",
    "#     print(href)\n",
    "\n",
    "# # 不要忘記關閉瀏覽器視窗\n",
    "# driver.quit()\n",
    "# class=\"box_info\""
   ]
  },
  {
   "cell_type": "code",
   "execution_count": 4,
   "id": "38c8def3",
   "metadata": {},
   "outputs": [],
   "source": [
    "from selenium import webdriver\n",
    "from selenium.webdriver.chrome.service import Service\n",
    "from selenium.webdriver.common.by import By\n",
    "from selenium.webdriver.support.wait import WebDriverWait\n",
    "from selenium.webdriver.support import expected_conditions as EC\n",
    "\n",
    "# 抓取 chromedriver 放的路徑\n",
    "service = Service(executable_path=\"/Users/lvhongxiang/Aiot/chromedriver-mac-x64/chromedriver\")\n",
    "driver = webdriver.Chrome(service=service)\n",
    "\n",
    "# 抓取網址\n",
    "driver.get(\"https://www.taipower.com.tw/tc/page.aspx?mid=5554\")\n",
    "\n",
    "# 使用 WebDriverWait 等待元素出現並可被點擊\n",
    "locations = WebDriverWait(driver, 10).until(EC.presence_of_all_elements_located((By.LINK_TEXT, \"全部下載\")))\n",
    "\n",
    "# 迭代處理每個 location 元素\n",
    "for location in locations:\n",
    "    # 點擊全部下載\n",
    "    location.click()\n",
    "    \n",
    "    # 在這裡添加你想要進行的操作，例如等待頁面載入完成、下載文件等\n",
    "    # 注意：你可能需要等待一些時間，直到下載完成或頁面變化\n",
    "\n",
    "# 不要忘記關閉瀏覽器視窗\n",
    "driver.quit()\n",
    "\n"
   ]
  },
  {
   "cell_type": "code",
   "execution_count": 5,
   "id": "57832a24",
   "metadata": {},
   "outputs": [],
   "source": [
    "from selenium import webdriver\n",
    "from selenium.webdriver.chrome.service import Service\n",
    "from selenium.webdriver.common.by import By\n",
    "from selenium.webdriver.support.wait import WebDriverWait\n",
    "from selenium.webdriver.support import expected_conditions as EC\n",
    "\n",
    "# 抓取 chromedriver 放的路徑\n",
    "service = Service(executable_path=\"/Users/lvhongxiang/Aiot/chromedriver-mac-x64/chromedriver\")\n",
    "driver = webdriver.Chrome(service=service)\n",
    "\n",
    "# 設定下載路徑\n",
    "download_path = \"/Users/lvhongxiang/Aiot/專題\"  # 替換成你希望的資料夾路徑\n",
    "chrome_options = webdriver.ChromeOptions()\n",
    "chrome_options.add_experimental_option(\"prefs\", {\"download.default_directory\": download_path})\n",
    "driver = webdriver.Chrome(service=service, options=chrome_options)\n",
    "\n",
    "# 抓取網址\n",
    "driver.get(\"https://www.taipower.com.tw/tc/page.aspx?mid=5554\")\n",
    "\n",
    "# 使用 WebDriverWait 等待元素出現並可被點擊\n",
    "locations = WebDriverWait(driver, 10).until(EC.presence_of_all_elements_located((By.LINK_TEXT, \"全部下載\")))\n",
    "\n",
    "# 迭代處理每個 location 元素\n",
    "for location in locations:\n",
    "    # 點擊全部下載\n",
    "    location.click()\n",
    "    \n",
    "    # 在這裡添加你想要進行的操作，例如等待頁面載入完成、下載文件等\n",
    "    # 注意：你可能需要等待一些時間，直到下載完成或頁面變化\n",
    "\n",
    "# 不要忘記關閉瀏覽器視窗\n",
    "driver.quit()\n"
   ]
  },
  {
   "cell_type": "code",
   "execution_count": 11,
   "id": "6403c02e",
   "metadata": {
    "scrolled": true
   },
   "outputs": [
    {
     "name": "stdout",
     "output_type": "stream",
     "text": [
      "CSV files merged into Excel.\n"
     ]
    },
    {
     "name": "stderr",
     "output_type": "stream",
     "text": [
      "/Users/lvhongxiang/anaconda3/lib/python3.10/site-packages/xlsxwriter/workbook.py:339: UserWarning: Calling close() on already closed file.\n",
      "  warn(\"Calling close() on already closed file.\")\n"
     ]
    }
   ],
   "source": [
    "import pandas as pd\n",
    "import os\n",
    "\n",
    "# 設定下載路徑\n",
    "download_path = \"/Users/lvhongxiang/Aiot/專題\"  # 替換成你下載檔案的資料夾路徑\n",
    "\n",
    "# 收集所有 CSV 檔案的路徑\n",
    "csv_files = [os.path.join(download_path, file) for file in os.listdir(download_path) if file.endswith(\".csv\")]\n",
    "output_path = \"/Users/lvhongxiang/Aiot/專題/7_.xlsx\"\n",
    "# 創建一個 Excel 寫入器\n",
    "excel_writer = pd.ExcelWriter(output_path, engine=\"xlsxwriter\")\n",
    "\n",
    "# 創建一個 Excel 工作簿\n",
    "workbook = excel_writer.book\n",
    "\n",
    "# 迭代處理每個 CSV 檔案\n",
    "for csv_file in csv_files:\n",
    "    # 讀取 CSV 檔案\n",
    "    df = pd.read_csv(csv_file)\n",
    "    \n",
    "    # 將資料寫入 Excel 工作表（以 CSV 檔名為工作表名）\n",
    "    sheet_name = os.path.basename(csv_file)[:-4]  # 移除 .csv 副檔名\n",
    "    df.to_excel(excel_writer, sheet_name=sheet_name, index=False)\n",
    "\n",
    "# 關閉 Excel 寫入器\n",
    "excel_writer.close()\n",
    "\n",
    "# 關閉 Excel 工作簿\n",
    "workbook.close()\n",
    "\n",
    "print(\"CSV files merged into Excel.\")\n"
   ]
  },
  {
   "cell_type": "code",
   "execution_count": 2,
   "id": "c7603f59",
   "metadata": {
    "scrolled": true
   },
   "outputs": [
    {
     "name": "stdout",
     "output_type": "stream",
     "text": [
      "Collecting xlsxwriter\n",
      "  Downloading XlsxWriter-3.1.2-py3-none-any.whl (153 kB)\n",
      "\u001b[2K     \u001b[90m━━━━━━━━━━━━━━━━━━━━━━━━━━━━━━━━━━━━━\u001b[0m \u001b[32m153.0/153.0 kB\u001b[0m \u001b[31m831.1 kB/s\u001b[0m eta \u001b[36m0:00:00\u001b[0ma \u001b[36m0:00:01\u001b[0m\n",
      "\u001b[?25hInstalling collected packages: xlsxwriter\n",
      "Successfully installed xlsxwriter-3.1.2\n",
      "Note: you may need to restart the kernel to use updated packages.\n"
     ]
    }
   ],
   "source": [
    "pip install xlsxwriter\n"
   ]
  },
  {
   "cell_type": "code",
   "execution_count": null,
   "id": "63ac726f",
   "metadata": {},
   "outputs": [],
   "source": [
    "from selenium import webdriver\n",
    "from selenium.webdriver.chrome.service import Service\n",
    "from selenium.webdriver.common.by import By\n",
    "from selenium.webdriver.support.wait import WebDriverWait\n",
    "from selenium.webdriver.support import expected_conditions as EC\n",
    "import pandas as pd\n",
    "import os\n",
    "# 抓取 chromedriver 放的路徑\n",
    "service = Service(executable_path=\"/Users/lvhongxiang/Aiot/chromedriver-mac-x64/chromedriver\")\n",
    "driver = webdriver.Chrome(service=service)\n",
    "\n",
    "# 設定下載路徑\n",
    "download_path = \"/Users/lvhongxiang/Aiot/專題\"  # 替換成你想下載的資料夾路徑\n",
    "chrome_options = webdriver.ChromeOptions()\n",
    "chrome_options.add_experimental_option(\"prefs\", {\"download.default_directory\": download_path})\n",
    "driver = webdriver.Chrome(service=service, options=chrome_options)\n",
    "\n",
    "# 抓取網址\n",
    "driver.get(\"https://www.taipower.com.tw/tc/page.aspx?mid=5554\")\n",
    "\n",
    "# 使用 WebDriverWait 等待元素出現並可被點擊\n",
    "locations = WebDriverWait(driver, 10).until(EC.presence_of_all_elements_located((By.LINK_TEXT, \"全部下載\")))\n",
    "\n",
    "# 處理每個 location裡面有關全部下載\n",
    "for location in locations:\n",
    "    # 點擊全部下載\n",
    "    location.click()\n",
    "driver.quit()\n",
    "# 收集所有 CSV 檔案的路徑\n",
    "csv_files = [os.path.join(download_path, file) for file in os.listdir(download_path) if file.endswith(\".csv\")]\n",
    "output_path = \"/Users/lvhongxiang/Aiot/專題/7_合併.xlsx\"\n",
    "\n",
    "excel_writer = pd.ExcelWriter(output_path, engine=\"xlsxwriter\")\n",
    "# 創建一個 Excel 工作簿\n",
    "workbook = excel_writer.book\n",
    "for csv_file in csv_files:\n",
    "    df = pd.read_csv(csv_file) # 讀取 CSV 檔案\n",
    "    \n",
    "    # 將資料寫入 Excel 工作表（以 CSV 檔名為工作表名）\n",
    "    sheet_name = os.path.basename(csv_file)[:-4]  # 移除 .csv 副檔名\n",
    "    df.to_excel(excel_writer, sheet_name=sheet_name, index=False)\n",
    "excel_writer.close()\n",
    "workbook.close()\n",
    "\n",
    "# print(\"CSV files merged into Excel.\")\n"
   ]
  },
  {
   "cell_type": "code",
   "execution_count": null,
   "id": "d3c12c81",
   "metadata": {},
   "outputs": [],
   "source": []
  }
 ],
 "metadata": {
  "kernelspec": {
   "display_name": "Python 3 (ipykernel)",
   "language": "python",
   "name": "python3"
  },
  "language_info": {
   "codemirror_mode": {
    "name": "ipython",
    "version": 3
   },
   "file_extension": ".py",
   "mimetype": "text/x-python",
   "name": "python",
   "nbconvert_exporter": "python",
   "pygments_lexer": "ipython3",
   "version": "3.10.9"
  }
 },
 "nbformat": 4,
 "nbformat_minor": 5
}
