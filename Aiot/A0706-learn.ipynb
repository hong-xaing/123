{
 "cells": [
  {
   "cell_type": "code",
   "execution_count": null,
   "id": "baf48917",
   "metadata": {},
   "outputs": [],
   "source": [
    "print(1)"
   ]
  },
  {
   "cell_type": "code",
   "execution_count": null,
   "id": "c4ad54b8",
   "metadata": {},
   "outputs": [],
   "source": [
    "print(1)\n",
    "# print(2)\n",
    "print(3)\n",
    "print(4)\n",
    "# print(5)"
   ]
  },
  {
   "cell_type": "code",
   "execution_count": null,
   "id": "1c3420ff",
   "metadata": {},
   "outputs": [],
   "source": [
    "import random as rd\n",
    "print (rd)"
   ]
  },
  {
   "cell_type": "code",
   "execution_count": null,
   "id": "9e34dfdf",
   "metadata": {},
   "outputs": [],
   "source": [
    "# 呂鴻祥\n",
    "\n",
    "a = 2023\n",
    "b = 7\n",
    "c = 4\n",
    "d = 2\n",
    "e = 29\n",
    "print(a,b,c,d,e)\n",
    "print(\"今年是：\",a,\"年\")"
   ]
  },
  {
   "cell_type": "code",
   "execution_count": null,
   "id": "302ad032",
   "metadata": {},
   "outputs": [],
   "source": [
    "print (15*3)"
   ]
  },
  {
   "cell_type": "code",
   "execution_count": null,
   "id": "a5356806",
   "metadata": {},
   "outputs": [],
   "source": [
    "print(12 +(6-34)*5-4*(3+24/8))"
   ]
  },
  {
   "cell_type": "code",
   "execution_count": null,
   "id": "025f31a5",
   "metadata": {},
   "outputs": [],
   "source": [
    "print(x)"
   ]
  },
  {
   "cell_type": "code",
   "execution_count": null,
   "id": "41c63bb4",
   "metadata": {},
   "outputs": [],
   "source": [
    "x = 1\n",
    "y = x\n",
    "print(x,y)\n",
    "x = 3\n",
    "print(x,y)\n",
    "y = 5\n",
    "x = y \n",
    "print(x,y)\n",
    "x = 7 \n",
    "print(x,y)"
   ]
  },
  {
   "cell_type": "code",
   "execution_count": null,
   "id": "79de3af8",
   "metadata": {},
   "outputs": [],
   "source": [
    "a = 1 \n",
    "b = a + a\n",
    "print(b)"
   ]
  },
  {
   "cell_type": "code",
   "execution_count": null,
   "id": "86a32416",
   "metadata": {},
   "outputs": [],
   "source": [
    "x = 35 #鍋貼\n",
    "y = 15 #豆漿\n",
    "total = (x*4+y*3)\n",
    "print (total)"
   ]
  },
  {
   "cell_type": "code",
   "execution_count": null,
   "id": "cfca08d1",
   "metadata": {},
   "outputs": [],
   "source": [
    "help(\"keywords\")"
   ]
  },
  {
   "cell_type": "code",
   "execution_count": null,
   "id": "1f0489e2",
   "metadata": {},
   "outputs": [],
   "source": [
    "import = 1"
   ]
  },
  {
   "cell_type": "code",
   "execution_count": null,
   "id": "9a30c5b8",
   "metadata": {},
   "outputs": [],
   "source": [
    "drink = 35\n",
    "milk = 50\n",
    "duoduo = 55\n",
    "box = 2\n",
    "cup = -5\n",
    "\n",
    "print(1000-(drink*2+milk*3+duoduo*1+box*1+cup*5))"
   ]
  },
  {
   "cell_type": "code",
   "execution_count": null,
   "id": "3849999b",
   "metadata": {},
   "outputs": [],
   "source": [
    "_rabbit_ = 1\n",
    "print(_rabbit_)"
   ]
  },
  {
   "cell_type": "code",
   "execution_count": null,
   "id": "abe0a5e0",
   "metadata": {},
   "outputs": [],
   "source": [
    "print(\"age\")"
   ]
  },
  {
   "cell_type": "code",
   "execution_count": null,
   "id": "e63f14b3",
   "metadata": {},
   "outputs": [],
   "source": [
    "text = \"abcdefghij\"\n",
    "print(text[0])\n",
    "print(text[1])\n",
    "print(text[2])"
   ]
  },
  {
   "cell_type": "code",
   "execution_count": null,
   "id": "98d2a6b8",
   "metadata": {},
   "outputs": [],
   "source": [
    "text = \"abcdefghij\"\n",
    "short_text = text[2:-3]\n",
    "\n",
    "print (short_text)"
   ]
  },
  {
   "cell_type": "code",
   "execution_count": null,
   "id": "c8059370",
   "metadata": {},
   "outputs": [],
   "source": [
    "text = \"abcdefghij\"\n",
    "short_text = text[:3]\n",
    "\n",
    "print (short_text)\n",
    "\n",
    "text = \"abcdefghij\"\n",
    "short_text = text[-2:]\n",
    "\n",
    "print (short_text)"
   ]
  },
  {
   "cell_type": "code",
   "execution_count": null,
   "id": "adebee9a",
   "metadata": {},
   "outputs": [],
   "source": [
    "a = input()\n",
    "print (\"hi what is your name ?\")\n",
    "name = input()\n",
    "\n",
    "print(\"hello,\" + name +\" nice to meet you . \")"
   ]
  },
  {
   "cell_type": "code",
   "execution_count": null,
   "id": "dd88ebb8",
   "metadata": {},
   "outputs": [],
   "source": [
    "print(\"please tell me your name:\")\n",
    "name = input()\n",
    "\n",
    "print(\"please tell me you age:\")\n",
    "age = input()\n",
    "\n",
    "print (\"here is your introduction:\")\n",
    "intro = \"my name is \"+ name +\".\"\n",
    "intro = intro +\" I am \"+ age +\" years old.\"\n",
    "print(intro)"
   ]
  },
  {
   "cell_type": "code",
   "execution_count": null,
   "id": "35dca848",
   "metadata": {},
   "outputs": [],
   "source": [
    "print (\"first number : \")\n",
    "sum1 = input()\n",
    "sum1 = float(sum1)\n",
    "    \n",
    "print (\"second number : \")\n",
    "sum2 = input()\n",
    "sum2 = float(sum2)\n",
    "\n",
    "print(sum1 * sum2)"
   ]
  },
  {
   "cell_type": "code",
   "execution_count": null,
   "id": "f2080f46",
   "metadata": {},
   "outputs": [],
   "source": [
    "print (\"please tell me your birth year:\")\n",
    "year = input()\n",
    "re_year = int(year)+65\n",
    "re_year = str(re_year)\n",
    "# print (re_year)\n",
    "print (\"your retirement year is: \"+ re_year +\" cheer up!\")"
   ]
  },
  {
   "cell_type": "code",
   "execution_count": null,
   "id": "c8ca441c",
   "metadata": {},
   "outputs": [],
   "source": [
    "print (\"what is your name?\")\n",
    "name =input ()"
   ]
  },
  {
   "cell_type": "code",
   "execution_count": null,
   "id": "5a61aee4",
   "metadata": {},
   "outputs": [],
   "source": [
    "print (\"what is your pet?\")\n",
    "pet = input()"
   ]
  },
  {
   "cell_type": "code",
   "execution_count": null,
   "id": "6cd01172",
   "metadata": {},
   "outputs": [],
   "source": [
    "print(\"what is the name of your pet?\")\n",
    "pet_name=input()"
   ]
  },
  {
   "cell_type": "code",
   "execution_count": null,
   "id": "53fe1226",
   "metadata": {},
   "outputs": [],
   "source": [
    "print(\"what is your birth year?\")\n",
    "birth_year = input()"
   ]
  },
  {
   "cell_type": "code",
   "execution_count": null,
   "id": "f1287d44",
   "metadata": {},
   "outputs": [],
   "source": [
    "re_retirement = int(birth_year)+65\n",
    "re_retirement = str(re_retirement)\n",
    "print (\"your retirement year is: \"+re_retirement )"
   ]
  },
  {
   "cell_type": "code",
   "execution_count": null,
   "id": "7efe8ae2",
   "metadata": {},
   "outputs": [],
   "source": [
    "print (\"my name is \" + name +\". my pet is a \"+ pet +\" and its name is \"+\n",
    "       pet_name +\". my retirement year is \"+ re_retirement)"
   ]
  },
  {
   "cell_type": "code",
   "execution_count": null,
   "id": "395ebd90",
   "metadata": {},
   "outputs": [],
   "source": [
    "my_list = [41, \"pp\", -5.25 , \"pp\"]\n",
    "print (my_list)"
   ]
  },
  {
   "cell_type": "code",
   "execution_count": null,
   "id": "34fd0d64",
   "metadata": {},
   "outputs": [],
   "source": [
    "fruit_and_calori_i_love = ['banana', 40,'grapefruit', 42,'kiwi', 61 , 'apple', 67]\n",
    "print (fruit_and_calori_i_love)"
   ]
  },
  {
   "cell_type": "code",
   "execution_count": null,
   "id": "44ecbe18",
   "metadata": {},
   "outputs": [],
   "source": [
    "student =[\"a\",\"b\",\"c\",\"d\",\"e\"]\n",
    "classroom = \"pp\"\n",
    "\n",
    "print (\"your \" +classroom+\" class\")\n",
    "print (\"student name : \",student)"
   ]
  },
  {
   "cell_type": "code",
   "execution_count": 2,
   "id": "bd47d680",
   "metadata": {},
   "outputs": [
    {
     "name": "stdout",
     "output_type": "stream",
     "text": [
      "you go to a sogo buy ['a', 'b', 'c', 'd', 'e']\n"
     ]
    }
   ],
   "source": [
    "supermark = \"sogo\"\n",
    "buy = [\"a\",\"b\",\"c\",\"d\",\"e\"]\n",
    "\n",
    "print (\"you go to a \"+supermark+\" buy\",buy)"
   ]
  },
  {
   "cell_type": "code",
   "execution_count": 1,
   "id": "266d990a",
   "metadata": {},
   "outputs": [
    {
     "name": "stdout",
     "output_type": "stream",
     "text": [
      "['a', 'b', 'c', 1, 2, 3]\n",
      "['a', 'b', 'c', 1, 2, 3, 'a', 'b', 'c', 1, 2, 3, 'a', 'b', 'c', 1, 2, 3]\n",
      "<class 'list'>\n"
     ]
    }
   ],
   "source": [
    "list1 = ['a','b','c']\n",
    "list2 = [1,2,3]\n",
    "a = list1+list2\n",
    "b = a*3\n",
    "print(a)\n",
    "print(b)\n",
    "print(type(a))"
   ]
  },
  {
   "cell_type": "code",
   "execution_count": null,
   "id": "2e8ce1fd",
   "metadata": {},
   "outputs": [],
   "source": [
    "my_list = ['a', 'b', 'c', 1, 2, 3, 'a', 'b', 'c', 1, 2, 3, 'a', 'b', 'c', 1, 2, 3]\n",
    "print(my_list[1])\n",
    "print(my_list[4])"
   ]
  },
  {
   "cell_type": "code",
   "execution_count": null,
   "id": "8f308e9b",
   "metadata": {},
   "outputs": [],
   "source": [
    "mcdonalds_calorii={'hanburger': 250,\"fries\": 320,\"ice_cream\":200}\n",
    "\n",
    "y = input()\n",
    "y1 = str(y)\n",
    "\n",
    "x = mcdonalds_calorii[y1]\n",
    "\n",
    "print (x)\n",
    "print (mcdonalds_calorii)"
   ]
  },
  {
   "cell_type": "code",
   "execution_count": null,
   "id": "01b6803f",
   "metadata": {},
   "outputs": [],
   "source": [
    "#{}＝字典的意思  key:vaule\n",
    "movie_info = {\"name\":\"mission impossible\",\n",
    "             \"director\": \"briande palma\",\n",
    "             \"main_cast\": [\"tom cruise\", \"jon voight\", \"emmanuelle beart\",],\n",
    "             \"budget\":80,\n",
    "             \"box_office\":457.7,\n",
    "             \"runuing_time\": 110,\n",
    "             \"date\":{\"year\": 1996,\"month\":5,\"day\":22}\n",
    "             }\n",
    "x = input()\n",
    "\n",
    "print (movie_info[x])\n",
    "print (movie_info[\"main_cast\"][0])\n",
    "print (movie_info[\"date\"][\"month\"])"
   ]
  },
  {
   "cell_type": "code",
   "execution_count": null,
   "id": "6597bac3",
   "metadata": {},
   "outputs": [],
   "source": [
    "lista=[1,\"234\",3]\n",
    "dica = {\"a\":3.14}\n",
    "print(lista[1][1],dica[\"a\"])"
   ]
  },
  {
   "cell_type": "code",
   "execution_count": null,
   "id": "6980cb33",
   "metadata": {},
   "outputs": [],
   "source": [
    "#請幫我選取並合併成完整的python\n",
    "list1=[\"a\",\"b,c\",\"d\",\"e\",{\"f\":[\"g\",\"h\"],\"i\":\"j\",\"k,l\":{\"m\":[\"n\",\"o\",\"p\"]},\"q\":\"r\"},\"s\",[\"t,u\",\"v\",\"w\"],\"x\",\"y,z\"]\n",
    "#         0    1.   2.  3.   4.0.            4.1.         4.2.                 4.3    5.    6.            7.   8\n",
    "# python\n",
    "\n",
    "print(list1[4][\"k,l\"][\"m\"][2]+\n",
    "      list1[8][0]+\n",
    "      list1[6][0][0]+\n",
    "      list1[4][\"f\"][1]+\n",
    "      list1[4][\"k,l\"][\"m\"][1]+\n",
    "      list1[4][\"k,l\"][\"m\"][0])\n",
    "\n",
    "\n",
    "print(list1[8][0])\n",
    "print(list1[6][0][0])\n",
    "print(list1[4][\"f\"][1])\n",
    "print(list1[4][\"k,l\"][\"m\"][1])\n",
    "print(list1[4][\"k,l\"][\"m\"][0])"
   ]
  },
  {
   "cell_type": "code",
   "execution_count": 12,
   "id": "d138d591",
   "metadata": {},
   "outputs": [
    {
     "name": "stdout",
     "output_type": "stream",
     "text": [
      "55\n",
      "43\n",
      "12\n",
      "55\n",
      "11\n",
      "5.0\n",
      "dad: 55\n",
      "mom: 43\n",
      "baby: 11\n",
      "26015\n",
      "14\n"
     ]
    }
   ],
   "source": [
    "dad = input()\n",
    "dad1 = int(dad)\n",
    "mom = input()\n",
    "mom1 = int(mom)\n",
    "\n",
    "dm = dad1-mom1\n",
    "print(dm)\n",
    "\n",
    "print(dad1)\n",
    "\n",
    "baby = input()\n",
    "baby1 = int(baby)\n",
    "\n",
    "db = dad1/baby1\n",
    "print(db)\n",
    "\n",
    "print(\"dad:\",dad1)\n",
    "print(\"mom:\",mom1)\n",
    "print(\"baby:\",baby1)\n",
    "ggg=dad1*mom1*baby1\n",
    "\n",
    "print(ggg)\n",
    "\n",
    "# print(type(ggg))\n",
    "add = 0 \n",
    "for i in str(ggg):\n",
    "#     print(i)\n",
    "    add += int(i)\n",
    "#     print(add)\n",
    "print(str(add))\n",
    "#     三個年齡相乘把數字加總\n"
   ]
  },
  {
   "cell_type": "code",
   "execution_count": null,
   "id": "c5cb3125",
   "metadata": {},
   "outputs": [],
   "source": [
    "#input 2個數字並顯示是否整除ex:6 可以3整除,7不可以被4整除\n",
    "#判斷某個數字是否為偶數\n",
    "#判斷是否為閏年 1.不可4整除者為平年 2.可被4整除且不為100整除者為閏年 3.可被400整除為閏年 4.可被1000整除為閏年\n",
    "\n",
    "num1 = int(input())\n",
    "num2 = int(input())\n",
    "\n",
    "if num1%num2 == 0:\n",
    "    print(num1,\"可以被\",num2,\"整除\")\n",
    "elif num2%num1 == 0:\n",
    "    print(num2,\"可以被\",num1,\"整除\")\n",
    "      \n",
    "else:\n",
    "    print(\"互相無法整除\")\n",
    "          "
   ]
  },
  {
   "cell_type": "code",
   "execution_count": null,
   "id": "83908259",
   "metadata": {},
   "outputs": [],
   "source": [
    "num1 = int(input())\n",
    "print(str(num1)+\"是偶數\" if num1%2==0 else str(num1)+\"是奇數\")"
   ]
  },
  {
   "cell_type": "code",
   "execution_count": null,
   "id": "449e4152",
   "metadata": {},
   "outputs": [],
   "source": [
    "#判斷是否為閏年 1.不可4整除者為平年 2.可被4整除且不為100整除者為閏年 3.可被400整除為閏年 4.可被1000整除為閏年\n",
    "\n",
    "num1 = int(input())\n",
    "\n",
    "if num1%4 != 0:\n",
    "    print(\"平年\")\n",
    "elif num1%4 == 0 and num1%100 != 0:\n",
    "    print(\"閏年\")\n",
    "elif num1%100 == 0 and (num1%400== 0  or num1%1000 == 0):\n",
    "    print(\"閏年\")\n",
    "# elif num1%4 == 0:\n",
    "#     print(\"平年\")\n",
    "else:\n",
    "    print(\"平年\")"
   ]
  },
  {
   "cell_type": "code",
   "execution_count": null,
   "id": "72dacb1e",
   "metadata": {},
   "outputs": [],
   "source": [
    "\n",
    "#while\n",
    "count =0\n",
    "while count<10:\n",
    "    count += 1\n",
    "    if count == 2:\n",
    "        pass\n",
    "    elif count == 5:\n",
    "        continue\n",
    "        print(\"5\")\n",
    "    elif count == 8:\n",
    "        break\n",
    "        print(\"8\")\n",
    "    else:\n",
    "        print(\"fire\",count)\n",
    "print(\"end\")"
   ]
  },
  {
   "cell_type": "code",
   "execution_count": null,
   "id": "e9343bea",
   "metadata": {},
   "outputs": [],
   "source": [
    "#print 1~20的每一個偶數\n",
    "#輸入一個數字並轉換成2進位\n",
    "count = 0\n",
    "while count < 20:\n",
    "    count += 1\n",
    "    if count%2 == 0:\n",
    "        pass\n",
    "        print(count)\n",
    "        \n",
    "print(2,4,6,8,10,12,14,16,18,20)"
   ]
  },
  {
   "cell_type": "code",
   "execution_count": null,
   "id": "14bf7c9a",
   "metadata": {
    "scrolled": false
   },
   "outputs": [],
   "source": [
    "# math = int(input())\n",
    "# x = 2\n",
    "# two = math//x\n",
    "# while two > 0:\n",
    "#     x += 2\n",
    "#     print(two)\n",
    "print (1)"
   ]
  },
  {
   "cell_type": "code",
   "execution_count": null,
   "id": "3eec267b",
   "metadata": {},
   "outputs": [],
   "source": [
    "13/2  = 6...1\n",
    "6/2   = 3...0\n",
    "3/2.  = 1...1\n",
    "1/2.  = 0...1"
   ]
  },
  {
   "cell_type": "code",
   "execution_count": null,
   "id": "569fb77d",
   "metadata": {},
   "outputs": [],
   "source": [
    "divide=int(input(\"Number: \"))\n",
    "result=\"\"#把迴圈過後的值全部清洗過\n",
    "while(divide!=0):\n",
    "    \n",
    "    remain=divide%2\n",
    "    print(\"remain\",remain)\n",
    "    divide=divide//2\n",
    "    print(\"divide\",divide)\n",
    "    result=str(remain)+\" \"+result\n",
    "\n",
    "print(result)"
   ]
  },
  {
   "cell_type": "code",
   "execution_count": null,
   "id": "b073ada0",
   "metadata": {},
   "outputs": [],
   "source": [
    "inp = int(input())\n",
    "num=\"\"\n",
    "\n",
    "while True:\n",
    "    a = inp//2#取商\n",
    "    print(\"a\",a)\n",
    "    b = inp%2#取餘\n",
    "    print(b)\n",
    "    num+=str(b)#留下餘數\n",
    "    inp=a#將商變成被除數\n",
    "    if inp ==0:#判定是否結束\n",
    "        break\n",
    "print(num[::-1])\n"
   ]
  },
  {
   "cell_type": "code",
   "execution_count": null,
   "id": "5e164209",
   "metadata": {},
   "outputs": [],
   "source": [
    "str1 = \"1234567890\"\n",
    "list1 = [\"a\",\"b\",\"c\",\"d\",\"e\",\"f\"]\n",
    "dic1 = {\"pi\":3.14,5:\"1/2\",5:\"1/4\"}\n",
    "for i in str1 :\n",
    "    print (i)\n",
    "for j in list1 :\n",
    "    print (j)\n",
    "for k in dic1 :\n",
    "    print (k,dic1[k])"
   ]
  },
  {
   "cell_type": "code",
   "execution_count": null,
   "id": "3c249081",
   "metadata": {},
   "outputs": [],
   "source": [
    "for i in range(2,10,2):\n",
    "    print(i)"
   ]
  },
  {
   "cell_type": "code",
   "execution_count": null,
   "id": "fcd52c30",
   "metadata": {},
   "outputs": [],
   "source": [
    "num1 = 0\n",
    "            #開始,結束,等差\n",
    "for i in range(3,5,1):\n",
    "    num1 +=i\n",
    "print(num1)"
   ]
  },
  {
   "cell_type": "code",
   "execution_count": null,
   "id": "e9f50dfd",
   "metadata": {},
   "outputs": [],
   "source": [
    "1 + 1 = 2\n",
    "1 + 2 = 3\n",
    "2 + 3 = 5\n",
    "3 + 5 = 8 \n",
    "5 + 8 = 13\n",
    "\n",
    "n+m , n+(m+n)"
   ]
  },
  {
   "cell_type": "code",
   "execution_count": null,
   "id": "c3c9f653",
   "metadata": {},
   "outputs": [],
   "source": [
    "#費波那契數 1 1 2 3 5 8 13\n",
    "new_num=int(input(\"請輸入第一個數字\"))\n",
    "old_num=int(input(\"請輸入第二個數字\"))\n",
    "a = int(input(\"請輸入你要算的次數：\"))\n",
    "\n",
    "list1 =[new_num,old_num]\n",
    "#while i < 3:\n",
    "for round1 in range(1,a+1):\n",
    "#     print(new_num)\n",
    "\n",
    "    now_num=old_num+new_num\n",
    "    new_num=old_num\n",
    "    old_num=now_num\n",
    "    list1.append(now_num)\n",
    "print(list1)\n",
    "# print(new_num)"
   ]
  },
  {
   "cell_type": "code",
   "execution_count": null,
   "id": "708acf06",
   "metadata": {},
   "outputs": [],
   "source": [
    "new_num = int(input(\"請輸入第一個數字：\"))\n",
    "old_num = int(input(\"請輸入第二個數字：\"))\n",
    "a = int(input(\"請輸入你要算的次數：\"))\n",
    "\n",
    "fibonacci_list = [new_num, old_num]  # 儲存費波那契數列的串列\n",
    "\n",
    "for _ in range(2, a):\n",
    "    now_num = old_num + new_num\n",
    "    new_num = old_num\n",
    "    old_num = now_num\n",
    "    fibonacci_list.append(now_num)\n",
    "\n",
    "fibonacci_str = \" \".join(str(num) for num in fibonacci_list)  # 將數字串列連接成字串，以空格分隔\n",
    "\n",
    "print(fibonacci_str)\n",
    "\n"
   ]
  },
  {
   "cell_type": "code",
   "execution_count": null,
   "id": "bf2e111e",
   "metadata": {},
   "outputs": [],
   "source": [
    "def fibonacci(n):\n",
    "    \"\"\"計算費波那契數列的前 n 個數字\"\"\"\n",
    "    sequence = [0, 1]  # 初始化數列的前兩個數字\n",
    "\n",
    "    # 計算數列的第 i 個數字\n",
    "    for i in range(2, n):\n",
    "        next_number = sequence[i - 1] + sequence[i - 2]\n",
    "        sequence.append(next_number)\n",
    "#         print(next_number)\n",
    "    return sequence\n",
    "\n",
    "# 測試程式碼\n",
    "n = int(input(\"請輸入要計算的費波那契數列的數字個數：\"))\n",
    "result = fibonacci(n)\n",
    "print(\"費波那契數列的前\", n, \"個數字為：\", result)\n"
   ]
  },
  {
   "cell_type": "code",
   "execution_count": null,
   "id": "42d8760d",
   "metadata": {},
   "outputs": [],
   "source": [
    "#獲勝條件。骰三次有一次骰到四就算輸\n",
    "# 1.骰骰子\n",
    "# 2.檢查點數是否為4\n",
    "# 3.若骰出4就顯示lose\n",
    "# 4.檢查現在骰第幾次\n",
    "# 5.若未滿3次就重新骰\n",
    "# 6.若滿三次就顯示win\n",
    "\n",
    "import random\n",
    "# for i in range(1,4)\n",
    "i=0\n",
    "while i < 3:\n",
    "    i+=1\n",
    "    dice = random.randint(1,6)\n",
    "    print(dice)\n",
    "    if dice == 4 :\n",
    "        print(\"你輸了！！\")\n",
    "        break\n",
    "    elif i == 3 :\n",
    "        print(\"你贏了！！\")\n",
    "    \n",
    "print(\"end\")"
   ]
  },
  {
   "cell_type": "code",
   "execution_count": null,
   "id": "ae46ddeb",
   "metadata": {},
   "outputs": [],
   "source": [
    "import random\n",
    "y = input(\"要開始遊玩請輸入：y\")\n",
    "while y==\"y\":\n",
    "\n",
    "    for rounds in range(3):\n",
    "        dice = random.randint(1,6)\n",
    "        print(dice)\n",
    "        if dice == 4:\n",
    "            print(\"lose\")\n",
    "            break\n",
    "        elif rounds == 2 :\n",
    "            print(\"win\")\n",
    "    y = input(\"要繼續遊玩請輸入：y\")"
   ]
  },
  {
   "cell_type": "code",
   "execution_count": null,
   "id": "03058c0d",
   "metadata": {},
   "outputs": [],
   "source": [
    "inp = int(input())\n",
    "num=\"\"\n",
    "\n",
    "while True:\n",
    "    a = inp//2#取商\n",
    "    b = inp%2#取餘\n",
    "    num+=str(b)#留下餘數\n",
    "    inp=a#將商變成被除數\n",
    "    if inp ==0:#判定是否結束\n",
    "        break\n",
    "print(num[::-1])"
   ]
  },
  {
   "cell_type": "code",
   "execution_count": null,
   "id": "0dce08c2",
   "metadata": {
    "scrolled": true
   },
   "outputs": [],
   "source": [
    "num1 = int(input())\n",
    "num2 = int(input())\n",
    "# 這是一個九九乘法表。\n",
    "i = 0 \n",
    "j = 0 \n",
    "\n",
    "for i in range(1,num1+1):\n",
    "    for j in range(1,num2+1):\n",
    "        result = i * j\n",
    "        result_str = str(result).zfill(2)\n",
    "        print(i,\"*\",j,\"=\",result_str,end=\" \" if j == num2 else \" \")"
   ]
  },
  {
   "cell_type": "code",
   "execution_count": null,
   "id": "08946e01",
   "metadata": {},
   "outputs": [],
   "source": []
  },
  {
   "cell_type": "code",
   "execution_count": null,
   "id": "c227792c",
   "metadata": {
    "scrolled": false
   },
   "outputs": [],
   "source": [
    "for i in range(1,10):\n",
    "    for j in range(1,10):\n",
    "        print(\"{}*{}={:^3}\".format(i,j,i*j),end=\" \")  #{:^3}意思是給他空白\n",
    "    print()"
   ]
  },
  {
   "cell_type": "code",
   "execution_count": null,
   "id": "7e48734e",
   "metadata": {},
   "outputs": [],
   "source": [
    "import requests  #引入外部\n",
    "import json\n",
    "\n",
    "\n",
    "token=input(\"請輸入token：\")\n",
    "\n",
    "res=requests.get(\"https://graph.facebook.com/v17.0/me?fields=posts&access_token=\"+token)\n",
    "#得到的代碼  https://developers.facebook.com/tools/explorer/?method=GET&path=me%3Ffields%3Dposts&version=v17.0\n",
    "\n",
    "jd=json.loads(res.text)\n",
    "#用json讀取資料文字檔\n",
    "print(jd)\n",
    "\n",
    "#response http狀態碼"
   ]
  },
  {
   "cell_type": "code",
   "execution_count": null,
   "id": "4fad3cfc",
   "metadata": {},
   "outputs": [],
   "source": [
    "print(jd[\"posts\"][\"data\"][0]) #印出他的位置\n",
    "# jds=list(jd.keys())  #keys 讀取字典裡面的key值\n",
    "# print(jds)\n",
    "j = int(input(\"請輸入你要抓取的數量：\"))\n",
    "for i in range(j): \n",
    "#從i＝0 抓到range 10的資料數量\n",
    "    if \"message\" in jd[\"posts\"][\"data\"][i]:\n",
    "        #如果有massage在jd裡面就顯示：\n",
    "        print(jd[\"posts\"][\"data\"][i][\"message\"])"
   ]
  },
  {
   "cell_type": "code",
   "execution_count": null,
   "id": "3b0880c7",
   "metadata": {},
   "outputs": [],
   "source": [
    "for i in jd[\"posts\"][\"data\"]:\n",
    "#     print(i)\n",
    "    if \"message\" in i:\n",
    "        #如果message 在 i 迴圈裡面有資料就顯示沒有則顯示 \\n是換行 end是結尾空白就會到下一行\n",
    "        print(i[\"created_time\"][0:10],i[\"id\"][17:],i[\"message\"],end=\"\")\n",
    "    else:\n",
    "        print(i[\"created_time\"][0:10],i[\"id\"][17:],end=\"\")\n",
    "    print(\"\\n\")"
   ]
  },
  {
   "cell_type": "code",
   "execution_count": null,
   "id": "ebef0250",
   "metadata": {},
   "outputs": [],
   "source": [
    "print(jd[\"posts\"][\"paging\"].keys())\n",
    "print(jd[\"posts\"][\"paging\"][\"next\"])\n",
    "# res1=requests.get(str(jd[\"posts\"][\"paging\"][\"next\"]))#找到代碼裡面的next可以到下一頁\n",
    "# # print(res1)\n",
    "# jd1=json.loads(res1.text)\n",
    "# # print(jd1)\n",
    "# # print(jd1[\"data\"][0])\n",
    "# # jds=list(jd.keys())\n",
    "# # print(jds)\n",
    "# # # jdss=list(jd[jds[0]].keys())\n",
    "# # # print(jdss)\n",
    "# # for i in range(10):\n",
    "# #     if \"message\" in jd1[\"data\"][i]:\n",
    "# #         print(jd1[\"data\"][i][\"message\"])\n",
    "        \n",
    "# for j in jd1[\"data\"]:\n",
    "# #     print(i)\n",
    "#     if \"message\" in j:\n",
    "#         print(j[\"created_time\"][0:10],j[\"id\"][17:],j[\"message\"],end=\"\")\n",
    "#     else:\n",
    "#         print(j[\"created_time\"][0:10],j[\"id\"][17:],end=\"\")\n",
    "#     print(\"\\n\")"
   ]
  },
  {
   "cell_type": "code",
   "execution_count": null,
   "id": "8d2d815c",
   "metadata": {},
   "outputs": [],
   "source": [
    "import requests  #引入外部\n",
    "import json\n",
    "token=input(\"請輸入token：\")\n",
    "res=requests.get(\"https://graph.facebook.com/v17.0/me?fields=posts&access_token=\"+token)\n",
    "#得到的代碼  https://developers.facebook.com/tools/explorer/?method=GET&path=me%3Ffields%3Dposts&version=v17.0\n",
    "jd=json.loads(res.text)"
   ]
  },
  {
   "cell_type": "code",
   "execution_count": null,
   "id": "fbd09990",
   "metadata": {},
   "outputs": [],
   "source": [
    "# print(jd[\"posts\"])\n",
    "# i = 0\n",
    "# for i in jd[\"posts\"][\"data\"]:\n",
    "import requests  #引入外部\n",
    "import json\n",
    "token = \"EAAJKNQEFDMoBAMIJrl0OQOGpXdO14zuWhrZB8kJn5PfrK8X14Dciv8S6NT0OoX83aPp2PSU51q19MWl6dGqbIYVsaRcObgcwZBaBv5QGOol1JEZA4leW36e6YtubjnUxOgwumfy5OL2MbZBtH3vI1ZBEsUfhjk2IclDXyqgZB9IpCkHj0ZCzPbGHv53fM7Mb8GIzQgNSAY7kUwkvQQl60OgB76sWzAnGyeNv6pOtpkOg3tu1zpODISS\"\n",
    "# token=input(\"請輸入token：\")\n",
    "res=requests.get(\"https://graph.facebook.com/v17.0/me/posts?access_token=\"+token)\n",
    "#得到的代碼  https://developers.facebook.com/tools/explorer/?method=GET&path=me%3Ffields%3Dposts&version=v17.0\n",
    "jd=json.loads(res.text)\n",
    "# print(jd)\n",
    "page = 1\n",
    "while \"paging\" in jd:\n",
    "    posts=1\n",
    "            # print(jd[\"posts\"][\"paging\"].keys())\n",
    "            # ppp = jd[\"posts\"][\"paging\"]\n",
    "    #     print(jd[\"posts\"][\"paging\"][\"next\"])\n",
    "    for post in jd[\"data\"]:\n",
    "        if \"message\" in post:\n",
    "            print(post[\"message\"])\n",
    "            print(\"page=\"+str(page)+\" , \"+\"post=\"+str(posts),end=\" \")\n",
    "            print(\"\\n\")\n",
    "            posts+=1\n",
    "    nextp = jd[\"paging\"][\"next\"]\n",
    "    res = requests.get(nextp)\n",
    "    jd = json.loads(res.text)\n",
    "    page+=1\n",
    "    # print(jd)\n",
    "print(\"end\")\n",
    "# print(jd1[\"data\"][1][\"created_time\"])"
   ]
  },
  {
   "cell_type": "code",
   "execution_count": null,
   "id": "faf0c247",
   "metadata": {},
   "outputs": [],
   "source": [
    "# 1.取得網址>讀取網址>翻譯網址\n",
    "# 2.整理貼文資料\n",
    "# 3.檢查是否最後一頁\n",
    "# 4.若未到最後一頁;回到1\n",
    "import requests  #引入外部\n",
    "import json\n",
    "import time\n",
    "import jieba\n",
    "token = \"EAAJKNQEFDMoBAOu5tFu6wBn4AztrEnUqdVAf88AgcztAayZA96IlnS5qDrzn9MUjVyAt42mbRWhM9JUwaUF0VuKkNBkuVnkmR6tkuTGFg1qzChZA86wCbkrih3h5ozVgbyBwwhUTtUGHqmZBBTXFEd7y2s2CRCdBrtiC7KZBjbV7BvAf9haDQUlaWOCqJL5pNNHZCVRmqJtZBM8v40OINUcu9RMf57DZB9rEZBgLTUtviHJE0kskY4Fl\"\n",
    "# token=input(\"請輸入token：\")\n",
    "res=requests.get(\"https://graph.facebook.com/v17.0/me/posts?access_token=\"+token)\n",
    "#得到的代碼  https://developers.facebook.com/tools/explorer/?method=GET&path=me%3Ffields%3Dposts&version=v17.0\n",
    "jd=json.loads(res.text)\n",
    "# print(jd)\n",
    "# print(jd[\"paging\"])\n",
    "# print(jd[\"data\"])\n",
    "corpus=[]\n",
    "while jd[\"data\"] != []:\n",
    "    time.sleep(1)\n",
    "    for post in jd[\"data\"]:\n",
    "        if \"message\" in post:\n",
    "            print(post[\"message\"])\n",
    "            corpus += jieba.lcut(post[\"message\"])   \n",
    "    res = requests.get(jd[\"paging\"][\"next\"])\n",
    "    jd=json.loads(res.text)\n",
    "print(corpus)   \n",
    "print(\"end\")"
   ]
  },
  {
   "cell_type": "code",
   "execution_count": null,
   "id": "5a5bca46",
   "metadata": {},
   "outputs": [],
   "source": [
    "# print(corpus)\n",
    "\n",
    "#範本寫入dic裡面\n",
    "# dic={}\n",
    "# dic[\"a\"]=5\n",
    "# print(dic)\n",
    "#範本寫入dic裡面 先在for 迴圈外面設定一個儲存空值的東西\n",
    "# a=['a','b','c',1,1,2,3,4,5,1,2,3,4,5,2,3,4]\n",
    "# b={}\n",
    "# for c in a :\n",
    "#     if c in b:\n",
    "#         b[c]+=1\n",
    "#     else:\n",
    "#         b[c]=1\n",
    "# print(b)\n",
    "#錯誤寫法\n",
    "\n",
    "# b['a']+=1\n",
    "# else\n",
    "# b['a']=1\n",
    "# list1 = {}\n",
    "# list1[corpus(i)]= 1 \n",
    "# print(list1)\n",
    "\n",
    "# for i in corpus:\n",
    "#     i = int(0)\n",
    "#     i = int(1)\n",
    "#     list1(i) += corpus[i]\n",
    "#     print(list1)\n",
    "#====================================================================================================================\n",
    "\n",
    "# i = int(0)\n",
    "rep = {}\n",
    "for i in corpus:\n",
    "#     print(i)\n",
    "#     rep = corpus[i]\n",
    "    if i in rep:\n",
    "        rep[i]+=1\n",
    "    else:\n",
    "        rep[i]=1\n",
    "#         print(1)\n",
    "#         j[str(j)]+=1\n",
    "#     print(i)\n",
    "print (rep)\n",
    "print(\"================================================================================================================\")\n",
    "#     print (j)"
   ]
  },
  {
   "cell_type": "code",
   "execution_count": null,
   "id": "5d0cc331",
   "metadata": {},
   "outputs": [],
   "source": [
    "\n",
    "i = int(0)\n",
    "j = {}\n",
    "\n",
    "for i in corpus :\n",
    "#     print(i)\n",
    "#     rep = corpus[i]\n",
    "    if i in j:\n",
    "        j[i]+=1\n",
    "    else:\n",
    "        j[i]=1\n",
    "#         print(1)\n",
    "#         j[str(j)]+=1\n",
    "print (j)\n",
    "# import time \n",
    "\n",
    "# time.sleep(1)\n",
    "\n"
   ]
  },
  {
   "cell_type": "code",
   "execution_count": null,
   "id": "e4c03b03",
   "metadata": {},
   "outputs": [],
   "source": [
    "#排序的引用\n",
    "import operator\n",
    "                            #排序的標準,前面的母體value,是否為倒敘\n",
    "sort = sorted(j.items(),key=operator.itemgetter(1),reverse=True)\n",
    "\n",
    "for ele in sort:\n",
    "    print(ele[0],\"\",ele[1])\n"
   ]
  },
  {
   "cell_type": "code",
   "execution_count": null,
   "id": "43aa131a",
   "metadata": {},
   "outputs": [],
   "source": [
    "f=\"df\"\n",
    "r=13\n",
    "a={\"a\":[1,2,3],34:\"sdf\",f:r}\n",
    "print(a[34])"
   ]
  },
  {
   "cell_type": "code",
   "execution_count": null,
   "id": "baffdd0d",
   "metadata": {},
   "outputs": [],
   "source": [
    "!pip install jieba"
   ]
  },
  {
   "cell_type": "code",
   "execution_count": null,
   "id": "ed4d81f8",
   "metadata": {},
   "outputs": [],
   "source": [
    "import jieba\n",
    "\n",
    "js=\"以上就是Python回圈的介绍，若有其他疑问或说明节日的地点，欢迎与我分享！如果您喜欢我的文章，请帮我按五下赞（使用Google或Face book帐号免费注册），支持我创作教学文章，回馈由LikeCoin基金会出资，完全不会花到钱，谢谢大家。\"\n",
    "\n",
    "jie = jieba.lcut(js)\n",
    "\n",
    "print(jie)"
   ]
  },
  {
   "cell_type": "code",
   "execution_count": null,
   "id": "a39c6867",
   "metadata": {},
   "outputs": [],
   "source": [
    "#導入\n",
    "from bs4 import BeautifulSoup\n",
    "#檔案路徑\n",
    "path = \"web.html\"\n",
    "#開啟路徑（路徑,狀態,編碼）\n",
    "with open (path,\"r\",encoding=\"utf-8\") as f:\n",
    "    #讀取檔案並轉換成bs格式\n",
    "    soup = BeautifulSoup(f.read(),\"html\")\n",
    "# #檢索第一個名為a的tag\n",
    "# print(soup.a)\n",
    "# print(soup.body.a.text)\n",
    "#檢索第一個名為h1,屬性,class為abc的tag,需注意他的格式[],{}\n",
    "print(soup.find_all(\"a\")[2])\n",
    "print(soup.find_all(\"h1\")[1](\"h2\")[0].text)\n",
    "# print(soup.find_all(\"h1\")[1])\n",
    "#檢索所有名為h1,屬性class為abc的tag>輸出list\n",
    "print(soup.find_all(\"h1\",class_=\"abc\"))\n",
    "# print(soup.find_all(\"h1\",class_=\"abc\"))\n",
    "#自動縮排以利於閱讀html碼\n",
    "# print(soup.prettify())\n",
    "print(soup.select(\"h1[class=abc]\"))"
   ]
  },
  {
   "cell_type": "code",
   "execution_count": null,
   "id": "e7af960a",
   "metadata": {},
   "outputs": [],
   "source": [
    "from bs4 import BeautifulSoup\n",
    "import requests  #引入外部\n",
    "\n",
    "url = \"https://www.104.com.tw/jobs/search/?keyword=%E5%A4%A7%E6%95%B8%E6%93%9A%E5%B7%A5%E7%A8%8B%E5%B8%AB&order=1&jobsource=2018indexpoc&ro=0\"\n",
    "\n",
    "res = requests.get(url)\n",
    "# soup = BeautifulSoup(f.read(),\"html\")\n",
    "soup = BeautifulSoup(res.text)\n",
    "n=0\n",
    "k={}\n",
    "# job = soup.select(\"article\")\n",
    "jobs = soup.select(\"article[data-qa-id='jobSeachResult']\")\n",
    "# job1 = soup.select(\"article[data-qa-id='jobSeachResult']\")\n",
    "# for job in soup.find_all(\"article\")[:-2]:\n",
    "\n",
    "# print(jobs[0](target=\"_blank\")[2])\n",
    "# [data-qa-id='jobSeachResult']\n",
    "for job in jobs:\n",
    "# #         print (\"職稱：\",job(\"a\")[0].text)\n",
    "    n+=1\n",
    "    print(\"第\",n,\"個職缺:\")\n",
    "#     print(\"職稱:\")\n",
    "    print (\"職稱:\",job(\"a\")[0].text)\n",
    "\n",
    "#     print(\"公司名稱:\")\n",
    "#strip()多得空行給去掉\n",
    "    print(\"公司名稱:\",job(\"li\")[1].a.text.strip())\n",
    "#     print(\"工作地區\")\n",
    "    print(\"工作地區:\",job(\"ul\")[1].li.text)\n",
    "#     print(\"薪水\")\n",
    "#     print(\"網址\")\n",
    "    print(\"網址:\",job.a[\"href\"])\n",
    "#     print(\"\")"
   ]
  },
  {
   "cell_type": "code",
   "execution_count": null,
   "id": "2c202243",
   "metadata": {},
   "outputs": [],
   "source": [
    "from bs4 import BeautifulSoup\n",
    "import requests  #引入外部\n",
    "\n",
    "url = \"https://www.104.com.tw/jobs/search/?keyword=%E5%A4%A7%E6%95%B8%E6%93%9A%E5%B7%A5%E7%A8%8B%E5%B8%AB&order=1&jobsource=2018indexpoc&ro=0\"\n",
    "\n",
    "res = requests.get(url)\n",
    "# soup = BeautifulSoup(f.read(),\"html\")\n",
    "soup = BeautifulSoup(res.text)\n",
    "n=0\n",
    "k={}\n",
    "# job = soup.select(\"article\")\n",
    "jobs = soup.select(\"article[data-qa-id='jobSeachResult']\")\n",
    "# job1 = soup.select(\"article[data-qa-id='jobSeachResult']\")\n",
    "# for job in soup.find_all(\"article\")[:-2]:\n",
    "\n",
    "# print(jobs[0](target=\"_blank\")[2])\n",
    "# [data-qa-id='jobSeachResult']\n",
    "for job in jobs:\n",
    "#         print (\"職稱：\",job(\"a\")[0].text)\n",
    "    n+=1\n",
    "    print(\"第\",n,\"個職缺:\")\n",
    "#     print(\"職稱:\")\n",
    "    print (\"職稱:\",job(\"a\")[0].text)\n",
    "\n",
    "#     print(\"公司名稱:\")\n",
    "#strip()多得空行給去掉\n",
    "    print(\"公司名稱:\",job(\"li\")[1].a.text.strip())\n",
    "#     print(\"工作地區\")\n",
    "    print(\"工作地區:\",job(\"ul\")[1].li.text)\n",
    "#     print(\"薪水\")\n",
    "    if \"面議\" in job.text :\n",
    "        print(\"薪水:\",job(\"span\")[1].text)\n",
    "    elif \"薪\" or \"元\" in job.text :\n",
    "        print(\"薪水:\",job(\"a\",class_=\"b-tag--default\")[0].text)\n",
    "    else:\n",
    "        print(\"薪水:\",job(\"span\")[1].text)\n",
    "#     print(\"網址\")\n",
    "    print(\"網址:\",\"http:\"+job.a[\"href\"])\n",
    "print(\"end\")\n",
    "# #     print(\"\")"
   ]
  },
  {
   "cell_type": "code",
   "execution_count": null,
   "id": "7804fa65",
   "metadata": {},
   "outputs": [],
   "source": []
  }
 ],
 "metadata": {
  "kernelspec": {
   "display_name": "Python 3 (ipykernel)",
   "language": "python",
   "name": "python3"
  },
  "language_info": {
   "codemirror_mode": {
    "name": "ipython",
    "version": 3
   },
   "file_extension": ".py",
   "mimetype": "text/x-python",
   "name": "python",
   "nbconvert_exporter": "python",
   "pygments_lexer": "ipython3",
   "version": "3.10.9"
  }
 },
 "nbformat": 4,
 "nbformat_minor": 5
}
