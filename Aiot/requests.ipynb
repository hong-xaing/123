{
 "cells": [
  {
   "cell_type": "code",
   "execution_count": null,
   "id": "1e3f5941",
   "metadata": {},
   "outputs": [],
   "source": [
    "import requests\n",
    "# F12 look network >command + R > index > 確認要求方法\n",
    "# 找到agent裡面隨便用一個打開\n",
    "headers = {\"User-Agent\":\"Chrome/116.0.0.0\"}\n",
    "url = \"https://goodinfo.tw/tw/index.asp\"\n",
    "res = requests.get(url,headers=headers)\n",
    "\n",
    "# 解碼\n",
    "res.encoding = \"utf-8\"\n",
    "print(res)\n",
    "# soup = BeautifulSoup(res.text,\"lxml\")\n",
    "# print (res.text)\n"
   ]
  },
  {
   "cell_type": "code",
   "execution_count": null,
   "id": "0d0ff45b",
   "metadata": {},
   "outputs": [],
   "source": [
    "import requests\n",
    "import json\n",
    "url = \"https://www.tpex.org.tw/web/stock/aftertrading/daily_trading_info/st43_result.php?l=zh-tw&d=112/08&stkno=4905&_=1692676135183\"\n",
    "headers = {\"User-Agent\":\"Chrome/116.0.0.0\"}\n",
    "# payload = json.loads('{\"promotionid\":156847592116227,\"categoryid\":0,\"itemids\":[14935404262,1717333578,670560873,8903205420,1436760706,158220308,12798224013,10098503987,1396599654,5519328843,16173195396,15082693079,10062670988,5850657759,2350392364,19161601768],\"limit\":16,\"with_dp_items\":true}')\n",
    "res = requests.get(url,headers=headers)\n",
    "jd = json.loads(res.text)\n",
    "res.encoding = \"utf-8\"\n",
    "print(res.text)\n",
    "# \\u53f0\\u806f\\u96fb   是json格式"
   ]
  },
  {
   "cell_type": "code",
   "execution_count": null,
   "id": "925b9c61",
   "metadata": {
    "scrolled": false
   },
   "outputs": [],
   "source": [
    "import requests\n",
    "import json\n",
    "url = \"https://www.tpex.org.tw/web/stock/aftertrading/daily_trading_info/st43_result.php?l=zh-tw&d=112/08&stkno=4905&_=1692676135183\"\n",
    "res = requests.get(url)\n",
    "jd = json.loads(res.text)\n",
    "print(jd)"
   ]
  },
  {
   "cell_type": "code",
   "execution_count": null,
   "id": "77fd27dd",
   "metadata": {},
   "outputs": [],
   "source": [
    "import pandas as pd\n",
    "columns = [\"日期\",\"成交千股\",\"成交千元\",\"開盤\",\"最高\",\"最低\",\"收盤\",\"漲幅\",\"筆數\"]\n",
    "data = pd.DataFrame(jd[\"aaData\"],columns=columns)\n",
    "data.set_index(\"日期\",inplace = True)\n",
    "\n",
    "# index = (list(data.日期))\n",
    "# data = pd.DataFrame(jd[\"aaData\"],index = index ,columns=columns)\n",
    "# data.drop(labels = [\"日期\"],axis = \"columns\",inplace = True)\n",
    "display(data)\n",
    "\n",
    "# print(data)"
   ]
  },
  {
   "cell_type": "code",
   "execution_count": null,
   "id": "99647baf",
   "metadata": {},
   "outputs": [],
   "source": []
  },
  {
   "cell_type": "code",
   "execution_count": null,
   "id": "3620db3d",
   "metadata": {},
   "outputs": [],
   "source": []
  },
  {
   "cell_type": "code",
   "execution_count": null,
   "id": "2305676d",
   "metadata": {},
   "outputs": [],
   "source": [
    "for st in jd['aaData']:\n",
    "#     jdlist.append(st)\n",
    "    print(\"日期:\",st[0])"
   ]
  },
  {
   "cell_type": "code",
   "execution_count": null,
   "id": "7ccf15ed",
   "metadata": {
    "scrolled": true
   },
   "outputs": [],
   "source": [
    "import openpyxl\n",
    "wb = openpyxl.Workbook()\n",
    "ws = wb.active\n",
    "jds = jd['aaData']\n",
    "\n",
    "jdlist = []\n",
    "ws[A1] = \"日期\"\n",
    "ws[B1] = \"成交千股\"\n",
    "ws[C1] = \"成交千元\"\n",
    "ws[D1] = \"開盤\"\n",
    "ws[E1] = \"最高\"\n",
    "ws[F1] = \"最低\"\n",
    "ws[G1] = \"收盤\"\n",
    "ws[H1] = \"漲幅\"\n",
    "ws[I1] = \"筆數\"\n",
    "for i in jds:\n",
    "    jdlist.append(i)\n",
    "print(jdlist)"
   ]
  },
  {
   "cell_type": "code",
   "execution_count": null,
   "id": "7a9375ae",
   "metadata": {
    "scrolled": true
   },
   "outputs": [],
   "source": [
    "print(1,2,3,4,5,6,sep = \",\",end=\"02\")\n",
    "print(1,2,3)"
   ]
  },
  {
   "cell_type": "code",
   "execution_count": null,
   "id": "7b2f353d",
   "metadata": {},
   "outputs": [],
   "source": [
    "# 寫入\n",
    "f = open(\"test.txt\",\"w\",encoding ='utf8')\n",
    "f.write(\"abcde\\nfg哭哇\")\n",
    "f.close()"
   ]
  },
  {
   "cell_type": "code",
   "execution_count": null,
   "id": "5ccff4b2",
   "metadata": {},
   "outputs": [],
   "source": [
    "# 讀取 r 只能讀不能寫,r+ 能讀能寫\n",
    "f = open(\"test.txt\",\"r+\",encoding ='utf8')\n",
    "\n",
    "print(f.read(),0)\n",
    "f.seek(0)\n",
    "# wi = input(\"請\")\n",
    "f.write(\"酷\")\n",
    "# 游標移動到最前面\n",
    "f.seek(0)\n",
    "# print(\"ppp\",file = f)\n",
    "print(f.read())\n",
    "f.close()"
   ]
  },
  {
   "cell_type": "code",
   "execution_count": null,
   "id": "ba0c37df",
   "metadata": {},
   "outputs": [],
   "source": [
    "f = open(\"test.txt\",\"r+\",encoding ='utf8')\n",
    "a = f.read()\n",
    "# seek 第二位數 0是最前面 , 1從最前面取第幾個位置,2從後面數第幾個位置b\n",
    "f.seek(0,2)\n",
    "f.write(\"帥\")\n",
    "print (\"哭\" + a)\n"
   ]
  },
  {
   "cell_type": "code",
   "execution_count": null,
   "id": "526ed982",
   "metadata": {},
   "outputs": [],
   "source": [
    "# append效果\n",
    "f = open(\"test.txt\",\"a\",encoding ='utf8')\n",
    "f.write(\"258\")\n",
    "f.close()"
   ]
  },
  {
   "cell_type": "code",
   "execution_count": null,
   "id": "f009100d",
   "metadata": {},
   "outputs": [],
   "source": [
    "with open(\"test.txt\",\"a+\",encoding ='utf8') as f :\n",
    "    print (f.read())"
   ]
  },
  {
   "cell_type": "code",
   "execution_count": 27,
   "id": "fef3ee8e",
   "metadata": {},
   "outputs": [
    {
     "name": "stdout",
     "output_type": "stream",
     "text": [
      "{'parameterName': '多雲', 'parameterValue': '4'}\n",
      "{'parameterName': '多雲時晴', 'parameterValue': '3'}\n",
      "{'parameterName': '多雲午後短暫雷陣雨', 'parameterValue': '22'}\n",
      "{'parameterName': '20', 'parameterUnit': '百分比'}\n",
      "{'parameterName': '20', 'parameterUnit': '百分比'}\n",
      "{'parameterName': '30', 'parameterUnit': '百分比'}\n",
      "{'parameterName': '31', 'parameterUnit': 'C'}\n",
      "{'parameterName': '27', 'parameterUnit': 'C'}\n",
      "{'parameterName': '27', 'parameterUnit': 'C'}\n",
      "{'parameterName': '悶熱至易中暑'}\n",
      "{'parameterName': '舒適至悶熱'}\n",
      "{'parameterName': '舒適至易中暑'}\n",
      "{'parameterName': '34', 'parameterUnit': 'C'}\n",
      "{'parameterName': '31', 'parameterUnit': 'C'}\n",
      "{'parameterName': '34', 'parameterUnit': 'C'}\n"
     ]
    }
   ],
   "source": [
    "import requests\n",
    "import json\n",
    "url = \"https://opendata.cwb.gov.tw/api/v1/rest/datastore/F-C0032-001?Authorization=CWB-B353DC48-B9F4-4CEE-9D70-CC4D3D58077B&locationName=%E8%87%BA%E4%B8%AD%E5%B8%82\"\n",
    "# headers = {\"User-Agent\":\"Chrome/116.0.0.0\"}\n",
    "# payload = json.loads('{\"promotionid\":156847592116227,\"categoryid\":0,\"itemids\":[14935404262,1717333578,670560873,8903205420,1436760706,158220308,12798224013,10098503987,1396599654,5519328843,16173195396,15082693079,10062670988,5850657759,2350392364,19161601768],\"limit\":16,\"with_dp_items\":true}')\n",
    "res = requests.get(url)\n",
    "jd = json.loads(res.text)\n",
    "res.encoding = \"utf-8\"\n",
    "# print(jd)\n",
    "# print(jd['records']['location'][0])\n",
    "weatherElement = jd['records']['location'][0]['weatherElement']\n",
    "# print(weatherElement)\n",
    "# weatherlist = []\n",
    "for weather1 in weatherElement :\n",
    "    for i in weather1['time'] :\n",
    "        weather = i['parameter']\n",
    "        print(weather)\n",
    "#     weatherlist.append(weather)\n",
    "#     print(weatherlist)\n",
    "# print(weatherlist)\n",
    "# \\u53f0\\u806f\\u96fb   是json格式"
   ]
  },
  {
   "cell_type": "code",
   "execution_count": 29,
   "id": "043b21f3",
   "metadata": {},
   "outputs": [
    {
     "name": "stdout",
     "output_type": "stream",
     "text": [
      "臺中市\n",
      "Wx\n",
      "2023-08-22 - 12:00:00 - 2023-08-22 - 18:00:00 - 多雲 4 \n",
      "2023-08-22 - 18:00:00 - 2023-08-23 - 06:00:00 - 多雲時晴 3 \n",
      "2023-08-23 - 06:00:00 - 2023-08-23 - 18:00:00 - 多雲午後短暫雷陣雨 22 \n",
      "PoP\n",
      "2023-08-22 - 12:00:00 - 2023-08-22 - 18:00:00 - 20 百分比 \n",
      "2023-08-22 - 18:00:00 - 2023-08-23 - 06:00:00 - 20 百分比 \n",
      "2023-08-23 - 06:00:00 - 2023-08-23 - 18:00:00 - 30 百分比 \n",
      "MinT\n",
      "2023-08-22 - 12:00:00 - 2023-08-22 - 18:00:00 - 31 C \n",
      "2023-08-22 - 18:00:00 - 2023-08-23 - 06:00:00 - 27 C \n",
      "2023-08-23 - 06:00:00 - 2023-08-23 - 18:00:00 - 27 C \n",
      "CI\n",
      "2023-08-22 - 12:00:00 - 2023-08-22 - 18:00:00 - 悶熱至易中暑 \n",
      "2023-08-22 - 18:00:00 - 2023-08-23 - 06:00:00 - 舒適至悶熱 \n",
      "2023-08-23 - 06:00:00 - 2023-08-23 - 18:00:00 - 舒適至易中暑 \n",
      "MaxT\n",
      "2023-08-22 - 12:00:00 - 2023-08-22 - 18:00:00 - 34 C \n",
      "2023-08-22 - 18:00:00 - 2023-08-23 - 06:00:00 - 31 C \n",
      "2023-08-23 - 06:00:00 - 2023-08-23 - 18:00:00 - 34 C \n"
     ]
    }
   ],
   "source": [
    "location = jd['records']['location'][0]['locationName']\n",
    "print(location)\n",
    "for att in jd['records']['location'][0]['weatherElement']:\n",
    "    print(att['elementName'])\n",
    "    for time in att[\"time\"]:\n",
    "        for st in time:\n",
    "            if st.endswith(\"Time\"):\n",
    "                print(time[st][:10],end=\" - \")\n",
    "                print(time[st][11:],end=\" - \")\n",
    "            else:\n",
    "                for pa in time[st]:\n",
    "                    print(time[st][pa],end=\" \")\n",
    "                print()"
   ]
  },
  {
   "cell_type": "code",
   "execution_count": null,
   "id": "38c2e2ae",
   "metadata": {},
   "outputs": [],
   "source": []
  },
  {
   "cell_type": "code",
   "execution_count": null,
   "id": "5bcfc0fa",
   "metadata": {},
   "outputs": [],
   "source": []
  }
 ],
 "metadata": {
  "kernelspec": {
   "display_name": "Python 3 (ipykernel)",
   "language": "python",
   "name": "python3"
  },
  "language_info": {
   "codemirror_mode": {
    "name": "ipython",
    "version": 3
   },
   "file_extension": ".py",
   "mimetype": "text/x-python",
   "name": "python",
   "nbconvert_exporter": "python",
   "pygments_lexer": "ipython3",
   "version": "3.10.9"
  }
 },
 "nbformat": 4,
 "nbformat_minor": 5
}
