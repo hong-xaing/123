{
 "cells": [
  {
   "cell_type": "code",
   "execution_count": null,
   "id": "c649e574",
   "metadata": {},
   "outputs": [],
   "source": [
    "# 目的分析從舊遊戲到新遊戲的銷售情況分析出大眾玩家在購買的時間區間,購買的價格,\n",
    "# 購買的種類類型,判斷就遊戲在退流行時候的定價,以及剛上市的定價會不會因為遊戲的ＧＢ容量大小影響\n",
    "# 回傳年份(點進去可以看到他的發行日),回傳價格(定價),回傳購買人氣（最暢銷亦或是下載最多次數),\n",
    "# 回傳遊戲種類(冒險類還是戰略類型),回傳購買年齡(如果有就用沒有就算了),回傳需要的最建議遊戲配備（ps4 or ps5)\n",
    "# https://store.playstation.com/zh-hant-tw/category/05a2d027-cedc-4ac0-abeb-8fc26fec7180/1?ACTION=productGenres&ADVENTURE=productGenres&ROLE_PLAYING_GAMES=productGenres"
   ]
  },
  {
   "cell_type": "code",
   "execution_count": null,
   "id": "5f4a4ec4",
   "metadata": {},
   "outputs": [],
   "source": []
  },
  {
   "cell_type": "code",
   "execution_count": null,
   "id": "f7854f55",
   "metadata": {},
   "outputs": [],
   "source": [
    "from bs4 import BeautifulSoup\n",
    "import requests  #引入外部\n",
    "\n",
    "url = \"https://store.playstation.com/zh-hant-tw/pages/browse\"\n",
    "\n",
    "res = requests.get(url)\n",
    "# soup = BeautifulSoup(f.read(),\"html\")\n",
    "soup = BeautifulSoup(res.text,\"lxml\")\n",
    "# soup\n",
    "class_1=\"psw-l-w-1/2@mobile-s psw-l-w-1/2@mobile-l psw-l-w-1/6@tablet-l psw-l-w-1/4@tablet-s psw-l-w-1/6@laptop psw-l-w-1/8@desktop psw-l-w-1/8@max\"\n",
    "jobs = soup.find_all(\"li\",class_=class_1)\n",
    "# (\"span\")[3].text\n",
    "for job in jobs :\n",
    "    print(job(\"span\")[3].text)\n",
    "# print(jobs)\n",
    "\n",
    "# games()"
   ]
  },
  {
   "cell_type": "code",
   "execution_count": 9,
   "id": "9774b35a",
   "metadata": {},
   "outputs": [
    {
     "name": "stdout",
     "output_type": "stream",
     "text": [
      "{'id': 'HP6238-PPSA02428_00-0087645165886036', 'index': 0, 'name': 'Farming Simulator 22 - Premium Edition (簡體中文, 韓文, 英文, 繁體中文, 日文)', 'price': 'NT$1,790', 'titleId': 'PPSA02428_00'}\n",
      "{'id': 'JP0001-CUSA26573_00-THECREWORL000000', 'index': 1, 'name': '《飆酷車神：動力慶典》標準版 (中日英韓文版)', 'price': 'NT$1,790', 'titleId': 'CUSA26573_00'}\n",
      "{'id': 'UP1001-CUSA42311_00-NBA2K24000000000', 'index': 2, 'name': 'PS4™《NBA 2K24》Kobe Bryant版 (中日英韓文版)', 'price': 'NT$1,790', 'titleId': 'CUSA42311_00'}\n",
      "{'id': 'HP0036-PPSA15206_00-CRYDXSET00000001', 'index': 3, 'name': 'CRYMACHINA 慟哭奇機 打滿分喔版 (韓文, 繁體中文, 日文)', 'price': 'NT$2,120', 'titleId': 'PPSA15206_00'}\n",
      "{'id': 'HP0036-PPSA15206_00-CRYDXSET00000002', 'index': 4, 'name': 'CRYMACHINA 慟哭奇機 打滿分喔終極版 (韓文, 繁體中文, 日文)', 'price': 'NT$2,550', 'titleId': 'PPSA15206_00'}\n",
      "{'id': 'HP0036-PPSA15206_00-CRYMACHINAGAME00', 'index': 5, 'name': 'CRYMACHINA 慟哭奇機 普通版 (韓文, 繁體中文, 日文)', 'price': 'NT$1,690', 'titleId': 'PPSA15206_00'}\n",
      "{'id': 'UP0006-CUSA09209_00-TS4EP14EAIBUNDLE', 'index': 6, 'name': '《The Sims™ 4 駿馬牧場》資料片 (追加內容)', 'price': 'NT$1,198', 'titleId': 'CUSA09209_00'}\n",
      "{'id': 'UP4108-CUSA42979_00-HDDBOOT000000004', 'index': 7, 'name': '信長之野望･新生 with 威力加強版 (英文)', 'price': 'NT$2,290', 'titleId': 'CUSA42979_00'}\n",
      "{'id': 'UP4108-CUSA42979_00-HDDBOOTDDX000004', 'index': 8, 'name': '信長之野望･新生 with 威力加強版 數位豪華版 (英文)', 'price': 'NT$3,360', 'titleId': 'CUSA42979_00'}\n",
      "{'id': 'JP0106-CUSA23843_00-HDDBOOTDDX000003', 'index': 9, 'name': '信長之野望･新生 威力加強版 數位豪華版 (追加內容)', 'price': 'NT$2,160', 'titleId': 'CUSA23843_00'}\n",
      "{'id': 'JP0106-CUSA23843_00-HDDBOOT000000004', 'index': 10, 'name': '信長之野望･新生 with 威力加強版 (簡體中文, 繁體中文, 日文)', 'price': 'NT$2,290', 'titleId': 'CUSA23843_00'}\n",
      "{'id': 'JP0106-CUSA23843_00-HDDBOOTDDX000004', 'index': 11, 'name': '信長之野望･新生 with 威力加強版 數位豪華版 (簡體中文, 繁體中文, 日文)', 'price': 'NT$3,360', 'titleId': 'CUSA23843_00'}\n",
      "{'id': 'JP1201-CUSA29773_00-WMDCJA2021000003', 'index': 12, 'name': '被遺忘的我們（War Mongrels） (簡體中文, 韓文, 英文, 繁體中文, 日文)', 'price': 'NT$1,090', 'titleId': 'CUSA29773_00'}\n",
      "{'id': 'EP1302-PPSA10677_00-1951183246892116', 'index': 13, 'name': 'Gravity Circuit PS4™ & PS5™ (簡體中文, 韓文, 英文, 繁體中文, 日文)', 'price': 'NT$669', 'titleId': 'PPSA10677_00'}\n",
      "{'id': 'JP0078-PPSA15957_00-SUPERTRUNKOGO000', 'index': 14, 'name': 'Super Trunko Go PS4 & PS5 (韓文, 英文, 繁體中文, 日文)', 'price': 'NT$300', 'titleId': 'PPSA15957_00'}\n",
      "{'id': 'HP0700-PPSA02796_00-TOARISESNXBUNDLE', 'index': 15, 'name': '破曉傳奇 + 緋紅結繫 套組 PS4 & PS5 (簡體中文, 韓文, 繁體中文)', 'price': 'NT$2,690', 'titleId': 'PPSA02796_00'}\n",
      "{'id': 'UP0102-PPSA01622_00-COSLOADBUNDLES01', 'index': 16, 'name': 'Exoprimal - 極限套件 1 (追加內容)', 'price': 'NT$1,230', 'titleId': 'PPSA01622_00'}\n",
      "{'id': 'UP0102-PPSA01622_00-COSMETICBUNDLES1', 'index': 17, 'name': 'Exoprimal - 造型包 1 (追加內容)', 'price': 'NT$620', 'titleId': 'PPSA01622_00'}\n",
      "{'id': 'UP0102-PPSA01622_00-EXOPRIMAL2023000', 'index': 18, 'name': 'Exoprimal PS4 & PS5 (簡體中文, 韓文, 英文, 繁體中文, 日文)', 'price': 'NT$1,849', 'titleId': 'PPSA01622_00'}\n",
      "{'id': 'UP0102-PPSA01622_00-EXOPRIMALDELUXE0', 'index': 19, 'name': 'Exoprimal 豪華版 (簡體中文, 韓文, 英文, 繁體中文, 日文)', 'price': 'NT$2,149', 'titleId': 'PPSA01622_00'}\n",
      "{'id': 'EB0198-CUSA44222_00-0065050408367995', 'index': 20, 'name': 'Pocket Soccer (英文)', 'price': 'NT$60', 'titleId': 'CUSA44222_00'}\n",
      "{'id': 'EB0198-CUSA44179_00-0555502254673413', 'index': 21, 'name': 'Pure Mini Golf (英文)', 'price': 'NT$150', 'titleId': 'CUSA44179_00'}\n",
      "{'id': 'JP0571-CUSA43275_00-HAMPRDC000000001', 'index': 22, 'name': 'Arcade Archives STRATO FIGHTER (英文, 日文)', 'price': 'NT$277', 'titleId': 'CUSA43275_00'}\n",
      "{'id': 'HP0106-PPSA10906_00-APPA01REMAKE0000', 'index': 23, 'name': '瑪莉的鍊金工房 Remake ～薩爾布魯克的鍊金術士～ (PS4 & PS5) (簡體中文, 韓文, 英文, 繁體中文)', 'price': 'NT$1,590', 'titleId': 'PPSA10906_00'}\n"
     ]
    }
   ],
   "source": [
    "from bs4 import BeautifulSoup\n",
    "import requests  #引入外部\n",
    "import json\n",
    "\n",
    "url = \"https://store.playstation.com/zh-hant-tw/category/5f3aa730-1c8e-4a18-84da-030bb91558c0/1\"\n",
    "res = requests.get(url)\n",
    "# soup = BeautifulSoup(f.read(),\"html\")\n",
    "soup = BeautifulSoup(res.text,\"lxml\")\n",
    "# soup\n",
    "class_1=\"psw-l-w-1/2@mobile-s psw-l-w-1/2@mobile-l psw-l-w-1/6@tablet-l psw-l-w-1/4@tablet-s psw-l-w-1/6@laptop psw-l-w-1/8@desktop psw-l-w-1/8@max\"\n",
    "jobs = soup.find_all(\"li\",class_=class_1)\n",
    "# print(jobs)\n",
    "for job in jobs:\n",
    "    data_telemetry_meta = job.find(\"a\").get(\"data-telemetry-meta\")\n",
    "    meta_data = json.loads(data_telemetry_meta)\n",
    "#     print(data_telemetry_meta)\n",
    "    print(meta_data)\n",
    "    product_name = meta_data['name']\n",
    "    product_price = meta_data['price']\n",
    "# 打印提取的字段值\n",
    "\n",
    "#     print(\"Product Name:\", product_name)\n",
    "#     print(\"Product Price:\", product_price)\n",
    "#     print(\"--------------------------------------------------\")\n",
    "\n"
   ]
  },
  {
   "cell_type": "code",
   "execution_count": null,
   "id": "d88e7242",
   "metadata": {},
   "outputs": [],
   "source": [
    "from bs4 import BeautifulSoup\n",
    "import requests\n",
    "import json\n",
    "\n",
    "url = \"https://store.playstation.com/zh-hant-tw/category/5f3aa730-1c8e-4a18-84da-030bb91558c0/1\"\n",
    "\n",
    "res = requests.get(url)\n",
    "soup = BeautifulSoup(res.text, \"lxml\")\n",
    "\n",
    "class_1 = \"psw-l-w-1/2@mobile-s psw-l-w-1/2@mobile-l psw-l-w-1/6@tablet-l psw-l-w-1/4@tablet-s psw-l-w-1/6@laptop psw-l-w-1/8@desktop psw-l-w-1/8@max\"\n",
    "jobs = soup.find_all(\"li\", class_=class_1)\n",
    "\n",
    "for job in jobs:\n",
    "    data_telemetry_meta = job.find(\"a\").get(\"data-telemetry-meta\")\n",
    "    meta_data = json.loads(data_telemetry_meta)\n",
    "\n",
    "    product_name = meta_data['name']\n",
    "    product_price = meta_data['price']\n",
    "\n",
    "    print(\"Product Name:\", product_name)\n",
    "    print(\"Product Price:\", product_price)\n",
    "    print(\"---\")\n"
   ]
  }
 ],
 "metadata": {
  "kernelspec": {
   "display_name": "Python 3 (ipykernel)",
   "language": "python",
   "name": "python3"
  },
  "language_info": {
   "codemirror_mode": {
    "name": "ipython",
    "version": 3
   },
   "file_extension": ".py",
   "mimetype": "text/x-python",
   "name": "python",
   "nbconvert_exporter": "python",
   "pygments_lexer": "ipython3",
   "version": "3.10.9"
  }
 },
 "nbformat": 4,
 "nbformat_minor": 5
}
