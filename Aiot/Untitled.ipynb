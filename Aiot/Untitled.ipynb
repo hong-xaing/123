{
 "cells": [
  {
   "cell_type": "code",
   "execution_count": null,
   "id": "441e002b",
   "metadata": {},
   "outputs": [],
   "source": [
    "sudo  執行最高權限\n",
    "client server 相互呼叫\n",
    "ping Ip4v"
   ]
  }
 ],
 "metadata": {
  "kernelspec": {
   "display_name": "Python 3 (ipykernel)",
   "language": "python",
   "name": "python3"
  },
  "language_info": {
   "codemirror_mode": {
    "name": "ipython",
    "version": 3
   },
   "file_extension": ".py",
   "mimetype": "text/x-python",
   "name": "python",
   "nbconvert_exporter": "python",
   "pygments_lexer": "ipython3",
   "version": "3.10.9"
  }
 },
 "nbformat": 4,
 "nbformat_minor": 5
}
