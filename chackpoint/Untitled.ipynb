{
 "cells": [
  {
   "cell_type": "code",
   "execution_count": 2,
   "id": "08ad8702",
   "metadata": {},
   "outputs": [
    {
     "name": "stdout",
     "output_type": "stream",
     "text": [
      "hello wrold\n"
     ]
    }
   ],
   "source": [
    "print(\"hello wrold\")"
   ]
  },
  {
   "cell_type": "code",
   "execution_count": null,
   "id": "be21d78f",
   "metadata": {},
   "outputs": [],
   "source": [
    "https://sourceforge.net/projects/git-osx-installer/\n",
    "iIerm      終端機\n",
    "指令\n",
    "git        確認是否下載\n",
    "ls         確認當前檔案\n",
    "cd /link   到下一頁\n",
    "cd ..      回到上一頁\n",
    "git init   開始備份git\n",
    "git status 確認有沒有備份\n",
    "git add .  要開始備份囉\n",
    "git commit -m \"vi\"\n",
    "git config --global user.email \"你的email\"\n",
    "git config --global user.name \"你的名字\""
   ]
  }
 ],
 "metadata": {
  "kernelspec": {
   "display_name": "Python 3 (ipykernel)",
   "language": "python",
   "name": "python3"
  },
  "language_info": {
   "codemirror_mode": {
    "name": "ipython",
    "version": 3
   },
   "file_extension": ".py",
   "mimetype": "text/x-python",
   "name": "python",
   "nbconvert_exporter": "python",
   "pygments_lexer": "ipython3",
   "version": "3.10.9"
  }
 },
 "nbformat": 4,
 "nbformat_minor": 5
}
