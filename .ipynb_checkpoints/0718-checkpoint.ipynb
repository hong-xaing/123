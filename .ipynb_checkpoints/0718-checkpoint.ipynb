{
 "cells": [
  {
   "cell_type": "code",
   "execution_count": 3,
   "id": "59e31722",
   "metadata": {},
   "outputs": [
    {
     "name": "stdout",
     "output_type": "stream",
     "text": [
      "hi master\n",
      "let's start the game\n"
     ]
    }
   ],
   "source": [
    "def start():\n",
    "    print(\"hi master\")\n",
    "    print(\"let's start the game\")\n",
    "\n",
    "start()\n",
    "\n",
    "def add_1(a): #a = 1\n",
    "    b = 1 \n",
    "    c = a+b\n",
    "    print (c)\n",
    "    \n",
    "add_1(1)"
   ]
  },
  {
   "cell_type": "code",
   "execution_count": 96,
   "id": "de401b6c",
   "metadata": {},
   "outputs": [
    {
     "name": "stdout",
     "output_type": "stream",
     "text": [
      "False\n",
      "雨天\n"
     ]
    }
   ],
   "source": [
    "# 輸入input 是True 就顯示晴天 False 就顯示 雨天 輸入其他的就顯示錯誤\n",
    "a = input()\n",
    "def weather(a):\n",
    "    if a == \"True\":\n",
    "        print(\"晴天\")\n",
    "    elif a == \"False\":\n",
    "        print(\"雨天\")\n",
    "    else:\n",
    "        print(\"輸入錯誤\")\n",
    "weather(a)\n"
   ]
  },
  {
   "cell_type": "code",
   "execution_count": null,
   "id": "25c14005",
   "metadata": {},
   "outputs": [],
   "source": []
  }
 ],
 "metadata": {
  "kernelspec": {
   "display_name": "Python 3 (ipykernel)",
   "language": "python",
   "name": "python3"
  },
  "language_info": {
   "codemirror_mode": {
    "name": "ipython",
    "version": 3
   },
   "file_extension": ".py",
   "mimetype": "text/x-python",
   "name": "python",
   "nbconvert_exporter": "python",
   "pygments_lexer": "ipython3",
   "version": "3.10.9"
  }
 },
 "nbformat": 4,
 "nbformat_minor": 5
}
